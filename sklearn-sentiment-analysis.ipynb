{
 "cells": [
  {
   "cell_type": "markdown",
   "metadata": {},
   "source": [
    "# BentoML Example: Sentiment Analysis with Scikit-learn"
   ]
  },
  {
   "cell_type": "markdown",
   "metadata": {
    "id": "CoELLznOjeMQ"
   },
   "source": [
    "* [Origin Notebook on Google Colab](https://colab.research.google.com/github/bentoml/gallery/blob/0.13-LTS/scikit-learn/sentiment-analysis/sklearn-sentiment-analysis.ipynb)\n",
    "\n",
    "* [Dataset](https://docs.google.com/file/d/0B04GJPshIjmPRnZManQwWEdTZjg/edit?resourcekey=0-betyQkEmWZgp8z0DFxWsHw) Already save a copy file in my google drive (under the `FileDisk` folder)\n",
    "\n",
    "* Requried packages with theirversions:\n",
    "\n",
    "> python=3.7\n",
    ">\n",
    "> bentoml=0.9.0\n",
    ">\n",
    "> protobuf=3.20.*\n",
    ">\n",
    "> sqlalchemy=1.3.*"
   ]
  },
  {
   "cell_type": "markdown",
   "metadata": {},
   "source": [
    "## 安裝Conda"
   ]
  },
  {
   "cell_type": "code",
   "execution_count": null,
   "metadata": {
    "colab": {
     "base_uri": "https://localhost:8080/"
    },
    "id": "ErTxJ7YCjeMQ",
    "outputId": "d569a018-d4c0-4612-acc0-2dcc1e5abaf0"
   },
   "outputs": [
    {
     "name": "stdout",
     "output_type": "stream",
     "text": [
      "⏬ Downloading https://github.com/jaimergp/miniforge/releases/download/24.11.2-1_colab/Miniforge3-colab-24.11.2-1_colab-Linux-x86_64.sh...\n",
      "📦 Installing...\n",
      "📌 Adjusting configuration...\n",
      "🩹 Patching environment...\n",
      "⏲ Done in 0:00:15\n",
      "🔁 Restarting kernel...\n"
     ]
    }
   ],
   "source": [
    "!pip install -q condacolab\n",
    "import condacolab\n",
    "condacolab.install()"
   ]
  },
  {
   "cell_type": "markdown",
   "metadata": {},
   "source": [
    "## 取得 trainingandtestdata.zip"
   ]
  },
  {
   "cell_type": "code",
   "execution_count": null,
   "metadata": {
    "colab": {
     "base_uri": "https://localhost:8080/"
    },
    "id": "CxsZkA3BjeMR",
    "outputId": "50991570-c17c-4749-ae1e-1ea8ad38bab0"
   },
   "outputs": [
    {
     "name": "stdout",
     "output_type": "stream",
     "text": [
      "Mounted at /content/drive/\n"
     ]
    }
   ],
   "source": [
    "import os\n",
    "\n",
    "from google.colab import drive\n",
    "\n",
    "drive.mount('/content/drive/')\n",
    "os.chdir('/content/drive/MyDrive/FileDisk')\n",
    "# os.listdir()\n",
    "# !mv trainingandtestdata.zip /content\n",
    "!cp trainingandtestdata.zip /content/trainingandtestdata.zip\n",
    "os.chdir('/content') ## 切換到 colab 使用者 default 目錄"
   ]
  },
  {
   "cell_type": "code",
   "execution_count": null,
   "metadata": {
    "id": "CPCuFVCejeMR"
   },
   "outputs": [],
   "source": [
    "# 似乎沒用到\n",
    "# %reload_ext autoreload\n",
    "# %autoreload 2\n",
    "# %matplotlib inline"
   ]
  },
  {
   "cell_type": "markdown",
   "metadata": {},
   "source": [
    "## 解壓 trainingandtestdata.zip"
   ]
  },
  {
   "cell_type": "code",
   "execution_count": null,
   "metadata": {
    "colab": {
     "base_uri": "https://localhost:8080/"
    },
    "id": "yFw_iD7wjeMS",
    "outputId": "ce39a656-4e5b-486b-e286-976f8eb9bfad"
   },
   "outputs": [
    {
     "name": "stdout",
     "output_type": "stream",
     "text": [
      "Archive:  trainingandtestdata.zip\n",
      "  inflating: testdata.manual.2009.06.14.csv  \n",
      "  inflating: training.1600000.processed.noemoticon.csv  \n"
     ]
    }
   ],
   "source": [
    "%%bash\n",
    "unzip -n trainingandtestdata.zip"
   ]
  },
  {
   "cell_type": "markdown",
   "metadata": {},
   "source": [
    "## 用 Conda 建立 virtual environment"
   ]
  },
  {
   "cell_type": "code",
   "execution_count": null,
   "metadata": {
    "colab": {
     "base_uri": "https://localhost:8080/"
    },
    "collapsed": true,
    "id": "X35Gr2aBjeMS",
    "outputId": "7f74a41a-a920-4fcb-98ea-cd3b220b693e"
   },
   "outputs": [
    {
     "name": "stdout",
     "output_type": "stream",
     "text": [
      "Channels:\n",
      " - conda-forge\n",
      "Platform: linux-64\n",
      "Collecting package metadata (repodata.json): ...working... done\n",
      "Solving environment: ...working... done\n",
      "\n",
      "## Package Plan ##\n",
      "\n",
      "  environment location: /content/env\n",
      "\n",
      "  added / updated specs:\n",
      "    - python=3.7\n",
      "\n",
      "\n",
      "The following NEW packages will be INSTALLED:\n",
      "\n",
      "  _libgcc_mutex      conda-forge/linux-64::_libgcc_mutex-0.1-conda_forge \n",
      "  _openmp_mutex      conda-forge/linux-64::_openmp_mutex-4.5-2_gnu \n",
      "  ca-certificates    conda-forge/linux-64::ca-certificates-2025.1.31-hbcca054_0 \n",
      "  ld_impl_linux-64   conda-forge/linux-64::ld_impl_linux-64-2.43-h712a8e2_4 \n",
      "  libffi             conda-forge/linux-64::libffi-3.4.6-h2dba641_0 \n",
      "  libgcc             conda-forge/linux-64::libgcc-14.2.0-h767d61c_2 \n",
      "  libgcc-ng          conda-forge/linux-64::libgcc-ng-14.2.0-h69a702a_2 \n",
      "  libgomp            conda-forge/linux-64::libgomp-14.2.0-h767d61c_2 \n",
      "  liblzma            conda-forge/linux-64::liblzma-5.6.4-hb9d3cd8_0 \n",
      "  liblzma-devel      conda-forge/linux-64::liblzma-devel-5.6.4-hb9d3cd8_0 \n",
      "  libnsl             conda-forge/linux-64::libnsl-2.0.1-hd590300_0 \n",
      "  libsqlite          conda-forge/linux-64::libsqlite-3.49.1-hee588c1_1 \n",
      "  libstdcxx          conda-forge/linux-64::libstdcxx-14.2.0-h8f9b012_2 \n",
      "  libstdcxx-ng       conda-forge/linux-64::libstdcxx-ng-14.2.0-h4852527_2 \n",
      "  libzlib            conda-forge/linux-64::libzlib-1.3.1-hb9d3cd8_2 \n",
      "  ncurses            conda-forge/linux-64::ncurses-6.5-h2d0b736_3 \n",
      "  openssl            conda-forge/linux-64::openssl-3.4.1-h7b32b05_0 \n",
      "  pip                conda-forge/noarch::pip-24.0-pyhd8ed1ab_0 \n",
      "  python             conda-forge/linux-64::python-3.7.12-hf930737_100_cpython \n",
      "  readline           conda-forge/linux-64::readline-8.2-h8c095d6_2 \n",
      "  setuptools         conda-forge/noarch::setuptools-69.0.3-pyhd8ed1ab_0 \n",
      "  sqlite             conda-forge/linux-64::sqlite-3.49.1-h9eae976_1 \n",
      "  tk                 conda-forge/linux-64::tk-8.6.13-noxft_h4845f30_101 \n",
      "  wheel              conda-forge/noarch::wheel-0.42.0-pyhd8ed1ab_0 \n",
      "  xz                 conda-forge/linux-64::xz-5.6.4-hbcc6ac9_0 \n",
      "  xz-gpl-tools       conda-forge/linux-64::xz-gpl-tools-5.6.4-hbcc6ac9_0 \n",
      "  xz-tools           conda-forge/linux-64::xz-tools-5.6.4-hb9d3cd8_0 \n",
      "\n",
      "\n",
      "Preparing transaction: ...working... done\n",
      "Verifying transaction: ...working... done\n",
      "Executing transaction: ...working... done\n"
     ]
    }
   ],
   "source": [
    "!conda create -p env python=3.7 -y -q"
   ]
  },
  {
   "cell_type": "markdown",
   "metadata": {},
   "source": [
    "## 在 env 下，安裝 `bentoml(0.9.0)`"
   ]
  },
  {
   "cell_type": "code",
   "execution_count": null,
   "metadata": {
    "collapsed": true,
    "id": "fJl6LHGSjeMS"
   },
   "outputs": [],
   "source": [
    "!source activate ./env; pip install -q 'bentoml==0.9.0'"
   ]
  },
  {
   "cell_type": "markdown",
   "metadata": {},
   "source": [
    "## 在 env 下，安裝 `scipy` 與 `matplotlib`"
   ]
  },
  {
   "cell_type": "code",
   "execution_count": null,
   "metadata": {
    "collapsed": true,
    "id": "tJPwxuxojeMT"
   },
   "outputs": [],
   "source": [
    "!source activate ./env; pip install -U scipy matplotlib --quiet"
   ]
  },
  {
   "cell_type": "markdown",
   "metadata": {},
   "source": [
    "## 在 env 下，安裝 `scikit-learn` 與 `pandas` 與 `numpy`"
   ]
  },
  {
   "cell_type": "code",
   "execution_count": null,
   "metadata": {
    "id": "OHSWOTvRjeMT"
   },
   "outputs": [],
   "source": [
    "!source activate ./env; pip install -q 'scikit-learn>=0.23.2' 'pandas>=1.1.1' 'numpy>=1.8.2'"
   ]
  },
  {
   "cell_type": "markdown",
   "metadata": {},
   "source": [
    "## 在 env 下，安裝 `protoful(3.20.X)`"
   ]
  },
  {
   "cell_type": "code",
   "execution_count": null,
   "metadata": {
    "id": "M5LKFbEXjeMT"
   },
   "outputs": [],
   "source": [
    "!source activate ./env; pip install protobuf==3.20.* -q"
   ]
  },
  {
   "cell_type": "markdown",
   "metadata": {},
   "source": [
    "## 在 env 下，安裝 `sqlalchemy(1.3.*)`"
   ]
  },
  {
   "cell_type": "code",
   "execution_count": null,
   "metadata": {
    "colab": {
     "base_uri": "https://localhost:8080/"
    },
    "id": "3FoSbxn2jeMT",
    "outputId": "2c1116fe-eb39-4bb0-e3df-948446f51843"
   },
   "outputs": [
    {
     "name": "stdout",
     "output_type": "stream",
     "text": [
      "\u001b[2K   \u001b[90m━━━━━━━━━━━━━━━━━━━━━━━━━━━━━━━━━━━━━━━━\u001b[0m \u001b[32m1.3/1.3 MB\u001b[0m \u001b[31m12.3 MB/s\u001b[0m eta \u001b[36m0:00:00\u001b[0m\n",
      "\u001b[?25h"
     ]
    }
   ],
   "source": [
    "!source activate ./env; pip install -q sqlalchemy==1.3.*"
   ]
  },
  {
   "cell_type": "markdown",
   "metadata": {},
   "source": [
    "## 訓練模型 sentiment_lr\n",
    "\n",
    "用 `pickle` 將模型 sentiment_lr 存起來成為 `sentiment_lf.pkl` "
   ]
  },
  {
   "cell_type": "code",
   "execution_count": null,
   "metadata": {
    "colab": {
     "base_uri": "https://localhost:8080/"
    },
    "id": "CnX7AAx-jeMU",
    "outputId": "15d1bfdd-3c4a-4d7f-e760-49d141d56bdb"
   },
   "outputs": [
    {
     "name": "stdout",
     "output_type": "stream",
     "text": [
      "              precision    recall  f1-score   support\n",
      "\n",
      "           0       0.86      0.81      0.83       177\n",
      "           4       0.82      0.87      0.85       182\n",
      "\n",
      "    accuracy                           0.84       359\n",
      "   macro avg       0.84      0.84      0.84       359\n",
      "weighted avg       0.84      0.84      0.84       359\n",
      "\n",
      "result= [4]\n"
     ]
    }
   ],
   "source": [
    "%%bash\n",
    "source activate ./env\n",
    "\n",
    "python\n",
    "\n",
    "import numpy as np\n",
    "import pandas as pd\n",
    "from sklearn.feature_extraction.text import CountVectorizer\n",
    "from sklearn.linear_model import LogisticRegression\n",
    "from sklearn.metrics import classification_report, roc_auc_score, roc_curve\n",
    "from sklearn.pipeline import Pipeline\n",
    "\n",
    "import bentoml\n",
    "\n",
    "log_model = LogisticRegression(solver='lbfgs', max_iter=1000)\n",
    "\n",
    "columns = ['polarity', 'tweetid', 'date', 'query_name', 'user', 'text']\n",
    "dftrain = pd.read_csv('training.1600000.processed.noemoticon.csv',\n",
    "                      header = None,\n",
    "                      encoding ='ISO-8859-1')\n",
    "dftest = pd.read_csv('testdata.manual.2009.06.14.csv',\n",
    "                     header = None,\n",
    "                     encoding ='ISO-8859-1')\n",
    "dftrain.columns = columns\n",
    "dftest.columns = columns\n",
    "\n",
    "sentiment_lr = Pipeline([\n",
    "                         ('count_vect', CountVectorizer(min_df = 100,\n",
    "                                                        ngram_range = (1,2),\n",
    "                                                        stop_words = 'english')),\n",
    "                         ('lr', log_model)])\n",
    "sentiment_lr.fit(dftrain.text, dftrain.polarity)\n",
    "\n",
    "Xtest, ytest = dftest.text[dftest.polarity!=2], dftest.polarity[dftest.polarity!=2]\n",
    "print(classification_report(ytest,sentiment_lr.predict(Xtest)))\n",
    "\n",
    "# sentiment_lr.predict([Xtest[0]])\n",
    "result=sentiment_lr.predict([Xtest[0]])\n",
    "print(\"result=\",result)\n",
    "\n",
    "\n",
    "import pickle\n",
    "\n",
    "# save the iris classification model as a pickle file\n",
    "model_pkl_file = \"sentiment_lf.pkl\"\n",
    "\n",
    "with open(model_pkl_file, 'wb') as file:\n",
    "    pickle.dump(sentiment_lr, file)"
   ]
  },
  {
   "cell_type": "markdown",
   "metadata": {},
   "source": [
    "## 建立 BentoService API "
   ]
  },
  {
   "cell_type": "code",
   "execution_count": null,
   "metadata": {
    "colab": {
     "base_uri": "https://localhost:8080/"
    },
    "id": "8xMAPbKHjeMU",
    "outputId": "7142fa3e-a309-4e1c-9b8a-5be7b12b1d68"
   },
   "outputs": [
    {
     "name": "stdout",
     "output_type": "stream",
     "text": [
      "Writing sentiment_analysis_service.py\n"
     ]
    }
   ],
   "source": [
    "%%writefile sentiment_analysis_service.py\n",
    "import pandas as pd\n",
    "import bentoml\n",
    "from bentoml.frameworks.sklearn import SklearnModelArtifact\n",
    "from bentoml.service.artifacts.common import PickleArtifact\n",
    "from bentoml.handlers import DataframeHandler\n",
    "from bentoml.adapters import DataframeInput\n",
    "\n",
    "@bentoml.artifacts([PickleArtifact('model')])\n",
    "@bentoml.env(pip_packages=[\"scikit-learn\", \"pandas\"])\n",
    "class SKSentimentAnalysis(bentoml.BentoService):\n",
    "\n",
    "    @bentoml.api(input=DataframeInput(), batch=True)\n",
    "    def predict(self, df):\n",
    "        \"\"\"\n",
    "        predict expects pandas.Series as input\n",
    "        \"\"\"\n",
    "        series = df.iloc[0,:]\n",
    "        return self.artifacts.model.predict(series)"
   ]
  },
  {
   "cell_type": "markdown",
   "metadata": {},
   "source": [
    "## 保存 BentoService 到檔案中\n",
    "\n",
    "BentoService 把 sentiment_lf 模型打包"
   ]
  },
  {
   "cell_type": "code",
   "execution_count": null,
   "metadata": {
    "colab": {
     "base_uri": "https://localhost:8080/"
    },
    "id": "PA-tiQKfjeMV",
    "outputId": "226fff6c-a7b7-4f18-a7ea-603cd902dc87"
   },
   "outputs": [
    {
     "name": "stdout",
     "output_type": "stream",
     "text": [
      "[2025-03-03 10:51:55,300] WARNING - bentoml.handlers.* will be deprecated after BentoML 1.0, use bentoml.adapters.* instead\n",
      "[2025-03-03 10:52:00,578] WARNING - pip package requirement pandas already exist\n",
      "[2025-03-03 10:52:31,308] INFO - BentoService bundle 'SKSentimentAnalysis:20250303105201_8A2A51' saved to: /root/bentoml/repository/SKSentimentAnalysis/20250303105201_8A2A51\n"
     ]
    }
   ],
   "source": [
    "%%bash\n",
    "\n",
    "source activate ./env\n",
    "\n",
    "python\n",
    "\n",
    "from sentiment_analysis_service import SKSentimentAnalysis\n",
    "import pickle\n",
    "\n",
    "model_pkl_file = \"sentiment_lf.pkl\"\n",
    "\n",
    "with open(model_pkl_file, 'rb') as file:\n",
    "    model = pickle.load(file)\n",
    "\n",
    "bento_service = SKSentimentAnalysis()\n",
    "bento_service.pack('model', model)\n",
    "\n",
    "saved_path = bento_service.save() ## Finally successful\n",
    "\n",
    "# train 過程中產生的 \"saved_path\"，被存到'var_obj.pkl'中\n",
    "var_file = \"var_obj.pkl\"\n",
    "\n",
    "with open(var_file, 'wb') as file:\n",
    "    pickle.dump(saved_path, file)"
   ]
  },
  {
   "cell_type": "code",
   "execution_count": null,
   "metadata": {
    "colab": {
     "base_uri": "https://localhost:8080/"
    },
    "id": "F6236qPVjeMW",
    "outputId": "c07a287d-a2ea-4b7d-e8a1-bb211a6e8066"
   },
   "outputs": [
    {
     "name": "stdout",
     "output_type": "stream",
     "text": [
      "\u001b[39mBENTO_SERVICE                              AGE                           APIS                                   ARTIFACTS              LABELS\n",
      "SKSentimentAnalysis:20250303072553_3E9744  13 minutes and 28.14 seconds  predict<DataframeInput:DefaultOutput>  model<PickleArtifact>\u001b[0m\n"
     ]
    }
   ],
   "source": [
    "!source activate ./env; bentoml list"
   ]
  },
  {
   "cell_type": "markdown",
   "metadata": {},
   "source": [
    "## 啟動 REST API model server 用上一節保存的 BentoService"
   ]
  },
  {
   "cell_type": "code",
   "execution_count": null,
   "metadata": {
    "colab": {
     "base_uri": "https://localhost:8080/"
    },
    "id": "mLwVqNxujeMW",
    "outputId": "d258a88f-b028-4e64-aa15-a1c71bdd2747"
   },
   "outputs": [
    {
     "name": "stdout",
     "output_type": "stream",
     "text": [
      "[2025-03-03 08:17:13,426] INFO - Getting latest version SKSentimentAnalysis:20250303072553_3E9744\n",
      "[2025-03-03 08:17:13,427] INFO - Starting BentoML API server in development mode..\n",
      "[2025-03-03 08:17:14,404] WARNING - bentoml.handlers.* will be deprecated after BentoML 1.0, use bentoml.adapters.* instead\n",
      "[2025-03-03 08:17:19,282] WARNING - pip package requirement pandas already exist\n",
      " * Serving Flask app 'SKSentimentAnalysis'\n",
      " * Debug mode: off\n",
      "\u001b[31m\u001b[1mWARNING: This is a development server. Do not use it in a production deployment. Use a production WSGI server instead.\u001b[0m\n",
      " * Running on http://127.0.0.1:5000\n",
      "\u001b[33mPress CTRL+C to quit\u001b[0m\n",
      "\n",
      "Aborted!\n"
     ]
    }
   ],
   "source": [
    "!source activate ./env; bentoml serve SKSentimentAnalysis:latest"
   ]
  },
  {
   "cell_type": "markdown",
   "metadata": {},
   "source": [
    "### 另法，但需要註冊 ngrok "
   ]
  },
  {
   "cell_type": "code",
   "execution_count": null,
   "metadata": {
    "id": "_Gs-LVgtjeMW"
   },
   "outputs": [],
   "source": [
    "!source activate ./env; bentoml serve SKSentimentAnalysis:latest --run-with-ngrok"
   ]
  },
  {
   "cell_type": "markdown",
   "metadata": {
    "id": "PyCmzxF5jeMW"
   },
   "source": [
    "## Load saved BentoService"
   ]
  },
  {
   "cell_type": "code",
   "execution_count": null,
   "metadata": {
    "colab": {
     "base_uri": "https://localhost:8080/"
    },
    "id": "NetYTwY-jeMX",
    "outputId": "bf89571f-5c90-407b-9602-c26471984390"
   },
   "outputs": [
    {
     "name": "stdout",
     "output_type": "stream",
     "text": [
      "[2025-03-03 10:56:01,951] WARNING - bentoml.handlers.* will be deprecated after BentoML 1.0, use bentoml.adapters.* instead\n",
      "[2025-03-03 10:56:06,151] WARNING - pip package requirement pandas already exist\n",
      "result= [4]\n"
     ]
    }
   ],
   "source": [
    "%%bash\n",
    "\n",
    "source activate ./env\n",
    "\n",
    "python\n",
    "\n",
    "import bentoml\n",
    "import pandas as pd\n",
    "\n",
    "# saved_path = \"/root/bentoml/repository/SKSentimentAnalysis/20250303095521_E343F0\" ## 測試用\n",
    "\n",
    "# train 過程中產生的 \"saved_path\"，被存到'var_obj.pkl'中，在此再從'var_obj.pkl'存取 \"saved_path\"\n",
    "import pickle\n",
    "var_file = \"var_obj.pkl\"\n",
    "\n",
    "with open(var_file, 'rb') as file:\n",
    "    saved_path = pickle.load(file)\n",
    "\n",
    "# Load exported bentoML model archive from path\n",
    "loaded_bento_service = bentoml.load(saved_path)\n",
    "\n",
    "# Call predict on the restored sklearn model\n",
    "result=loaded_bento_service.predict(pd.DataFrame(data=[\"good\", \"great\"]))\n",
    "print(\"result=\",result)"
   ]
  },
  {
   "cell_type": "markdown",
   "metadata": {
    "id": "BOHTB7rPjeMX"
   },
   "source": [
    "## Launch inference job from CLI"
   ]
  },
  {
   "cell_type": "code",
   "execution_count": null,
   "metadata": {
    "colab": {
     "base_uri": "https://localhost:8080/"
    },
    "id": "o27seJSBjeMX",
    "outputId": "4a437792-a17f-4d51-ee39-fcc11acb8c44"
   },
   "outputs": [
    {
     "name": "stdout",
     "output_type": "stream",
     "text": [
      "[2025-03-03 08:45:36,070] INFO - Getting latest version SKSentimentAnalysis:20250303072553_3E9744\n",
      "[2025-03-03 08:45:36,723] WARNING - bentoml.handlers.* will be deprecated after BentoML 1.0, use bentoml.adapters.* instead\n",
      "[2025-03-03 08:45:41,846] WARNING - pip package requirement pandas already exist\n",
      "[2025-03-03 08:45:42,363] INFO - {'service_name': 'SKSentimentAnalysis', 'service_version': '20250303072553_3E9744', 'api': 'predict', 'task': {'data': '[\"some new text, sweet noodles\", \"happy time\", \"sad day\"]', 'task_id': 'd2b2302b-1372-4ca2-9b82-d492d3c80413', 'batch': 3, 'cli_args': ('--input', '[\"some new text, sweet noodles\", \"happy time\", \"sad day\"]')}, 'result': {'data': '[4, 4, 4]', 'http_status': 200, 'http_headers': (('Content-Type', 'application/json'),)}, 'request_id': 'd2b2302b-1372-4ca2-9b82-d492d3c80413'}\n",
      "[4, 4, 4]\n"
     ]
    }
   ],
   "source": [
    "!source activate ./env; bentoml run SKSentimentAnalysis:latest predict \\\n",
    "--input '[\"some new text, sweet noodles\", \"happy time\", \"sad day\"]'"
   ]
  },
  {
   "cell_type": "code",
   "execution_count": null,
   "metadata": {
    "id": "HuzaJ4UdjeMY"
   },
   "outputs": [],
   "source": []
  }
 ],
 "metadata": {
  "kernelspec": {
   "display_name": "Python 3.8.9 64-bit",
   "language": "python",
   "name": "python3"
  },
  "language_info": {
   "name": "python",
   "version": "3.8.9"
  },
  "orig_nbformat": 4,
  "vscode": {
   "interpreter": {
    "hash": "19474b377433e26681bec06910cb7c945afa2d39e50483569fb199d272b8a48a"
   }
  }
 },
 "nbformat": 4,
 "nbformat_minor": 2
}
