{
  "cells": [
    {
      "cell_type": "markdown",
      "metadata": {
        "id": "view-in-github",
        "colab_type": "text"
      },
      "source": [
        "<a href=\"https://colab.research.google.com/github/henrykohl/bentoml-demo/blob/main/sklearn-sentiment-analysis.ipynb\" target=\"_parent\"><img src=\"https://colab.research.google.com/assets/colab-badge.svg\" alt=\"Open In Colab\"/></a>"
      ]
    },
    {
      "cell_type": "markdown",
      "metadata": {
        "id": "ZeK4KJj5Vi3g"
      },
      "source": [
        "# BentoML Example: Sentiment Analysis with Scikit-learn"
      ]
    },
    {
      "cell_type": "markdown",
      "metadata": {
        "id": "CoELLznOjeMQ"
      },
      "source": [
        "* [Origin Notebook on Google Colab](https://colab.research.google.com/github/bentoml/gallery/blob/0.13-LTS/scikit-learn/sentiment-analysis/sklearn-sentiment-analysis.ipynb)\n",
        "\n",
        "* [Dataset](https://docs.google.com/file/d/0B04GJPshIjmPRnZManQwWEdTZjg/edit?resourcekey=0-betyQkEmWZgp8z0DFxWsHw) Already save a copy file in my google drive (under the `FileDisk` folder)\n",
        "\n",
        "* Requried packages with theirversions:\n",
        "\n",
        "> python=3.7\n",
        ">\n",
        "> bentoml=0.9.0\n",
        ">\n",
        "> protobuf=3.20.*\n",
        ">\n",
        "> sqlalchemy=1.3.*"
      ]
    },
    {
      "cell_type": "markdown",
      "metadata": {
        "id": "ffAKOgADVi3p"
      },
      "source": [
        "## 安裝Conda"
      ]
    },
    {
      "cell_type": "code",
      "execution_count": null,
      "metadata": {
        "colab": {
          "base_uri": "https://localhost:8080/"
        },
        "id": "ErTxJ7YCjeMQ",
        "outputId": "9b678de4-1d8b-4c26-dcfd-ea083a7e9dad"
      },
      "outputs": [
        {
          "output_type": "stream",
          "name": "stdout",
          "text": [
            "⏬ Downloading https://github.com/jaimergp/miniforge/releases/download/24.11.2-1_colab/Miniforge3-colab-24.11.2-1_colab-Linux-x86_64.sh...\n",
            "📦 Installing...\n",
            "📌 Adjusting configuration...\n",
            "🩹 Patching environment...\n",
            "⏲ Done in 0:00:14\n",
            "🔁 Restarting kernel...\n"
          ]
        }
      ],
      "source": [
        "!pip install -q condacolab\n",
        "import condacolab\n",
        "condacolab.install()"
      ]
    },
    {
      "cell_type": "markdown",
      "metadata": {
        "id": "TKxusHxsVi3w"
      },
      "source": [
        "## 取得 trainingandtestdata.zip"
      ]
    },
    {
      "cell_type": "code",
      "execution_count": null,
      "metadata": {
        "colab": {
          "base_uri": "https://localhost:8080/"
        },
        "id": "CxsZkA3BjeMR",
        "outputId": "1b659e97-722b-4dee-bd5b-7c5e978f7889"
      },
      "outputs": [
        {
          "output_type": "stream",
          "name": "stdout",
          "text": [
            "Mounted at /content/drive/\n"
          ]
        }
      ],
      "source": [
        "import os\n",
        "\n",
        "from google.colab import drive\n",
        "\n",
        "drive.mount('/content/drive/')\n",
        "os.chdir('/content/drive/MyDrive/FileDisk')\n",
        "# os.listdir()\n",
        "# !mv trainingandtestdata.zip /content\n",
        "!cp trainingandtestdata.zip /content/trainingandtestdata.zip\n",
        "os.chdir('/content') ## 切換到 colab 使用者 default 目錄"
      ]
    },
    {
      "cell_type": "code",
      "execution_count": null,
      "metadata": {
        "id": "CPCuFVCejeMR"
      },
      "outputs": [],
      "source": [
        "# 似乎沒用到\n",
        "%reload_ext autoreload\n",
        "%autoreload 2\n",
        "%matplotlib inline"
      ]
    },
    {
      "cell_type": "markdown",
      "metadata": {
        "id": "t_XeTIn2Vi31"
      },
      "source": [
        "## 解壓 trainingandtestdata.zip"
      ]
    },
    {
      "cell_type": "code",
      "execution_count": null,
      "metadata": {
        "colab": {
          "base_uri": "https://localhost:8080/"
        },
        "id": "yFw_iD7wjeMS",
        "outputId": "784cc601-4e7e-4fbd-94ee-999691887cdc"
      },
      "outputs": [
        {
          "output_type": "stream",
          "name": "stdout",
          "text": [
            "Archive:  trainingandtestdata.zip\n",
            "  inflating: testdata.manual.2009.06.14.csv  \n",
            "  inflating: training.1600000.processed.noemoticon.csv  \n"
          ]
        }
      ],
      "source": [
        "%%bash\n",
        "unzip -n trainingandtestdata.zip"
      ]
    },
    {
      "cell_type": "markdown",
      "metadata": {
        "id": "5ark99pJVi34"
      },
      "source": [
        "## 用 Conda 建立 virtual environment"
      ]
    },
    {
      "cell_type": "code",
      "execution_count": null,
      "metadata": {
        "colab": {
          "base_uri": "https://localhost:8080/"
        },
        "collapsed": true,
        "id": "X35Gr2aBjeMS",
        "outputId": "b23bc642-eaf2-4ae3-9228-14d4bafe2e9e"
      },
      "outputs": [
        {
          "output_type": "stream",
          "name": "stdout",
          "text": [
            "Channels:\n",
            " - conda-forge\n",
            "Platform: linux-64\n",
            "Collecting package metadata (repodata.json): ...working... done\n",
            "Solving environment: ...working... done\n",
            "\n",
            "## Package Plan ##\n",
            "\n",
            "  environment location: /content/env\n",
            "\n",
            "  added / updated specs:\n",
            "    - python=3.7\n",
            "\n",
            "\n",
            "The following packages will be downloaded:\n",
            "\n",
            "    package                    |            build\n",
            "    ---------------------------|-----------------\n",
            "    ca-certificates-2025.1.31  |       hbcca054_0         154 KB  conda-forge\n",
            "    ld_impl_linux-64-2.43      |       h712a8e2_4         656 KB  conda-forge\n",
            "    libffi-3.4.6               |       h2dba641_1          56 KB  conda-forge\n",
            "    libgcc-14.2.0              |       h767d61c_2         828 KB  conda-forge\n",
            "    libgcc-ng-14.2.0           |       h69a702a_2          52 KB  conda-forge\n",
            "    libgomp-14.2.0             |       h767d61c_2         449 KB  conda-forge\n",
            "    liblzma-5.8.1              |       hb9d3cd8_0         110 KB  conda-forge\n",
            "    liblzma-devel-5.8.1        |       hb9d3cd8_0         431 KB  conda-forge\n",
            "    libsqlite-3.49.1           |       hee588c1_2         897 KB  conda-forge\n",
            "    libstdcxx-14.2.0           |       h8f9b012_2         3.7 MB  conda-forge\n",
            "    libstdcxx-ng-14.2.0        |       h4852527_2          53 KB  conda-forge\n",
            "    ncurses-6.5                |       h2d0b736_3         871 KB  conda-forge\n",
            "    openssl-3.5.0              |       h7b32b05_0         3.0 MB  conda-forge\n",
            "    pip-24.0                   |     pyhd8ed1ab_0         1.3 MB  conda-forge\n",
            "    python-3.7.12              |hf930737_100_cpython        57.3 MB  conda-forge\n",
            "    readline-8.2               |       h8c095d6_2         276 KB  conda-forge\n",
            "    setuptools-69.0.3          |     pyhd8ed1ab_0         460 KB  conda-forge\n",
            "    sqlite-3.49.1              |       h9eae976_2         839 KB  conda-forge\n",
            "    wheel-0.42.0               |     pyhd8ed1ab_0          56 KB  conda-forge\n",
            "    xz-5.8.1                   |       hbcc6ac9_0          23 KB  conda-forge\n",
            "    xz-gpl-tools-5.8.1         |       hbcc6ac9_0          33 KB  conda-forge\n",
            "    xz-tools-5.8.1             |       hb9d3cd8_0          94 KB  conda-forge\n",
            "    ------------------------------------------------------------\n",
            "                                           Total:        71.5 MB\n",
            "\n",
            "The following NEW packages will be INSTALLED:\n",
            "\n",
            "  _libgcc_mutex      conda-forge/linux-64::_libgcc_mutex-0.1-conda_forge \n",
            "  _openmp_mutex      conda-forge/linux-64::_openmp_mutex-4.5-2_gnu \n",
            "  ca-certificates    conda-forge/linux-64::ca-certificates-2025.1.31-hbcca054_0 \n",
            "  ld_impl_linux-64   conda-forge/linux-64::ld_impl_linux-64-2.43-h712a8e2_4 \n",
            "  libffi             conda-forge/linux-64::libffi-3.4.6-h2dba641_1 \n",
            "  libgcc             conda-forge/linux-64::libgcc-14.2.0-h767d61c_2 \n",
            "  libgcc-ng          conda-forge/linux-64::libgcc-ng-14.2.0-h69a702a_2 \n",
            "  libgomp            conda-forge/linux-64::libgomp-14.2.0-h767d61c_2 \n",
            "  liblzma            conda-forge/linux-64::liblzma-5.8.1-hb9d3cd8_0 \n",
            "  liblzma-devel      conda-forge/linux-64::liblzma-devel-5.8.1-hb9d3cd8_0 \n",
            "  libnsl             conda-forge/linux-64::libnsl-2.0.1-hd590300_0 \n",
            "  libsqlite          conda-forge/linux-64::libsqlite-3.49.1-hee588c1_2 \n",
            "  libstdcxx          conda-forge/linux-64::libstdcxx-14.2.0-h8f9b012_2 \n",
            "  libstdcxx-ng       conda-forge/linux-64::libstdcxx-ng-14.2.0-h4852527_2 \n",
            "  libzlib            conda-forge/linux-64::libzlib-1.3.1-hb9d3cd8_2 \n",
            "  ncurses            conda-forge/linux-64::ncurses-6.5-h2d0b736_3 \n",
            "  openssl            conda-forge/linux-64::openssl-3.5.0-h7b32b05_0 \n",
            "  pip                conda-forge/noarch::pip-24.0-pyhd8ed1ab_0 \n",
            "  python             conda-forge/linux-64::python-3.7.12-hf930737_100_cpython \n",
            "  readline           conda-forge/linux-64::readline-8.2-h8c095d6_2 \n",
            "  setuptools         conda-forge/noarch::setuptools-69.0.3-pyhd8ed1ab_0 \n",
            "  sqlite             conda-forge/linux-64::sqlite-3.49.1-h9eae976_2 \n",
            "  tk                 conda-forge/linux-64::tk-8.6.13-noxft_h4845f30_101 \n",
            "  wheel              conda-forge/noarch::wheel-0.42.0-pyhd8ed1ab_0 \n",
            "  xz                 conda-forge/linux-64::xz-5.8.1-hbcc6ac9_0 \n",
            "  xz-gpl-tools       conda-forge/linux-64::xz-gpl-tools-5.8.1-hbcc6ac9_0 \n",
            "  xz-tools           conda-forge/linux-64::xz-tools-5.8.1-hb9d3cd8_0 \n",
            "\n",
            "\n",
            "Preparing transaction: ...working... done\n",
            "Verifying transaction: ...working... done\n",
            "Executing transaction: ...working... done\n"
          ]
        }
      ],
      "source": [
        "!conda create -p env python=3.7 -y -q"
      ]
    },
    {
      "cell_type": "markdown",
      "metadata": {
        "id": "SJklcz9gVi37"
      },
      "source": [
        "## 在 env 下，安裝 `bentoml(0.9.0)`"
      ]
    },
    {
      "cell_type": "code",
      "execution_count": null,
      "metadata": {
        "collapsed": true,
        "id": "fJl6LHGSjeMS",
        "colab": {
          "base_uri": "https://localhost:8080/"
        },
        "outputId": "22018cc0-9085-417e-bb48-42a78ec34f17"
      },
      "outputs": [
        {
          "output_type": "stream",
          "name": "stdout",
          "text": [
            "\u001b[?25l     \u001b[90m━━━━━━━━━━━━━━━━━━━━━━━━━━━━━━━━━━━━━━━━\u001b[0m \u001b[32m0.0/131.2 kB\u001b[0m \u001b[31m?\u001b[0m eta \u001b[36m-:--:--\u001b[0m\r\u001b[2K     \u001b[90m━━━━━━━━━━━━━━━━━━━━━━━━━━━━━━━━━━━━━━━\u001b[0m \u001b[32m131.2/131.2 kB\u001b[0m \u001b[31m5.3 MB/s\u001b[0m eta \u001b[36m0:00:00\u001b[0m\n",
            "\u001b[?25h  Preparing metadata (setup.py) ... \u001b[?25l\u001b[?25hdone\n",
            "\u001b[2K     \u001b[90m━━━━━━━━━━━━━━━━━━━━━━━━━━━━━━━━━━━━━━━━\u001b[0m \u001b[32m50.1/50.1 kB\u001b[0m \u001b[31m2.6 MB/s\u001b[0m eta \u001b[36m0:00:00\u001b[0m\n",
            "\u001b[2K   \u001b[90m━━━━━━━━━━━━━━━━━━━━━━━━━━━━━━━━━━━━━━━━\u001b[0m \u001b[32m3.0/3.0 MB\u001b[0m \u001b[31m39.3 MB/s\u001b[0m eta \u001b[36m0:00:00\u001b[0m\n",
            "\u001b[2K   \u001b[90m━━━━━━━━━━━━━━━━━━━━━━━━━━━━━━━━━━━━━━━━\u001b[0m \u001b[32m98.2/98.2 kB\u001b[0m \u001b[31m5.9 MB/s\u001b[0m eta \u001b[36m0:00:00\u001b[0m\n",
            "\u001b[2K   \u001b[90m━━━━━━━━━━━━━━━━━━━━━━━━━━━━━━━━━━━━━━━━\u001b[0m \u001b[32m2.7/2.7 MB\u001b[0m \u001b[31m44.4 MB/s\u001b[0m eta \u001b[36m0:00:00\u001b[0m\n",
            "\u001b[2K   \u001b[90m━━━━━━━━━━━━━━━━━━━━━━━━━━━━━━━━━━━━━━━━\u001b[0m \u001b[32m311.6/311.6 kB\u001b[0m \u001b[31m17.3 MB/s\u001b[0m eta \u001b[36m0:00:00\u001b[0m\n",
            "\u001b[2K   \u001b[90m━━━━━━━━━━━━━━━━━━━━━━━━━━━━━━━━━━━━━━━━\u001b[0m \u001b[32m229.9/229.9 kB\u001b[0m \u001b[31m12.9 MB/s\u001b[0m eta \u001b[36m0:00:00\u001b[0m\n",
            "\u001b[2K   \u001b[90m━━━━━━━━━━━━━━━━━━━━━━━━━━━━━━━━━━━━━━━━\u001b[0m \u001b[32m117.7/117.7 kB\u001b[0m \u001b[31m7.3 MB/s\u001b[0m eta \u001b[36m0:00:00\u001b[0m\n",
            "\u001b[2K   \u001b[90m━━━━━━━━━━━━━━━━━━━━━━━━━━━━━━━━━━━━━━━━\u001b[0m \u001b[32m3.0/3.0 MB\u001b[0m \u001b[31m44.1 MB/s\u001b[0m eta \u001b[36m0:00:00\u001b[0m\n",
            "\u001b[2K   \u001b[90m━━━━━━━━━━━━━━━━━━━━━━━━━━━━━━━━━━━━━━━━\u001b[0m \u001b[32m988.0/988.0 kB\u001b[0m \u001b[31m32.8 MB/s\u001b[0m eta \u001b[36m0:00:00\u001b[0m\n",
            "\u001b[2K   \u001b[90m━━━━━━━━━━━━━━━━━━━━━━━━━━━━━━━━━━━━━━━━\u001b[0m \u001b[32m99.8/99.8 kB\u001b[0m \u001b[31m5.1 MB/s\u001b[0m eta \u001b[36m0:00:00\u001b[0m\n",
            "\u001b[2K   \u001b[90m━━━━━━━━━━━━━━━━━━━━━━━━━━━━━━━━━━━━━━━━\u001b[0m \u001b[32m226.8/226.8 kB\u001b[0m \u001b[31m11.1 MB/s\u001b[0m eta \u001b[36m0:00:00\u001b[0m\n",
            "\u001b[2K   \u001b[90m━━━━━━━━━━━━━━━━━━━━━━━━━━━━━━━━━━━━━━━━\u001b[0m \u001b[32m139.3/139.3 kB\u001b[0m \u001b[31m8.9 MB/s\u001b[0m eta \u001b[36m0:00:00\u001b[0m\n",
            "\u001b[2K   \u001b[90m━━━━━━━━━━━━━━━━━━━━━━━━━━━━━━━━━━━━━━━━\u001b[0m \u001b[32m166.4/166.4 kB\u001b[0m \u001b[31m8.8 MB/s\u001b[0m eta \u001b[36m0:00:00\u001b[0m\n",
            "\u001b[2K   \u001b[90m━━━━━━━━━━━━━━━━━━━━━━━━━━━━━━━━━━━━━━━━\u001b[0m \u001b[32m199.4/199.4 kB\u001b[0m \u001b[31m11.7 MB/s\u001b[0m eta \u001b[36m0:00:00\u001b[0m\n",
            "\u001b[2K   \u001b[90m━━━━━━━━━━━━━━━━━━━━━━━━━━━━━━━━━━━━━━━━\u001b[0m \u001b[32m148.1/148.1 kB\u001b[0m \u001b[31m9.4 MB/s\u001b[0m eta \u001b[36m0:00:00\u001b[0m\n",
            "\u001b[2K   \u001b[90m━━━━━━━━━━━━━━━━━━━━━━━━━━━━━━━━━━━━━━━━\u001b[0m \u001b[32m53.5/53.5 kB\u001b[0m \u001b[31m2.6 MB/s\u001b[0m eta \u001b[36m0:00:00\u001b[0m\n",
            "\u001b[2K   \u001b[90m━━━━━━━━━━━━━━━━━━━━━━━━━━━━━━━━━━━━━━━━\u001b[0m \u001b[32m62.6/62.6 kB\u001b[0m \u001b[31m3.7 MB/s\u001b[0m eta \u001b[36m0:00:00\u001b[0m\n",
            "\u001b[2K   \u001b[90m━━━━━━━━━━━━━━━━━━━━━━━━━━━━━━━━━━━━━━━━\u001b[0m \u001b[32m101.8/101.8 kB\u001b[0m \u001b[31m6.2 MB/s\u001b[0m eta \u001b[36m0:00:00\u001b[0m\n",
            "\u001b[2K   \u001b[90m━━━━━━━━━━━━━━━━━━━━━━━━━━━━━━━━━━━━━━━━\u001b[0m \u001b[32m85.0/85.0 kB\u001b[0m \u001b[31m3.9 MB/s\u001b[0m eta \u001b[36m0:00:00\u001b[0m\n",
            "\u001b[2K   \u001b[90m━━━━━━━━━━━━━━━━━━━━━━━━━━━━━━━━━━━━━━━━\u001b[0m \u001b[32m86.8/86.8 kB\u001b[0m \u001b[31m5.6 MB/s\u001b[0m eta \u001b[36m0:00:00\u001b[0m\n",
            "\u001b[2K   \u001b[90m━━━━━━━━━━━━━━━━━━━━━━━━━━━━━━━━━━━━━━━━\u001b[0m \u001b[32m15.7/15.7 MB\u001b[0m \u001b[31m82.2 MB/s\u001b[0m eta \u001b[36m0:00:00\u001b[0m\n",
            "\u001b[2K   \u001b[90m━━━━━━━━━━━━━━━━━━━━━━━━━━━━━━━━━━━━━━━━\u001b[0m \u001b[32m60.6/60.6 kB\u001b[0m \u001b[31m4.1 MB/s\u001b[0m eta \u001b[36m0:00:00\u001b[0m\n",
            "\u001b[2K   \u001b[90m━━━━━━━━━━━━━━━━━━━━━━━━━━━━━━━━━━━━━━━━\u001b[0m \u001b[32m278.0/278.0 kB\u001b[0m \u001b[31m16.7 MB/s\u001b[0m eta \u001b[36m0:00:00\u001b[0m\n",
            "\u001b[2K   \u001b[90m━━━━━━━━━━━━━━━━━━━━━━━━━━━━━━━━━━━━━━━━\u001b[0m \u001b[32m48.4/48.4 kB\u001b[0m \u001b[31m2.7 MB/s\u001b[0m eta \u001b[36m0:00:00\u001b[0m\n",
            "\u001b[2K   \u001b[90m━━━━━━━━━━━━━━━━━━━━━━━━━━━━━━━━━━━━━━━━\u001b[0m \u001b[32m63.0/63.0 kB\u001b[0m \u001b[31m3.9 MB/s\u001b[0m eta \u001b[36m0:00:00\u001b[0m\n",
            "\u001b[2K   \u001b[90m━━━━━━━━━━━━━━━━━━━━━━━━━━━━━━━━━━━━━━━━\u001b[0m \u001b[32m11.8/11.8 MB\u001b[0m \u001b[31m84.8 MB/s\u001b[0m eta \u001b[36m0:00:00\u001b[0m\n",
            "\u001b[2K   \u001b[90m━━━━━━━━━━━━━━━━━━━━━━━━━━━━━━━━━━━━━━━━\u001b[0m \u001b[32m138.6/138.6 kB\u001b[0m \u001b[31m8.6 MB/s\u001b[0m eta \u001b[36m0:00:00\u001b[0m\n",
            "\u001b[2K   \u001b[90m━━━━━━━━━━━━━━━━━━━━━━━━━━━━━━━━━━━━━━━━\u001b[0m \u001b[32m148.0/148.0 kB\u001b[0m \u001b[31m9.5 MB/s\u001b[0m eta \u001b[36m0:00:00\u001b[0m\n",
            "\u001b[2K   \u001b[90m━━━━━━━━━━━━━━━━━━━━━━━━━━━━━━━━━━━━━━━━\u001b[0m \u001b[32m563.0/563.0 kB\u001b[0m \u001b[31m29.7 MB/s\u001b[0m eta \u001b[36m0:00:00\u001b[0m\n",
            "\u001b[2K   \u001b[90m━━━━━━━━━━━━━━━━━━━━━━━━━━━━━━━━━━━━━━━━\u001b[0m \u001b[32m70.4/70.4 kB\u001b[0m \u001b[31m4.4 MB/s\u001b[0m eta \u001b[36m0:00:00\u001b[0m\n",
            "\u001b[2K   \u001b[90m━━━━━━━━━━━━━━━━━━━━━━━━━━━━━━━━━━━━━━━━\u001b[0m \u001b[32m134.9/134.9 kB\u001b[0m \u001b[31m7.0 MB/s\u001b[0m eta \u001b[36m0:00:00\u001b[0m\n",
            "\u001b[2K   \u001b[90m━━━━━━━━━━━━━━━━━━━━━━━━━━━━━━━━━━━━━━━━\u001b[0m \u001b[32m551.1/551.1 kB\u001b[0m \u001b[31m24.9 MB/s\u001b[0m eta \u001b[36m0:00:00\u001b[0m\n",
            "\u001b[2K   \u001b[90m━━━━━━━━━━━━━━━━━━━━━━━━━━━━━━━━━━━━━━━━\u001b[0m \u001b[32m82.0/82.0 kB\u001b[0m \u001b[31m5.1 MB/s\u001b[0m eta \u001b[36m0:00:00\u001b[0m\n",
            "\u001b[2K   \u001b[90m━━━━━━━━━━━━━━━━━━━━━━━━━━━━━━━━━━━━━━━━\u001b[0m \u001b[32m144.2/144.2 kB\u001b[0m \u001b[31m8.7 MB/s\u001b[0m eta \u001b[36m0:00:00\u001b[0m\n",
            "\u001b[2K   \u001b[90m━━━━━━━━━━━━━━━━━━━━━━━━━━━━━━━━━━━━━━━━\u001b[0m \u001b[32m56.9/56.9 kB\u001b[0m \u001b[31m3.5 MB/s\u001b[0m eta \u001b[36m0:00:00\u001b[0m\n",
            "\u001b[2K   \u001b[90m━━━━━━━━━━━━━━━━━━━━━━━━━━━━━━━━━━━━━━━━\u001b[0m \u001b[32m233.6/233.6 kB\u001b[0m \u001b[31m14.2 MB/s\u001b[0m eta \u001b[36m0:00:00\u001b[0m\n",
            "\u001b[2K   \u001b[90m━━━━━━━━━━━━━━━━━━━━━━━━━━━━━━━━━━━━━━━━\u001b[0m \u001b[32m289.8/289.8 kB\u001b[0m \u001b[31m18.1 MB/s\u001b[0m eta \u001b[36m0:00:00\u001b[0m\n",
            "\u001b[2K   \u001b[90m━━━━━━━━━━━━━━━━━━━━━━━━━━━━━━━━━━━━━━━━\u001b[0m \u001b[32m78.7/78.7 kB\u001b[0m \u001b[31m5.0 MB/s\u001b[0m eta \u001b[36m0:00:00\u001b[0m\n",
            "\u001b[?25h  Building wheel for sqlalchemy-utils (setup.py) ... \u001b[?25l\u001b[?25hdone\n"
          ]
        }
      ],
      "source": [
        "!source activate ./env; pip install -q 'bentoml==0.9.0'"
      ]
    },
    {
      "cell_type": "markdown",
      "metadata": {
        "id": "ra3RC6e7Vi38"
      },
      "source": [
        "## 在 env 下，安裝 `scipy` 與 `matplotlib`"
      ]
    },
    {
      "cell_type": "code",
      "execution_count": null,
      "metadata": {
        "collapsed": true,
        "id": "tJPwxuxojeMT",
        "colab": {
          "base_uri": "https://localhost:8080/"
        },
        "outputId": "9e5696e7-fc49-4fd2-d123-e2f439acc724"
      },
      "outputs": [
        {
          "output_type": "stream",
          "name": "stdout",
          "text": [
            "\u001b[2K     \u001b[90m━━━━━━━━━━━━━━━━━━━━━━━━━━━━━━━━━━━━━━━\u001b[0m \u001b[32m138.5/138.5 kB\u001b[0m \u001b[31m3.5 MB/s\u001b[0m eta \u001b[36m0:00:00\u001b[0m\n",
            "\u001b[2K   \u001b[90m━━━━━━━━━━━━━━━━━━━━━━━━━━━━━━━━━━━━━━━━\u001b[0m \u001b[32m38.1/38.1 MB\u001b[0m \u001b[31m21.5 MB/s\u001b[0m eta \u001b[36m0:00:00\u001b[0m\n",
            "\u001b[2K   \u001b[90m━━━━━━━━━━━━━━━━━━━━━━━━━━━━━━━━━━━━━━━━\u001b[0m \u001b[32m11.2/11.2 MB\u001b[0m \u001b[31m83.0 MB/s\u001b[0m eta \u001b[36m0:00:00\u001b[0m\n",
            "\u001b[2K   \u001b[90m━━━━━━━━━━━━━━━━━━━━━━━━━━━━━━━━━━━━━━━━\u001b[0m \u001b[32m965.4/965.4 kB\u001b[0m \u001b[31m39.8 MB/s\u001b[0m eta \u001b[36m0:00:00\u001b[0m\n",
            "\u001b[2K   \u001b[90m━━━━━━━━━━━━━━━━━━━━━━━━━━━━━━━━━━━━━━━━\u001b[0m \u001b[32m1.1/1.1 MB\u001b[0m \u001b[31m44.6 MB/s\u001b[0m eta \u001b[36m0:00:00\u001b[0m\n",
            "\u001b[2K   \u001b[90m━━━━━━━━━━━━━━━━━━━━━━━━━━━━━━━━━━━━━━━━\u001b[0m \u001b[32m3.4/3.4 MB\u001b[0m \u001b[31m65.2 MB/s\u001b[0m eta \u001b[36m0:00:00\u001b[0m\n",
            "\u001b[2K   \u001b[90m━━━━━━━━━━━━━━━━━━━━━━━━━━━━━━━━━━━━━━━━\u001b[0m \u001b[32m104.1/104.1 kB\u001b[0m \u001b[31m6.5 MB/s\u001b[0m eta \u001b[36m0:00:00\u001b[0m\n",
            "\u001b[?25h"
          ]
        }
      ],
      "source": [
        "!source activate ./env; pip install -U scipy matplotlib --quiet"
      ]
    },
    {
      "cell_type": "markdown",
      "metadata": {
        "id": "v1o9mmonVi3-"
      },
      "source": [
        "## 在 env 下，安裝 `scikit-learn` 與 `pandas` 與 `numpy`"
      ]
    },
    {
      "cell_type": "code",
      "execution_count": null,
      "metadata": {
        "id": "OHSWOTvRjeMT",
        "colab": {
          "base_uri": "https://localhost:8080/"
        },
        "outputId": "bf3cf0fd-653f-42db-d0dc-7f973e1a74ec"
      },
      "outputs": [
        {
          "output_type": "stream",
          "name": "stdout",
          "text": [
            "\u001b[2K   \u001b[90m━━━━━━━━━━━━━━━━━━━━━━━━━━━━━━━━━━━━━━━━\u001b[0m \u001b[32m24.8/24.8 MB\u001b[0m \u001b[31m51.6 MB/s\u001b[0m eta \u001b[36m0:00:00\u001b[0m\n",
            "\u001b[2K   \u001b[90m━━━━━━━━━━━━━━━━━━━━━━━━━━━━━━━━━━━━━━━━\u001b[0m \u001b[32m11.3/11.3 MB\u001b[0m \u001b[31m78.5 MB/s\u001b[0m eta \u001b[36m0:00:00\u001b[0m\n",
            "\u001b[2K   \u001b[90m━━━━━━━━━━━━━━━━━━━━━━━━━━━━━━━━━━━━━━━━\u001b[0m \u001b[32m302.2/302.2 kB\u001b[0m \u001b[31m16.0 MB/s\u001b[0m eta \u001b[36m0:00:00\u001b[0m\n",
            "\u001b[2K   \u001b[90m━━━━━━━━━━━━━━━━━━━━━━━━━━━━━━━━━━━━━━━━\u001b[0m \u001b[32m509.2/509.2 kB\u001b[0m \u001b[31m22.9 MB/s\u001b[0m eta \u001b[36m0:00:00\u001b[0m\n",
            "\u001b[?25h"
          ]
        }
      ],
      "source": [
        "!source activate ./env; pip install -q 'scikit-learn>=0.23.2' 'pandas>=1.1.1' 'numpy>=1.8.2'"
      ]
    },
    {
      "cell_type": "markdown",
      "metadata": {
        "id": "hguxw37YVi4A"
      },
      "source": [
        "## 在 env 下，安裝 `protoful(3.20.X)`"
      ]
    },
    {
      "cell_type": "code",
      "execution_count": null,
      "metadata": {
        "id": "M5LKFbEXjeMT",
        "colab": {
          "base_uri": "https://localhost:8080/"
        },
        "outputId": "8873e0fe-d3cb-46ea-a547-10947d3f6746"
      },
      "outputs": [
        {
          "output_type": "stream",
          "name": "stdout",
          "text": [
            "\u001b[?25l   \u001b[90m━━━━━━━━━━━━━━━━━━━━━━━━━━━━━━━━━━━━━━━━\u001b[0m \u001b[32m0.0/1.0 MB\u001b[0m \u001b[31m?\u001b[0m eta \u001b[36m-:--:--\u001b[0m\r\u001b[2K   \u001b[91m━━━━━\u001b[0m\u001b[91m╸\u001b[0m\u001b[90m━━━━━━━━━━━━━━━━━━━━━━━━━━━━━━━━━━\u001b[0m \u001b[32m0.1/1.0 MB\u001b[0m \u001b[31m4.2 MB/s\u001b[0m eta \u001b[36m0:00:01\u001b[0m\r\u001b[2K   \u001b[91m━━━━━━━━━━━━━━━━━━━━━━━━━━━━━\u001b[0m\u001b[91m╸\u001b[0m\u001b[90m━━━━━━━━━━\u001b[0m \u001b[32m0.8/1.0 MB\u001b[0m \u001b[31m10.4 MB/s\u001b[0m eta \u001b[36m0:00:01\u001b[0m\r\u001b[2K   \u001b[91m━━━━━━━━━━━━━━━━━━━━━━━━━━━━━━━━━━━━━━━\u001b[0m\u001b[91m╸\u001b[0m \u001b[32m1.0/1.0 MB\u001b[0m \u001b[31m11.5 MB/s\u001b[0m eta \u001b[36m0:00:01\u001b[0m\r\u001b[2K   \u001b[90m━━━━━━━━━━━━━━━━━━━━━━━━━━━━━━━━━━━━━━━━\u001b[0m \u001b[32m1.0/1.0 MB\u001b[0m \u001b[31m8.6 MB/s\u001b[0m eta \u001b[36m0:00:00\u001b[0m\n",
            "\u001b[?25h"
          ]
        }
      ],
      "source": [
        "!source activate ./env; pip install protobuf==3.20.* -q"
      ]
    },
    {
      "cell_type": "markdown",
      "metadata": {
        "id": "wBAg27enVi4B"
      },
      "source": [
        "## 在 env 下，安裝 `sqlalchemy(1.3.*)`"
      ]
    },
    {
      "cell_type": "code",
      "execution_count": null,
      "metadata": {
        "colab": {
          "base_uri": "https://localhost:8080/"
        },
        "id": "3FoSbxn2jeMT",
        "outputId": "c5bf8a0a-158b-427b-9578-e5ed3a38fd02"
      },
      "outputs": [
        {
          "output_type": "stream",
          "name": "stdout",
          "text": [
            "\u001b[?25l   \u001b[90m━━━━━━━━━━━━━━━━━━━━━━━━━━━━━━━━━━━━━━━━\u001b[0m \u001b[32m0.0/1.3 MB\u001b[0m \u001b[31m?\u001b[0m eta \u001b[36m-:--:--\u001b[0m\r\u001b[2K   \u001b[91m━━━\u001b[0m\u001b[91m╸\u001b[0m\u001b[90m━━━━━━━━━━━━━━━━━━━━━━━━━━━━━━━━━━━━\u001b[0m \u001b[32m0.1/1.3 MB\u001b[0m \u001b[31m3.2 MB/s\u001b[0m eta \u001b[36m0:00:01\u001b[0m\r\u001b[2K   \u001b[91m━━━━━━━━━━━━━━━━━━━━━━━━━━━━\u001b[0m\u001b[90m╺\u001b[0m\u001b[90m━━━━━━━━━━━\u001b[0m \u001b[32m0.9/1.3 MB\u001b[0m \u001b[31m12.7 MB/s\u001b[0m eta \u001b[36m0:00:01\u001b[0m\r\u001b[2K   \u001b[90m━━━━━━━━━━━━━━━━━━━━━━━━━━━━━━━━━━━━━━━━\u001b[0m \u001b[32m1.3/1.3 MB\u001b[0m \u001b[31m13.1 MB/s\u001b[0m eta \u001b[36m0:00:00\u001b[0m\n",
            "\u001b[?25h"
          ]
        }
      ],
      "source": [
        "!source activate ./env; pip install -q sqlalchemy==1.3.*"
      ]
    },
    {
      "cell_type": "markdown",
      "metadata": {
        "id": "zUnNr_gxVi4D"
      },
      "source": [
        "## 訓練模型 sentiment_lr\n",
        "\n",
        "用 `pickle` 將模型 sentiment_lr 存起來成為 `sentiment_lf.pkl`\n",
        "\n",
        "* 重要參考(註1)"
      ]
    },
    {
      "cell_type": "code",
      "source": [
        "temp = pd.read_csv('testdata.manual.2009.06.14.csv',\n",
        "                     header = None,\n",
        "                     )"
      ],
      "metadata": {
        "id": "Ej-YkNrx1wqQ"
      },
      "execution_count": null,
      "outputs": []
    },
    {
      "cell_type": "code",
      "execution_count": null,
      "metadata": {
        "colab": {
          "base_uri": "https://localhost:8080/"
        },
        "id": "CnX7AAx-jeMU",
        "outputId": "210595ec-c497-4e1e-9acf-0b8fcf34882f"
      },
      "outputs": [
        {
          "output_type": "stream",
          "name": "stdout",
          "text": [
            "              precision    recall  f1-score   support\n",
            "\n",
            "           0       0.86      0.81      0.83       177\n",
            "           4       0.82      0.87      0.85       182\n",
            "\n",
            "    accuracy                           0.84       359\n",
            "   macro avg       0.84      0.84      0.84       359\n",
            "weighted avg       0.84      0.84      0.84       359\n",
            "\n",
            "TYPE: <class 'sklearn.pipeline.Pipeline'>\n",
            "Input data= @stellargirl I loooooooovvvvvveee my Kindle2. Not that the DX is cool, but the 2 is fantastic in its own right. , result= [4]\n"
          ]
        }
      ],
      "source": [
        "%%bash\n",
        "source activate ./env\n",
        "\n",
        "python\n",
        "\n",
        "import numpy as np\n",
        "import pandas as pd\n",
        "from sklearn.feature_extraction.text import CountVectorizer\n",
        "from sklearn.linear_model import LogisticRegression\n",
        "from sklearn.metrics import classification_report, roc_auc_score, roc_curve\n",
        "from sklearn.pipeline import Pipeline\n",
        "\n",
        "import bentoml\n",
        "\n",
        "log_model = LogisticRegression(solver='lbfgs', max_iter=1000)\n",
        "\n",
        "columns = ['polarity', 'tweetid', 'date', 'query_name', 'user', 'text']\n",
        "dftrain = pd.read_csv('training.1600000.processed.noemoticon.csv',\n",
        "                      header = None,\n",
        "                      encoding ='ISO-8859-1')\n",
        "dftest = pd.read_csv('testdata.manual.2009.06.14.csv',\n",
        "                     header = None,\n",
        "                     encoding ='ISO-8859-1')\n",
        "dftrain.columns = columns\n",
        "dftest.columns = columns\n",
        "\n",
        "sentiment_lr = Pipeline([\n",
        "                         ('count_vect', CountVectorizer(min_df = 100,\n",
        "                                                        ngram_range = (1,2),\n",
        "                                                        stop_words = 'english')),\n",
        "                         ('lr', log_model)])\n",
        "sentiment_lr.fit(dftrain.text, dftrain.polarity)\n",
        "\n",
        "Xtest, ytest = dftest.text[dftest.polarity!=2], dftest.polarity[dftest.polarity!=2]\n",
        "print(classification_report(ytest,sentiment_lr.predict(Xtest)))\n",
        "\n",
        "# sentiment_lr.predict([Xtest[0]])\n",
        "result=sentiment_lr.predict([Xtest[0]])\n",
        "print(\"TYPE:\", type(sentiment_lr))\n",
        "print(\"Input data=\",Xtest[0],\", result=\",result)\n",
        "\n",
        "\"\"\"以下是自行新增的部分(註**)\"\"\"\n",
        "import pickle\n",
        "\n",
        "# save the Pipeline as a pickle file\n",
        "pipeline_pkl_file = \"sentiment_lf.pkl\"\n",
        "\n",
        "with open(pipeline_pkl_file, 'wb') as file:\n",
        "    pickle.dump(sentiment_lr, file)"
      ]
    },
    {
      "cell_type": "markdown",
      "source": [
        "<font color=\"red\">(註**) 的作用是將 `sentiment_lr` 存到檔案中，而當下一個 cell 再次執行 `source activate ./env` 時，模型 `sentiment_lr` 已經不存在，還是可以利用讀取檔案 \"sentiment_lf.pkl\" ，來恢復模型 `sentiment_lr`</font>"
      ],
      "metadata": {
        "id": "c1a0n0IWZkUj"
      }
    },
    {
      "cell_type": "markdown",
      "metadata": {
        "id": "Tb5e_508Vi4H"
      },
      "source": [
        "## 建立 BentoService API"
      ]
    },
    {
      "cell_type": "code",
      "execution_count": null,
      "metadata": {
        "colab": {
          "base_uri": "https://localhost:8080/"
        },
        "id": "8xMAPbKHjeMU",
        "outputId": "5cf3d2e1-ab53-45c6-98db-572268bc9ecc"
      },
      "outputs": [
        {
          "output_type": "stream",
          "name": "stdout",
          "text": [
            "Writing sentiment_analysis_service.py\n"
          ]
        }
      ],
      "source": [
        "%%writefile sentiment_analysis_service.py\n",
        "import pandas as pd\n",
        "import bentoml\n",
        "from bentoml.frameworks.sklearn import SklearnModelArtifact\n",
        "from bentoml.service.artifacts.common import PickleArtifact\n",
        "from bentoml.handlers import DataframeHandler\n",
        "from bentoml.adapters import DataframeInput\n",
        "\n",
        "@bentoml.artifacts([PickleArtifact('model')])\n",
        "@bentoml.env(pip_packages=[\"scikit-learn\", \"pandas\"])\n",
        "class SKSentimentAnalysis(bentoml.BentoService):\n",
        "\n",
        "    @bentoml.api(input=DataframeInput(), batch=True)\n",
        "    def predict(self, df):\n",
        "        \"\"\"\n",
        "        predict expects pandas.Series as input\n",
        "        \"\"\"\n",
        "        series = df.iloc[0,:]\n",
        "        return self.artifacts.model.predict(series)"
      ]
    },
    {
      "cell_type": "markdown",
      "metadata": {
        "id": "1413X2IiVi4J"
      },
      "source": [
        "## 保存 BentoService 到檔案中\n",
        "\n",
        "BentoService 把 sentiment_lf 模型打包"
      ]
    },
    {
      "cell_type": "code",
      "execution_count": null,
      "metadata": {
        "colab": {
          "base_uri": "https://localhost:8080/"
        },
        "id": "PA-tiQKfjeMV",
        "outputId": "27cfa087-d11e-429a-f066-d9f95740324c"
      },
      "outputs": [
        {
          "output_type": "stream",
          "name": "stdout",
          "text": [
            "[2025-04-18 12:04:12,242] WARNING - bentoml.handlers.* will be deprecated after BentoML 1.0, use bentoml.adapters.* instead\n",
            "[2025-04-18 12:04:18,372] WARNING - pip package requirement pandas already exist\n",
            "[2025-04-18 12:04:53,164] INFO - BentoService bundle 'SKSentimentAnalysis:20250418120420_81831C' saved to: /root/bentoml/repository/SKSentimentAnalysis/20250418120420_81831C\n"
          ]
        }
      ],
      "source": [
        "%%bash\n",
        "\n",
        "source activate ./env\n",
        "\n",
        "python\n",
        "\n",
        "from sentiment_analysis_service import SKSentimentAnalysis\n",
        "import pickle\n",
        "\n",
        "pipeline_pkl_file = \"sentiment_lf.pkl\"\n",
        "\n",
        "with open(pipeline_pkl_file, 'rb') as file:\n",
        "    sentiment_lf = pickle.load(file)\n",
        "\n",
        "bento_service = SKSentimentAnalysis()\n",
        "bento_service.pack('model', sentiment_lf)\n",
        "\n",
        "saved_path = bento_service.save() ## Finally successful\n",
        "\n",
        "# train 過程中產生的 \"saved_path\"，被存到'var_obj.pkl'中\n",
        "var_file = \"var_obj.pkl\"\n",
        "\n",
        "with open(var_file, 'wb') as file:\n",
        "    pickle.dump(saved_path, file)"
      ]
    },
    {
      "cell_type": "code",
      "execution_count": null,
      "metadata": {
        "colab": {
          "base_uri": "https://localhost:8080/"
        },
        "id": "F6236qPVjeMW",
        "outputId": "bd71bbec-e78d-4b41-e9f2-fedf27bf7ab0"
      },
      "outputs": [
        {
          "output_type": "stream",
          "name": "stdout",
          "text": [
            "\u001b[39mBENTO_SERVICE                              AGE           APIS                                   ARTIFACTS              LABELS\n",
            "SKSentimentAnalysis:20250418120420_81831C  16.5 seconds  predict<DataframeInput:DefaultOutput>  model<PickleArtifact>\u001b[0m\n"
          ]
        }
      ],
      "source": [
        "!source activate ./env; bentoml list"
      ]
    },
    {
      "cell_type": "markdown",
      "metadata": {
        "id": "Fatl9M_DVi4L"
      },
      "source": [
        "## 啟動 REST API model server 用上一節保存的 BentoService"
      ]
    },
    {
      "cell_type": "code",
      "execution_count": null,
      "metadata": {
        "colab": {
          "base_uri": "https://localhost:8080/"
        },
        "id": "mLwVqNxujeMW",
        "outputId": "d258a88f-b028-4e64-aa15-a1c71bdd2747"
      },
      "outputs": [
        {
          "name": "stdout",
          "output_type": "stream",
          "text": [
            "[2025-03-03 08:17:13,426] INFO - Getting latest version SKSentimentAnalysis:20250303072553_3E9744\n",
            "[2025-03-03 08:17:13,427] INFO - Starting BentoML API server in development mode..\n",
            "[2025-03-03 08:17:14,404] WARNING - bentoml.handlers.* will be deprecated after BentoML 1.0, use bentoml.adapters.* instead\n",
            "[2025-03-03 08:17:19,282] WARNING - pip package requirement pandas already exist\n",
            " * Serving Flask app 'SKSentimentAnalysis'\n",
            " * Debug mode: off\n",
            "\u001b[31m\u001b[1mWARNING: This is a development server. Do not use it in a production deployment. Use a production WSGI server instead.\u001b[0m\n",
            " * Running on http://127.0.0.1:5000\n",
            "\u001b[33mPress CTRL+C to quit\u001b[0m\n",
            "\n",
            "Aborted!\n"
          ]
        }
      ],
      "source": [
        "!source activate ./env; bentoml serve SKSentimentAnalysis:latest"
      ]
    },
    {
      "cell_type": "markdown",
      "metadata": {
        "id": "16QG3rwgVi4M"
      },
      "source": [
        "### 另法，但需要註冊 ngrok"
      ]
    },
    {
      "cell_type": "code",
      "execution_count": null,
      "metadata": {
        "id": "_Gs-LVgtjeMW"
      },
      "outputs": [],
      "source": [
        "!source activate ./env; bentoml serve SKSentimentAnalysis:latest --run-with-ngrok"
      ]
    },
    {
      "cell_type": "markdown",
      "metadata": {
        "id": "PyCmzxF5jeMW"
      },
      "source": [
        "## Load saved BentoService"
      ]
    },
    {
      "cell_type": "code",
      "execution_count": null,
      "metadata": {
        "colab": {
          "base_uri": "https://localhost:8080/"
        },
        "id": "NetYTwY-jeMX",
        "outputId": "bf89571f-5c90-407b-9602-c26471984390"
      },
      "outputs": [
        {
          "name": "stdout",
          "output_type": "stream",
          "text": [
            "[2025-03-03 10:56:01,951] WARNING - bentoml.handlers.* will be deprecated after BentoML 1.0, use bentoml.adapters.* instead\n",
            "[2025-03-03 10:56:06,151] WARNING - pip package requirement pandas already exist\n",
            "result= [4]\n"
          ]
        }
      ],
      "source": [
        "%%bash\n",
        "\n",
        "source activate ./env\n",
        "\n",
        "python\n",
        "\n",
        "import bentoml\n",
        "import pandas as pd\n",
        "\n",
        "# saved_path = \"/root/bentoml/repository/SKSentimentAnalysis/20250303095521_E343F0\" ## 測試用\n",
        "\n",
        "# train 過程中產生的 \"saved_path\"，被存到'var_obj.pkl'中，在此再從'var_obj.pkl'存取 \"saved_path\"\n",
        "import pickle\n",
        "var_file = \"var_obj.pkl\"\n",
        "\n",
        "with open(var_file, 'rb') as file:\n",
        "    saved_path = pickle.load(file)\n",
        "\n",
        "# Load exported bentoML model archive from path\n",
        "loaded_bento_service = bentoml.load(saved_path)\n",
        "\n",
        "# Call predict on the restored sklearn model\n",
        "result=loaded_bento_service.predict(pd.DataFrame(data=[\"good\", \"great\"]))\n",
        "print(\"result=\",result)"
      ]
    },
    {
      "cell_type": "markdown",
      "metadata": {
        "id": "BOHTB7rPjeMX"
      },
      "source": [
        "## Launch inference job from CLI"
      ]
    },
    {
      "cell_type": "code",
      "execution_count": null,
      "metadata": {
        "colab": {
          "base_uri": "https://localhost:8080/"
        },
        "id": "o27seJSBjeMX",
        "outputId": "4a437792-a17f-4d51-ee39-fcc11acb8c44"
      },
      "outputs": [
        {
          "name": "stdout",
          "output_type": "stream",
          "text": [
            "[2025-03-03 08:45:36,070] INFO - Getting latest version SKSentimentAnalysis:20250303072553_3E9744\n",
            "[2025-03-03 08:45:36,723] WARNING - bentoml.handlers.* will be deprecated after BentoML 1.0, use bentoml.adapters.* instead\n",
            "[2025-03-03 08:45:41,846] WARNING - pip package requirement pandas already exist\n",
            "[2025-03-03 08:45:42,363] INFO - {'service_name': 'SKSentimentAnalysis', 'service_version': '20250303072553_3E9744', 'api': 'predict', 'task': {'data': '[\"some new text, sweet noodles\", \"happy time\", \"sad day\"]', 'task_id': 'd2b2302b-1372-4ca2-9b82-d492d3c80413', 'batch': 3, 'cli_args': ('--input', '[\"some new text, sweet noodles\", \"happy time\", \"sad day\"]')}, 'result': {'data': '[4, 4, 4]', 'http_status': 200, 'http_headers': (('Content-Type', 'application/json'),)}, 'request_id': 'd2b2302b-1372-4ca2-9b82-d492d3c80413'}\n",
            "[4, 4, 4]\n"
          ]
        }
      ],
      "source": [
        "!source activate ./env; bentoml run SKSentimentAnalysis:latest predict \\\n",
        "--input '[\"some new text, sweet noodles\", \"happy time\", \"sad day\"]'"
      ]
    },
    {
      "cell_type": "code",
      "execution_count": null,
      "metadata": {
        "id": "HuzaJ4UdjeMY"
      },
      "outputs": [],
      "source": []
    },
    {
      "cell_type": "markdown",
      "source": [
        "# BentoML Example 02: Iris Prediction\n",
        "\n"
      ],
      "metadata": {
        "id": "Ljm7uOwTkAFe"
      }
    },
    {
      "cell_type": "markdown",
      "source": [
        "* Requried packages with theirversions:\n",
        "\n",
        "> python=3.10.11\n",
        ">\n",
        "> bentoml=1.0.19\n",
        ">\n",
        "> scikit-learn==1.2.2\n",
        ">\n",
        "> numpy==1.26.4\n",
        "\n",
        "* 根據--參3\n",
        "\n"
      ],
      "metadata": {
        "id": "dViJbhb4mYEI"
      }
    },
    {
      "cell_type": "code",
      "source": [
        "!pip install -q condacolab\n",
        "import condacolab\n",
        "condacolab.install()"
      ],
      "metadata": {
        "colab": {
          "base_uri": "https://localhost:8080/"
        },
        "id": "Zau3qe8Vofc9",
        "outputId": "d7a19fc1-12b4-4c38-c290-d6cd46621e96"
      },
      "execution_count": 2,
      "outputs": [
        {
          "output_type": "stream",
          "name": "stdout",
          "text": [
            "⏬ Downloading https://github.com/jaimergp/miniforge/releases/download/24.11.2-1_colab/Miniforge3-colab-24.11.2-1_colab-Linux-x86_64.sh...\n",
            "📦 Installing...\n",
            "📌 Adjusting configuration...\n",
            "🩹 Patching environment...\n",
            "⏲ Done in 0:00:13\n",
            "🔁 Restarting kernel...\n"
          ]
        }
      ]
    },
    {
      "cell_type": "code",
      "source": [
        "!conda create -p env python=3.10.11 -y -q"
      ],
      "metadata": {
        "collapsed": true,
        "colab": {
          "base_uri": "https://localhost:8080/"
        },
        "id": "8KEFsU8Foq_1",
        "outputId": "186e6421-0b22-43f1-f0b5-76ea2c11aee3"
      },
      "execution_count": null,
      "outputs": [
        {
          "output_type": "stream",
          "name": "stdout",
          "text": [
            "Channels:\n",
            " - conda-forge\n",
            "Platform: linux-64\n",
            "Collecting package metadata (repodata.json): ...working... done\n",
            "Solving environment: ...working... done\n",
            "\n",
            "## Package Plan ##\n",
            "\n",
            "  environment location: /content/env\n",
            "\n",
            "  added / updated specs:\n",
            "    - python=3.10.11\n",
            "\n",
            "\n",
            "The following packages will be downloaded:\n",
            "\n",
            "    package                    |            build\n",
            "    ---------------------------|-----------------\n",
            "    ca-certificates-2025.1.31  |       hbcca054_0         154 KB  conda-forge\n",
            "    ld_impl_linux-64-2.43      |       h712a8e2_4         656 KB  conda-forge\n",
            "    libffi-3.4.6               |       h2dba641_1          56 KB  conda-forge\n",
            "    libgcc-14.2.0              |       h767d61c_2         828 KB  conda-forge\n",
            "    libgcc-ng-14.2.0           |       h69a702a_2          52 KB  conda-forge\n",
            "    libgomp-14.2.0             |       h767d61c_2         449 KB  conda-forge\n",
            "    liblzma-5.8.1              |       hb9d3cd8_0         110 KB  conda-forge\n",
            "    liblzma-devel-5.8.1        |       hb9d3cd8_0         431 KB  conda-forge\n",
            "    libsqlite-3.49.1           |       hee588c1_2         897 KB  conda-forge\n",
            "    ncurses-6.5                |       h2d0b736_3         871 KB  conda-forge\n",
            "    openssl-3.5.0              |       h7b32b05_0         3.0 MB  conda-forge\n",
            "    pip-25.0.1                 |     pyh8b19718_0         1.2 MB  conda-forge\n",
            "    python-3.10.11             |he550d4f_0_cpython        24.7 MB  conda-forge\n",
            "    readline-8.2               |       h8c095d6_2         276 KB  conda-forge\n",
            "    setuptools-78.1.0          |     pyhff2d567_0         768 KB  conda-forge\n",
            "    tzdata-2025b               |       h78e105d_0         120 KB  conda-forge\n",
            "    xz-5.8.1                   |       hbcc6ac9_0          23 KB  conda-forge\n",
            "    xz-gpl-tools-5.8.1         |       hbcc6ac9_0          33 KB  conda-forge\n",
            "    xz-tools-5.8.1             |       hb9d3cd8_0          94 KB  conda-forge\n",
            "    ------------------------------------------------------------\n",
            "                                           Total:        34.5 MB\n",
            "\n",
            "The following NEW packages will be INSTALLED:\n",
            "\n",
            "  _libgcc_mutex      conda-forge/linux-64::_libgcc_mutex-0.1-conda_forge \n",
            "  _openmp_mutex      conda-forge/linux-64::_openmp_mutex-4.5-2_gnu \n",
            "  bzip2              conda-forge/linux-64::bzip2-1.0.8-h4bc722e_7 \n",
            "  ca-certificates    conda-forge/linux-64::ca-certificates-2025.1.31-hbcca054_0 \n",
            "  ld_impl_linux-64   conda-forge/linux-64::ld_impl_linux-64-2.43-h712a8e2_4 \n",
            "  libffi             conda-forge/linux-64::libffi-3.4.6-h2dba641_1 \n",
            "  libgcc             conda-forge/linux-64::libgcc-14.2.0-h767d61c_2 \n",
            "  libgcc-ng          conda-forge/linux-64::libgcc-ng-14.2.0-h69a702a_2 \n",
            "  libgomp            conda-forge/linux-64::libgomp-14.2.0-h767d61c_2 \n",
            "  liblzma            conda-forge/linux-64::liblzma-5.8.1-hb9d3cd8_0 \n",
            "  liblzma-devel      conda-forge/linux-64::liblzma-devel-5.8.1-hb9d3cd8_0 \n",
            "  libnsl             conda-forge/linux-64::libnsl-2.0.1-hd590300_0 \n",
            "  libsqlite          conda-forge/linux-64::libsqlite-3.49.1-hee588c1_2 \n",
            "  libuuid            conda-forge/linux-64::libuuid-2.38.1-h0b41bf4_0 \n",
            "  libzlib            conda-forge/linux-64::libzlib-1.3.1-hb9d3cd8_2 \n",
            "  ncurses            conda-forge/linux-64::ncurses-6.5-h2d0b736_3 \n",
            "  openssl            conda-forge/linux-64::openssl-3.5.0-h7b32b05_0 \n",
            "  pip                conda-forge/noarch::pip-25.0.1-pyh8b19718_0 \n",
            "  python             conda-forge/linux-64::python-3.10.11-he550d4f_0_cpython \n",
            "  readline           conda-forge/linux-64::readline-8.2-h8c095d6_2 \n",
            "  setuptools         conda-forge/noarch::setuptools-78.1.0-pyhff2d567_0 \n",
            "  tk                 conda-forge/linux-64::tk-8.6.13-noxft_h4845f30_101 \n",
            "  tzdata             conda-forge/noarch::tzdata-2025b-h78e105d_0 \n",
            "  wheel              conda-forge/noarch::wheel-0.45.1-pyhd8ed1ab_1 \n",
            "  xz                 conda-forge/linux-64::xz-5.8.1-hbcc6ac9_0 \n",
            "  xz-gpl-tools       conda-forge/linux-64::xz-gpl-tools-5.8.1-hbcc6ac9_0 \n",
            "  xz-tools           conda-forge/linux-64::xz-tools-5.8.1-hb9d3cd8_0 \n",
            "\n",
            "\n",
            "Preparing transaction: ...working... done\n",
            "Verifying transaction: ...working... done\n",
            "Executing transaction: ...working... done\n"
          ]
        }
      ]
    },
    {
      "cell_type": "code",
      "source": [
        "!source activate ./env; pip install -q 'bentoml==1.0.19'"
      ],
      "metadata": {
        "collapsed": true,
        "colab": {
          "base_uri": "https://localhost:8080/"
        },
        "id": "fuWP5QaRmttv",
        "outputId": "1dab0d30-d5d0-44cc-d2f4-3ae3cf74aff3"
      },
      "execution_count": null,
      "outputs": [
        {
          "output_type": "stream",
          "name": "stdout",
          "text": [
            "\u001b[2K   \u001b[90m━━━━━━━━━━━━━━━━━━━━━━━━━━━━━━━━━━━━━━━━\u001b[0m \u001b[32m981.2/981.2 kB\u001b[0m \u001b[31m24.0 MB/s\u001b[0m eta \u001b[36m0:00:00\u001b[0m\n",
            "\u001b[2K   \u001b[90m━━━━━━━━━━━━━━━━━━━━━━━━━━━━━━━━━━━━━━━━\u001b[0m \u001b[32m751.2/751.2 kB\u001b[0m \u001b[31m30.2 MB/s\u001b[0m eta \u001b[36m0:00:00\u001b[0m\n",
            "\u001b[2K   \u001b[90m━━━━━━━━━━━━━━━━━━━━━━━━━━━━━━━━━━━━━━━━\u001b[0m \u001b[32m1.6/1.6 MB\u001b[0m \u001b[31m54.3 MB/s\u001b[0m eta \u001b[36m0:00:00\u001b[0m\n",
            "\u001b[2K   \u001b[90m━━━━━━━━━━━━━━━━━━━━━━━━━━━━━━━━━━━━━━━━\u001b[0m \u001b[32m16.4/16.4 MB\u001b[0m \u001b[31m113.3 MB/s\u001b[0m eta \u001b[36m0:00:00\u001b[0m\n",
            "\u001b[2K   \u001b[90m━━━━━━━━━━━━━━━━━━━━━━━━━━━━━━━━━━━━━━━━\u001b[0m \u001b[32m1.2/1.2 MB\u001b[0m \u001b[31m34.9 MB/s\u001b[0m eta \u001b[36m0:00:00\u001b[0m\n",
            "\u001b[2K   \u001b[90m━━━━━━━━━━━━━━━━━━━━━━━━━━━━━━━━━━━━━━━━\u001b[0m \u001b[32m862.5/862.5 kB\u001b[0m \u001b[31m24.7 MB/s\u001b[0m eta \u001b[36m0:00:00\u001b[0m\n",
            "\u001b[2K   \u001b[90m━━━━━━━━━━━━━━━━━━━━━━━━━━━━━━━━━━━━━━━━\u001b[0m \u001b[32m1.1/1.1 MB\u001b[0m \u001b[31m28.0 MB/s\u001b[0m eta \u001b[36m0:00:00\u001b[0m\n",
            "\u001b[?25h"
          ]
        }
      ]
    },
    {
      "cell_type": "code",
      "source": [
        "!source activate ./env; pip install -q scikit-learn==1.2.2"
      ],
      "metadata": {
        "colab": {
          "base_uri": "https://localhost:8080/"
        },
        "id": "uFQRnfobfTXt",
        "outputId": "6a9a55a2-4bf2-4aad-cca4-b24aabc59aff"
      },
      "execution_count": null,
      "outputs": [
        {
          "output_type": "stream",
          "name": "stdout",
          "text": [
            "\u001b[2K   \u001b[90m━━━━━━━━━━━━━━━━━━━━━━━━━━━━━━━━━━━━━━━━\u001b[0m \u001b[32m9.6/9.6 MB\u001b[0m \u001b[31m20.1 MB/s\u001b[0m eta \u001b[36m0:00:00\u001b[0m\n",
            "\u001b[2K   \u001b[90m━━━━━━━━━━━━━━━━━━━━━━━━━━━━━━━━━━━━━━━━\u001b[0m \u001b[32m37.6/37.6 MB\u001b[0m \u001b[31m35.1 MB/s\u001b[0m eta \u001b[36m0:00:00\u001b[0m\n",
            "\u001b[?25h"
          ]
        }
      ]
    },
    {
      "cell_type": "code",
      "source": [
        "!source activate ./env; pip install -U pandas --quiet"
      ],
      "metadata": {
        "colab": {
          "base_uri": "https://localhost:8080/"
        },
        "id": "4zU5tES9pB_t",
        "outputId": "a766c075-4b51-4968-a184-3c906f7810e2"
      },
      "execution_count": null,
      "outputs": [
        {
          "output_type": "stream",
          "name": "stdout",
          "text": [
            "\u001b[2K   \u001b[90m━━━━━━━━━━━━━━━━━━━━━━━━━━━━━━━━━━━━━━━━\u001b[0m \u001b[32m13.1/13.1 MB\u001b[0m \u001b[31m37.5 MB/s\u001b[0m eta \u001b[36m0:00:00\u001b[0m\n",
            "\u001b[?25h"
          ]
        }
      ]
    },
    {
      "cell_type": "code",
      "source": [
        "!source activate ./env; pip install -q numpy==1.26.4"
      ],
      "metadata": {
        "colab": {
          "base_uri": "https://localhost:8080/"
        },
        "id": "6npgxZ0Afmxl",
        "outputId": "ba0692ae-ee2c-4241-d131-a02892a29f22"
      },
      "execution_count": null,
      "outputs": [
        {
          "output_type": "stream",
          "name": "stdout",
          "text": [
            "\u001b[?25l   \u001b[90m━━━━━━━━━━━━━━━━━━━━━━━━━━━━━━━━━━━━━━━━\u001b[0m \u001b[32m0.0/18.2 MB\u001b[0m \u001b[31m?\u001b[0m eta \u001b[36m-:--:--\u001b[0m\r\u001b[2K   \u001b[91m━━━━━━━━━━━━━━━━━━━━━━━━━━━━━━━━━━━━━━━\u001b[0m\u001b[91m╸\u001b[0m \u001b[32m18.1/18.2 MB\u001b[0m \u001b[31m142.5 MB/s\u001b[0m eta \u001b[36m0:00:01\u001b[0m\r\u001b[2K   \u001b[90m━━━━━━━━━━━━━━━━━━━━━━━━━━━━━━━━━━━━━━━━\u001b[0m \u001b[32m18.2/18.2 MB\u001b[0m \u001b[31m87.9 MB/s\u001b[0m eta \u001b[36m0:00:00\u001b[0m\n",
            "\u001b[?25h"
          ]
        }
      ]
    },
    {
      "cell_type": "markdown",
      "source": [
        "---"
      ],
      "metadata": {
        "id": "ZUQa3kaUhWnW"
      }
    },
    {
      "cell_type": "code",
      "source": [
        "%%bash\n",
        "source activate ./env\n",
        "\n",
        "python\n",
        "\n",
        "from sklearn import svm, datasets\n",
        "\n",
        "# Load training data\n",
        "iris = datasets.load_iris()\n",
        "X, y = iris.data, iris.target\n",
        "\n",
        "# Model Training\n",
        "clf = svm.SVC()\n",
        "clf.fit(X, y)\n",
        "\n",
        "\n",
        "import pickle\n",
        "\n",
        "# save the iris classification model as a pickle file\n",
        "model_pkl_file = \"clf.pkl\"\n",
        "\n",
        "with open(model_pkl_file, 'wb') as file:\n",
        "    pickle.dump(clf, file)"
      ],
      "metadata": {
        "id": "Maqo54CcfCdF"
      },
      "execution_count": null,
      "outputs": []
    },
    {
      "cell_type": "code",
      "source": [
        "%%bash\n",
        "source activate ./env\n",
        "\n",
        "python\n",
        "\n",
        "import pickle\n",
        "\n",
        "model_pkl_file = \"clf.pkl\"\n",
        "\n",
        "with open(model_pkl_file, 'rb') as file:\n",
        "    clf = pickle.load(file)\n",
        "\n",
        "\n",
        "import bentoml\n",
        "\n",
        "saved_model = bentoml.sklearn.save_model(\"iris_clf\", clf);"
      ],
      "metadata": {
        "id": "9xn9aPxUllPE"
      },
      "execution_count": null,
      "outputs": []
    },
    {
      "cell_type": "code",
      "source": [
        "!source activate ./env; bentoml models list"
      ],
      "metadata": {
        "colab": {
          "base_uri": "https://localhost:8080/"
        },
        "id": "kB1mvWYN5Arz",
        "outputId": "194334b7-55c4-4e0c-d555-387bf7bf29e1"
      },
      "execution_count": null,
      "outputs": [
        {
          "output_type": "stream",
          "name": "stdout",
          "text": [
            "\u001b[1m \u001b[0m\u001b[1mTag                      \u001b[0m\u001b[1m \u001b[0m\u001b[1m \u001b[0m\u001b[1mModule         \u001b[0m\u001b[1m \u001b[0m\u001b[1m \u001b[0m\u001b[1mSize    \u001b[0m\u001b[1m \u001b[0m\u001b[1m \u001b[0m\u001b[1mCreation Time      \u001b[0m\u001b[1m \u001b[0m\n",
            " iris_clf:724q4lq3uovxuasc  bentoml.sklearn  6.03 KiB  2025-04-17 15:52:41 \n"
          ]
        }
      ]
    },
    {
      "cell_type": "code",
      "source": [
        "%%bash\n",
        "source activate ./env\n",
        "\n",
        "python\n",
        "\n",
        "import bentoml\n",
        "\n",
        "loaded_model = bentoml.sklearn.load_model(\"iris_clf:latest\")\n",
        "\n",
        "result=loaded_model.predict([[5.9, 3.0, 5.1, 1.8]])\n",
        "print(\"result:\",result)"
      ],
      "metadata": {
        "colab": {
          "base_uri": "https://localhost:8080/"
        },
        "id": "K0yJMZuYvDwd",
        "outputId": "5d6114ec-f7bd-4748-a6dd-dacbacb9322e"
      },
      "execution_count": null,
      "outputs": [
        {
          "output_type": "stream",
          "name": "stdout",
          "text": [
            "result: [2]\n"
          ]
        }
      ]
    },
    {
      "cell_type": "code",
      "source": [
        "%%bash\n",
        "source activate ./env\n",
        "\n",
        "python\n",
        "\n",
        "import bentoml\n",
        "\n",
        "# 创建Runner实例：\n",
        "iris_clf_runner = bentoml.sklearn.get(\"iris_clf:latest\").to_runner()\n",
        "\n",
        "# “Runner.init_local”仅用于调试和测试。确保在部署到生产环境之前将其移除。\n",
        "iris_clf_runner.init_local()\n",
        "\n",
        "# 这将产生与加载模型相同的结果：\n",
        "result = iris_clf_runner.predict.run([[5.9, 3.0, 5.1, 1.8]])\n",
        "print(\"result:\", result)"
      ],
      "metadata": {
        "colab": {
          "base_uri": "https://localhost:8080/"
        },
        "id": "AvkPQZ_iw1_7",
        "outputId": "2f861694-a64c-43eb-e88e-d23de34ecf3e"
      },
      "execution_count": null,
      "outputs": [
        {
          "output_type": "stream",
          "name": "stdout",
          "text": [
            "result: [2]\n"
          ]
        },
        {
          "output_type": "stream",
          "name": "stderr",
          "text": [
            "'Runner.init_local' is for debugging and testing only. Make sure to remove it before deploying to production.\n"
          ]
        }
      ]
    },
    {
      "cell_type": "code",
      "source": [
        "%%writefile service.py\n",
        "import numpy as np\n",
        "import bentoml\n",
        "from bentoml.io import NumpyNdarray\n",
        "\n",
        "# Runner实例化\n",
        "iris_clf_runner = bentoml.sklearn.get(\"iris_clf:latest\").to_runner()\n",
        "\n",
        "# 定义服务名称并加载Runner实例\n",
        "svc = bentoml.Service(\"iris_classifier\", runners=[iris_clf_runner])\n",
        "\n",
        "# 与FastAPI一致，通过装饰器绑定路由与视图\n",
        "@svc.api(input=NumpyNdarray(), output=NumpyNdarray())\n",
        "def classify(input_series: np.ndarray) -> np.ndarray:\n",
        "    return iris_clf_runner.predict.run(input_series)"
      ],
      "metadata": {
        "colab": {
          "base_uri": "https://localhost:8080/"
        },
        "id": "FWO2R5BVxY12",
        "outputId": "dee8225a-b8d1-4fb1-8dfb-10e0287cf862"
      },
      "execution_count": null,
      "outputs": [
        {
          "output_type": "stream",
          "name": "stdout",
          "text": [
            "Writing service.py\n"
          ]
        }
      ]
    },
    {
      "cell_type": "code",
      "source": [
        "%%writefile bentofile.yaml\n",
        "service: \"service.py:svc\"\n",
        "labels:\n",
        "    owner: bentoml-team\n",
        "    project: gallery\n",
        "include:\n",
        "- \"*.py\"\n",
        "python:\n",
        "    packages:\n",
        "        - scikit-learn\n",
        "        - pandas"
      ],
      "metadata": {
        "colab": {
          "base_uri": "https://localhost:8080/"
        },
        "id": "lzxSanwwsZPT",
        "outputId": "968c5660-ddc0-4dde-d823-54226e9d3615"
      },
      "execution_count": null,
      "outputs": [
        {
          "output_type": "stream",
          "name": "stdout",
          "text": [
            "Writing bentofile.yaml\n"
          ]
        }
      ]
    },
    {
      "cell_type": "markdown",
      "source": [
        "* TIP: **include** 不用 `\"*.py\"` ，明確寫出哪些 py 檔，在 `bentoml build` 時，會比較快/比較不會出問題"
      ],
      "metadata": {
        "id": "2VLTnmTrwRpx"
      }
    },
    {
      "cell_type": "code",
      "source": [
        "!source activate ./env; bentoml models get iris_clf:latest"
      ],
      "metadata": {
        "colab": {
          "base_uri": "https://localhost:8080/"
        },
        "id": "iMF-FoYtsS62",
        "outputId": "c90119ab-febd-4202-9742-794ecc33ed6c"
      },
      "execution_count": null,
      "outputs": [
        {
          "output_type": "stream",
          "name": "stdout",
          "text": [
            "\u001b[91;49mname\u001b[0m\u001b[97;49m:\u001b[0m\u001b[97;49m \u001b[0m\u001b[49miris_clf\u001b[0m\n",
            "\u001b[91;49mversion\u001b[0m\u001b[97;49m:\u001b[0m\u001b[97;49m \u001b[0m\u001b[49m724q4lq3uovxuasc\u001b[0m\n",
            "\u001b[91;49mmodule\u001b[0m\u001b[97;49m:\u001b[0m\u001b[97;49m \u001b[0m\u001b[49mbentoml.sklearn\u001b[0m\n",
            "\u001b[91;49mlabels\u001b[0m\u001b[97;49m:\u001b[0m\u001b[97;49m \u001b[0m\u001b[49m{}\u001b[0m\n",
            "\u001b[91;49moptions\u001b[0m\u001b[97;49m:\u001b[0m\u001b[97;49m \u001b[0m\u001b[49m{}\u001b[0m\n",
            "\u001b[91;49mmetadata\u001b[0m\u001b[97;49m:\u001b[0m\u001b[97;49m \u001b[0m\u001b[49m{}\u001b[0m\n",
            "\u001b[91;49mcontext\u001b[0m\u001b[97;49m:\u001b[0m\n",
            "\u001b[97;49m  \u001b[0m\u001b[91;49mframework_name\u001b[0m\u001b[97;49m:\u001b[0m\u001b[97;49m \u001b[0m\u001b[49msklearn\u001b[0m\n",
            "\u001b[97;49m  \u001b[0m\u001b[91;49mframework_versions\u001b[0m\u001b[97;49m:\u001b[0m\n",
            "\u001b[97;49m    \u001b[0m\u001b[91;49mscikit-learn\u001b[0m\u001b[97;49m:\u001b[0m\u001b[97;49m \u001b[0m\u001b[49m1.2.2\u001b[0m\n",
            "\u001b[97;49m  \u001b[0m\u001b[91;49mbentoml_version\u001b[0m\u001b[97;49m:\u001b[0m\u001b[97;49m \u001b[0m\u001b[49m1.0.19\u001b[0m\n",
            "\u001b[97;49m  \u001b[0m\u001b[91;49mpython_version\u001b[0m\u001b[97;49m:\u001b[0m\u001b[97;49m \u001b[0m\u001b[49m3.10.11\u001b[0m\n",
            "\u001b[91;49msignatures\u001b[0m\u001b[97;49m:\u001b[0m\n",
            "\u001b[97;49m  \u001b[0m\u001b[91;49mpredict\u001b[0m\u001b[97;49m:\u001b[0m\n",
            "\u001b[97;49m    \u001b[0m\u001b[91;49mbatchable\u001b[0m\u001b[97;49m:\u001b[0m\u001b[97;49m \u001b[0m\u001b[49mfalse\u001b[0m\n",
            "\u001b[91;49mapi_version\u001b[0m\u001b[97;49m:\u001b[0m\u001b[97;49m \u001b[0m\u001b[49mv1\u001b[0m\n",
            "\u001b[91;49mcreation_time\u001b[0m\u001b[97;49m:\u001b[0m\u001b[97;49m \u001b[0m\u001b[93;49m'\u001b[0m\u001b[93;49m2025-04-17T15:52:41.565225+00:00\u001b[0m\u001b[93;49m'\u001b[0m\n",
            "\n"
          ]
        }
      ]
    },
    {
      "cell_type": "code",
      "source": [
        "!source activate ./env; bentoml serve service.py:svc --reload"
      ],
      "metadata": {
        "colab": {
          "base_uri": "https://localhost:8080/"
        },
        "id": "DyhJgkQwxyFD",
        "outputId": "6d548b44-69ff-4ccf-c4e2-12d5d9cfbf0d"
      },
      "execution_count": null,
      "outputs": [
        {
          "output_type": "stream",
          "name": "stdout",
          "text": [
            "2025-04-17T16:49:59+0000 [INFO] [cli] Prometheus metrics for HTTP BentoServer from \"service.py:svc\" can be accessed at http://localhost:3000/metrics.\n",
            "2025-04-17T16:49:59+0000 [INFO] [cli] Starting development HTTP BentoServer from \"service.py:svc\" listening on http://0.0.0.0:3000 (Press CTRL+C to quit)\n",
            "2025-04-17 16:50:00 circus[16123] [INFO] Loading the plugin...\n",
            "2025-04-17 16:50:00 circus[16123] [INFO] Endpoint: 'tcp://127.0.0.1:43143'\n",
            "2025-04-17 16:50:00 circus[16123] [INFO] Pub/sub: 'tcp://127.0.0.1:34141'\n",
            "2025-04-17T16:50:00+0000 [INFO] [observer] Watching directories: ['/content', '/root/bentoml/models']\n"
          ]
        }
      ]
    },
    {
      "cell_type": "code",
      "source": [],
      "metadata": {
        "id": "hgPMGIa_7pD5"
      },
      "execution_count": null,
      "outputs": []
    },
    {
      "cell_type": "code",
      "source": [
        "!source activate ./env; bentoml build"
      ],
      "metadata": {
        "colab": {
          "base_uri": "https://localhost:8080/"
        },
        "id": "IagCfUlytOpt",
        "outputId": "fbc74975-eed6-4764-8294-faec391c3a56"
      },
      "execution_count": null,
      "outputs": [
        {
          "output_type": "stream",
          "name": "stdout",
          "text": [
            "Building BentoML service \"iris_classifier:x6xqxkq3v6vlqasc\" from build context \"/content\".\n",
            "Packing model \"iris_clf:724q4lq3uovxuasc\"\n",
            "\n",
            "Aborted!\n"
          ]
        }
      ]
    },
    {
      "cell_type": "code",
      "source": [
        "!source activate ./env; bentoml containerize iris_classifier:latest"
      ],
      "metadata": {
        "id": "FIs7rZecxFnx"
      },
      "execution_count": null,
      "outputs": []
    },
    {
      "cell_type": "markdown",
      "source": [
        "---"
      ],
      "metadata": {
        "id": "4NFjnVL10oq2"
      }
    },
    {
      "cell_type": "markdown",
      "source": [
        "# BentoML Example 02-1: Iris Prediction"
      ],
      "metadata": {
        "id": "h0WanDOnmp3r"
      }
    },
    {
      "cell_type": "markdown",
      "source": [
        "* 根據--參4"
      ],
      "metadata": {
        "id": "oXIlHAaSoqXw"
      }
    },
    {
      "cell_type": "code",
      "source": [
        "!conda create -p venv python=3.9 -y -q"
      ],
      "metadata": {
        "collapsed": true,
        "id": "PgeE8cla-fbW",
        "outputId": "bb80406a-1009-4614-d6bf-62e8fa59dd52",
        "colab": {
          "base_uri": "https://localhost:8080/"
        }
      },
      "execution_count": 1,
      "outputs": [
        {
          "output_type": "stream",
          "name": "stdout",
          "text": [
            "Channels:\n",
            " - conda-forge\n",
            "Platform: linux-64\n",
            "Collecting package metadata (repodata.json): ...working... done\n",
            "Solving environment: ...working... done\n",
            "\n",
            "## Package Plan ##\n",
            "\n",
            "  environment location: /content/venv\n",
            "\n",
            "  added / updated specs:\n",
            "    - python=3.9\n",
            "\n",
            "\n",
            "The following packages will be downloaded:\n",
            "\n",
            "    package                    |            build\n",
            "    ---------------------------|-----------------\n",
            "    ca-certificates-2025.1.31  |       hbcca054_0         154 KB  conda-forge\n",
            "    ld_impl_linux-64-2.43      |       h712a8e2_4         656 KB  conda-forge\n",
            "    libexpat-2.7.0             |       h5888daf_0          73 KB  conda-forge\n",
            "    libffi-3.4.6               |       h2dba641_1          56 KB  conda-forge\n",
            "    libgcc-14.2.0              |       h767d61c_2         828 KB  conda-forge\n",
            "    libgcc-ng-14.2.0           |       h69a702a_2          52 KB  conda-forge\n",
            "    libgomp-14.2.0             |       h767d61c_2         449 KB  conda-forge\n",
            "    liblzma-5.8.1              |       hb9d3cd8_0         110 KB  conda-forge\n",
            "    libsqlite-3.49.1           |       hee588c1_2         897 KB  conda-forge\n",
            "    ncurses-6.5                |       h2d0b736_3         871 KB  conda-forge\n",
            "    openssl-3.5.0              |       h7b32b05_0         3.0 MB  conda-forge\n",
            "    pip-25.0.1                 |     pyh8b19718_0         1.2 MB  conda-forge\n",
            "    python-3.9.22              |h85ef794_1_cpython        22.5 MB  conda-forge\n",
            "    readline-8.2               |       h8c095d6_2         276 KB  conda-forge\n",
            "    setuptools-78.1.0          |     pyhff2d567_0         768 KB  conda-forge\n",
            "    tzdata-2025b               |       h78e105d_0         120 KB  conda-forge\n",
            "    ------------------------------------------------------------\n",
            "                                           Total:        31.9 MB\n",
            "\n",
            "The following NEW packages will be INSTALLED:\n",
            "\n",
            "  _libgcc_mutex      conda-forge/linux-64::_libgcc_mutex-0.1-conda_forge \n",
            "  _openmp_mutex      conda-forge/linux-64::_openmp_mutex-4.5-2_gnu \n",
            "  bzip2              conda-forge/linux-64::bzip2-1.0.8-h4bc722e_7 \n",
            "  ca-certificates    conda-forge/linux-64::ca-certificates-2025.1.31-hbcca054_0 \n",
            "  ld_impl_linux-64   conda-forge/linux-64::ld_impl_linux-64-2.43-h712a8e2_4 \n",
            "  libexpat           conda-forge/linux-64::libexpat-2.7.0-h5888daf_0 \n",
            "  libffi             conda-forge/linux-64::libffi-3.4.6-h2dba641_1 \n",
            "  libgcc             conda-forge/linux-64::libgcc-14.2.0-h767d61c_2 \n",
            "  libgcc-ng          conda-forge/linux-64::libgcc-ng-14.2.0-h69a702a_2 \n",
            "  libgomp            conda-forge/linux-64::libgomp-14.2.0-h767d61c_2 \n",
            "  liblzma            conda-forge/linux-64::liblzma-5.8.1-hb9d3cd8_0 \n",
            "  libnsl             conda-forge/linux-64::libnsl-2.0.1-hd590300_0 \n",
            "  libsqlite          conda-forge/linux-64::libsqlite-3.49.1-hee588c1_2 \n",
            "  libuuid            conda-forge/linux-64::libuuid-2.38.1-h0b41bf4_0 \n",
            "  libxcrypt          conda-forge/linux-64::libxcrypt-4.4.36-hd590300_1 \n",
            "  libzlib            conda-forge/linux-64::libzlib-1.3.1-hb9d3cd8_2 \n",
            "  ncurses            conda-forge/linux-64::ncurses-6.5-h2d0b736_3 \n",
            "  openssl            conda-forge/linux-64::openssl-3.5.0-h7b32b05_0 \n",
            "  pip                conda-forge/noarch::pip-25.0.1-pyh8b19718_0 \n",
            "  python             conda-forge/linux-64::python-3.9.22-h85ef794_1_cpython \n",
            "  readline           conda-forge/linux-64::readline-8.2-h8c095d6_2 \n",
            "  setuptools         conda-forge/noarch::setuptools-78.1.0-pyhff2d567_0 \n",
            "  tk                 conda-forge/linux-64::tk-8.6.13-noxft_h4845f30_101 \n",
            "  tzdata             conda-forge/noarch::tzdata-2025b-h78e105d_0 \n",
            "  wheel              conda-forge/noarch::wheel-0.45.1-pyhd8ed1ab_1 \n",
            "\n",
            "\n",
            "Preparing transaction: ...working... done\n",
            "Verifying transaction: ...working... done\n",
            "Executing transaction: ...working... done\n"
          ]
        }
      ]
    },
    {
      "cell_type": "code",
      "source": [
        "!source activate ./venv; pip install -q bentoml==1.0.25"
      ],
      "metadata": {
        "id": "dUOKO8_AA7U1",
        "outputId": "4fac7fbf-b64a-468d-c113-5bb034137374",
        "colab": {
          "base_uri": "https://localhost:8080/"
        }
      },
      "execution_count": 2,
      "outputs": [
        {
          "output_type": "stream",
          "name": "stdout",
          "text": [
            "\u001b[2K   \u001b[90m━━━━━━━━━━━━━━━━━━━━━━━━━━━━━━━━━━━━━━━━\u001b[0m \u001b[32m1.0/1.0 MB\u001b[0m \u001b[31m30.0 MB/s\u001b[0m eta \u001b[36m0:00:00\u001b[0m\n",
            "\u001b[2K   \u001b[90m━━━━━━━━━━━━━━━━━━━━━━━━━━━━━━━━━━━━━━━━\u001b[0m \u001b[32m737.4/737.4 kB\u001b[0m \u001b[31m24.1 MB/s\u001b[0m eta \u001b[36m0:00:00\u001b[0m\n",
            "\u001b[2K   \u001b[90m━━━━━━━━━━━━━━━━━━━━━━━━━━━━━━━━━━━━━━━━\u001b[0m \u001b[32m1.6/1.6 MB\u001b[0m \u001b[31m37.6 MB/s\u001b[0m eta \u001b[36m0:00:00\u001b[0m\n",
            "\u001b[2K   \u001b[90m━━━━━━━━━━━━━━━━━━━━━━━━━━━━━━━━━━━━━━━━\u001b[0m \u001b[32m19.5/19.5 MB\u001b[0m \u001b[31m58.4 MB/s\u001b[0m eta \u001b[36m0:00:00\u001b[0m\n",
            "\u001b[2K   \u001b[90m━━━━━━━━━━━━━━━━━━━━━━━━━━━━━━━━━━━━━━━━\u001b[0m \u001b[32m1.2/1.2 MB\u001b[0m \u001b[31m39.6 MB/s\u001b[0m eta \u001b[36m0:00:00\u001b[0m\n",
            "\u001b[2K   \u001b[90m━━━━━━━━━━━━━━━━━━━━━━━━━━━━━━━━━━━━━━━━\u001b[0m \u001b[32m863.0/863.0 kB\u001b[0m \u001b[31m45.3 MB/s\u001b[0m eta \u001b[36m0:00:00\u001b[0m\n",
            "\u001b[?25h"
          ]
        }
      ]
    },
    {
      "cell_type": "code",
      "source": [
        "!source activate ./venv; pip install -q scikit-learn==1.2.2"
      ],
      "metadata": {
        "id": "vRdtnXNFA7N9",
        "outputId": "38e94456-1306-4a51-c7d3-8b699ed883ea",
        "colab": {
          "base_uri": "https://localhost:8080/"
        }
      },
      "execution_count": 4,
      "outputs": [
        {
          "output_type": "stream",
          "name": "stdout",
          "text": [
            "\u001b[2K   \u001b[90m━━━━━━━━━━━━━━━━━━━━━━━━━━━━━━━━━━━━━━━━\u001b[0m \u001b[32m9.6/9.6 MB\u001b[0m \u001b[31m76.4 MB/s\u001b[0m eta \u001b[36m0:00:00\u001b[0m\n",
            "\u001b[2K   \u001b[90m━━━━━━━━━━━━━━━━━━━━━━━━━━━━━━━━━━━━━━━━\u001b[0m \u001b[32m38.6/38.6 MB\u001b[0m \u001b[31m72.0 MB/s\u001b[0m eta \u001b[36m0:00:00\u001b[0m\n",
            "\u001b[?25h"
          ]
        }
      ]
    },
    {
      "cell_type": "code",
      "source": [
        "!source activate ./venv; pip install -q numpy==1.26.4"
      ],
      "metadata": {
        "id": "KiSK9bD-t2Hl",
        "outputId": "72eff664-4e95-400b-e842-ffb556a30696",
        "colab": {
          "base_uri": "https://localhost:8080/"
        }
      },
      "execution_count": 3,
      "outputs": [
        {
          "output_type": "stream",
          "name": "stdout",
          "text": [
            "\u001b[2K   \u001b[90m━━━━━━━━━━━━━━━━━━━━━━━━━━━━━━━━━━━━━━━━\u001b[0m \u001b[32m18.2/18.2 MB\u001b[0m \u001b[31m58.2 MB/s\u001b[0m eta \u001b[36m0:00:00\u001b[0m\n",
            "\u001b[?25h"
          ]
        }
      ]
    },
    {
      "cell_type": "code",
      "source": [
        "%%writefile train.py\n",
        "from sklearn import svm\n",
        "from sklearn import datasets\n",
        "import bentoml\n",
        "\n",
        "# Load training data\n",
        "iris = datasets.load_iris()\n",
        "X, y = iris.data, iris.target\n",
        "\n",
        "# Model Training\n",
        "clf = svm.SVC(gamma='scale')\n",
        "clf.fit(X, y)\n",
        "\n",
        "# 调用`bentoml.<FRAMEWORK>.save(<MODEL_NAME>, model)` 为了在本地模型存储中保存为 BentoML 的标准格式\n",
        "# bentoml.sklearn.save(\"iris_clf\", clf) # deprecated\n",
        "bentoml.sklearn.save_model(\"iris_clf\", clf)"
      ],
      "metadata": {
        "id": "YuBwrytAhcAU",
        "outputId": "2bbd2620-1cbf-4665-85c0-0d96249c009f",
        "colab": {
          "base_uri": "https://localhost:8080/"
        }
      },
      "execution_count": 5,
      "outputs": [
        {
          "output_type": "stream",
          "name": "stdout",
          "text": [
            "Writing train.py\n"
          ]
        }
      ]
    },
    {
      "cell_type": "code",
      "source": [
        "!source activate ./venv; python train.py"
      ],
      "metadata": {
        "id": "7QUxDIUUkmaL"
      },
      "execution_count": 6,
      "outputs": []
    },
    {
      "cell_type": "code",
      "source": [
        "!source activate ./venv; bentoml models list"
      ],
      "metadata": {
        "id": "WnemNPkKmp0_",
        "outputId": "0ec56bed-5fd1-4eeb-d00f-3c4f88196f6c",
        "colab": {
          "base_uri": "https://localhost:8080/"
        }
      },
      "execution_count": 7,
      "outputs": [
        {
          "output_type": "stream",
          "name": "stdout",
          "text": [
            "\u001b[1m \u001b[0m\u001b[1mTag                      \u001b[0m\u001b[1m \u001b[0m\u001b[1m \u001b[0m\u001b[1mModule         \u001b[0m\u001b[1m \u001b[0m\u001b[1m \u001b[0m\u001b[1mSize    \u001b[0m\u001b[1m \u001b[0m\u001b[1m \u001b[0m\u001b[1mCreation Time      \u001b[0m\u001b[1m \u001b[0m\n",
            " iris_clf:msifzqq5vkk34asc  bentoml.sklearn  5.98 KiB  2025-04-20 05:43:31 \n"
          ]
        }
      ]
    },
    {
      "cell_type": "code",
      "source": [
        "%%writefile verify.py\n",
        "\n",
        "import bentoml\n",
        "\n",
        "runner = bentoml.sklearn.get(\"iris_clf:latest\").to_runner()\n",
        "\n",
        "runner.init_local()\n",
        "\n",
        "print(runner.predict.run([[5.9, 3., 5.1, 1.8]]))  # => array(2)"
      ],
      "metadata": {
        "id": "hvVK9tXCoS6G",
        "outputId": "6f2e8fc2-0aad-4b6e-df07-8f7750bdfaf7",
        "colab": {
          "base_uri": "https://localhost:8080/"
        }
      },
      "execution_count": 8,
      "outputs": [
        {
          "output_type": "stream",
          "name": "stdout",
          "text": [
            "Writing verify.py\n"
          ]
        }
      ]
    },
    {
      "cell_type": "code",
      "source": [
        "!source activate ./venv; python verify.py"
      ],
      "metadata": {
        "id": "5rJu2SvDoYjb",
        "outputId": "31afabe0-528e-4179-bf08-caafb0b16c68",
        "colab": {
          "base_uri": "https://localhost:8080/"
        }
      },
      "execution_count": 9,
      "outputs": [
        {
          "output_type": "stream",
          "name": "stdout",
          "text": [
            "'Runner.init_local' is for debugging and testing only. Make sure to remove it before deploying to production.\n",
            "[2]\n"
          ]
        }
      ]
    },
    {
      "cell_type": "code",
      "source": [
        "%%writefile service.py\n",
        "import numpy as np\n",
        "import bentoml\n",
        "from bentoml.io import NumpyNdarray\n",
        "\n",
        "# 加载我们刚刚保存的最新 ScikitLearn 模型的运行器\n",
        "iris_clf_runner = bentoml.sklearn.get(\"iris_clf:latest\").to_runner()\n",
        "\n",
        "# 使用 ScikitLearn 运行器创建 iris_classifier 服务\n",
        "# 如果需要，可以在runners数组中指定多个运行器\n",
        "# 当包装为bento时，运行器（runners）也会被包括在里面\n",
        "svc = bentoml.Service(\"iris_classifier\", runners=[iris_clf_runner])\n",
        "\n",
        "\n",
        "# 使用“svc”注解创建具有预处理和后处理逻辑的 API 函数\n",
        "@svc.api(input=NumpyNdarray(), output=NumpyNdarray())\n",
        "def classify(input_series: np.ndarray) -> np.ndarray:\n",
        "    # 定义预处理逻辑\n",
        "    result = iris_clf_runner.predict.run(input_series)\n",
        "    # 定义后处理逻辑\n",
        "    return result"
      ],
      "metadata": {
        "id": "J_yf6F9VqKCc",
        "outputId": "fa5b609a-4087-4551-96bf-8c411f23f616",
        "colab": {
          "base_uri": "https://localhost:8080/"
        }
      },
      "execution_count": 10,
      "outputs": [
        {
          "output_type": "stream",
          "name": "stdout",
          "text": [
            "Writing service.py\n"
          ]
        }
      ]
    },
    {
      "cell_type": "code",
      "source": [
        "!source activate ./venv; bentoml serve service.py:svc --reload"
      ],
      "metadata": {
        "id": "rqBc2G6WyYvy",
        "outputId": "99f67632-8d9f-458b-8988-582575479f73",
        "colab": {
          "base_uri": "https://localhost:8080/"
        }
      },
      "execution_count": 11,
      "outputs": [
        {
          "output_type": "stream",
          "name": "stdout",
          "text": [
            "2025-04-20T05:44:04+0000 [INFO] [cli] Environ for worker 0: set CPU thread count to 2\n",
            "2025-04-20T05:44:04+0000 [INFO] [cli] Prometheus metrics for HTTP BentoServer from \"service.py:svc\" can be accessed at http://localhost:3000/metrics.\n",
            "2025-04-20T05:44:04+0000 [INFO] [cli] Starting production HTTP BentoServer from \"service.py:svc\" listening on http://0.0.0.0:3000 (Press CTRL+C to quit)\n"
          ]
        }
      ]
    },
    {
      "cell_type": "code",
      "source": [
        "!source activate ./venv; curl \\\n",
        "  -X POST \\\n",
        "  -H \"content-type: application/json\" \\\n",
        "  --data \"[5,4,3,2]\" \\\n",
        "  http://127.0.0.1:3000/classify"
      ],
      "metadata": {
        "id": "69aXPGv6zLOb",
        "outputId": "41470fff-f826-438c-cda6-81b48315e0be",
        "colab": {
          "base_uri": "https://localhost:8080/"
        }
      },
      "execution_count": null,
      "outputs": [
        {
          "output_type": "stream",
          "name": "stdout",
          "text": [
            "curl: /usr/local/lib/libcurl.so.4: no version information available (required by curl)\n",
            "curl: (7) Failed to connect to 127.0.0.1 port 3000 after 0 ms: Could not connect to server\n"
          ]
        }
      ]
    },
    {
      "cell_type": "code",
      "source": [
        "%%writefile bentofile.yaml\n",
        "service: \"service.py:svc\"  # 定位服务的约定：<YOUR_SERVICE_PY>:<YOUR_SERVICE_ANNOTATION>\n",
        "labels:\n",
        "    owner: bentoml-team\n",
        "    stage: demo\n",
        "include:\n",
        "  - \"train.py\"\n",
        "  - \"verify.py\"\n",
        "  - \"service.py\"\n",
        "python:\n",
        "    packages:\n",
        "    - scikit-learn\n",
        "    - pandas"
      ],
      "metadata": {
        "id": "62vZKqEt1OfC",
        "outputId": "61733c48-a74f-4c26-f257-7fbcb671f847",
        "colab": {
          "base_uri": "https://localhost:8080/"
        }
      },
      "execution_count": 14,
      "outputs": [
        {
          "output_type": "stream",
          "name": "stdout",
          "text": [
            "Writing bentofile.yaml\n"
          ]
        }
      ]
    },
    {
      "cell_type": "code",
      "source": [
        "!source activate ./venv; bentoml build"
      ],
      "metadata": {
        "id": "2ijOduDkxyax",
        "outputId": "de4d182f-5e0e-4998-c1a7-99393525fcff",
        "colab": {
          "base_uri": "https://localhost:8080/"
        }
      },
      "execution_count": 15,
      "outputs": [
        {
          "output_type": "stream",
          "name": "stdout",
          "text": [
            "Locking PyPI package versions.\n",
            "\u001b[2K     \u001b[90m━━━━━━━━━━━━━━━━━━━━━━━━━━━━━━━━━━━━━━━\u001b[0m \u001b[32m13.5/13.5 MB\u001b[0m \u001b[31m113.7 MB/s\u001b[0m eta \u001b[36m0:00:00\u001b[0m\n",
            "\u001b[2K     \u001b[90m━━━━━━━━━━━━━━━━━━━━━━━━━━━━━━━━━━━━━━━\u001b[0m \u001b[32m13.1/13.1 MB\u001b[0m \u001b[31m124.0 MB/s\u001b[0m eta \u001b[36m0:00:00\u001b[0m\n",
            "\u001b[2K     \u001b[90m━━━━━━━━━━━━━━━━━━━━━━━━━━━━━━━━━━━━━━━━\u001b[0m \u001b[32m19.5/19.5 MB\u001b[0m \u001b[31m81.0 MB/s\u001b[0m eta \u001b[36m0:00:00\u001b[0m\n",
            "\u001b[2K     \u001b[90m━━━━━━━━━━━━━━━━━━━━━━━━━━━━━━━━━━━━━━━━\u001b[0m \u001b[32m38.6/38.6 MB\u001b[0m \u001b[31m31.8 MB/s\u001b[0m eta \u001b[36m0:00:00\u001b[0m\n",
            "\u001b[?25h\u001b[33mWARNING: --strip-extras is becoming the default in version 8.0.0. To silence this warning, either use --strip-extras to opt into the new default or use --no-strip-extras to retain the existing behavior.\u001b[0m\n",
            "\n",
            "██████╗ ███████╗███╗   ██╗████████╗ ██████╗ ███╗   ███╗██╗\n",
            "██╔══██╗██╔════╝████╗  ██║╚══██╔══╝██╔═══██╗████╗ ████║██║\n",
            "██████╔╝█████╗  ██╔██╗ ██║   ██║   ██║   ██║██╔████╔██║██║\n",
            "██╔══██╗██╔══╝  ██║╚██╗██║   ██║   ██║   ██║██║╚██╔╝██║██║\n",
            "██████╔╝███████╗██║ ╚████║   ██║   ╚██████╔╝██║ ╚═╝ ██║███████╗\n",
            "╚═════╝ ╚══════╝╚═╝  ╚═══╝   ╚═╝    ╚═════╝ ╚═╝     ╚═╝╚══════╝\n",
            "\n",
            "\u001b[32mSuccessfully built Bento(tag=\"iris_classifier:2kpw6fa5vkcfqasc\").\u001b[0m\n",
            "\u001b[34m\n",
            "Possible next steps:\n",
            "\n",
            " * Containerize your Bento with `bentoml containerize`:\n",
            "    $ bentoml containerize iris_classifier:2kpw6fa5vkcfqasc  [or bentoml build --containerize]\u001b[0m\n",
            "\u001b[34m\n",
            " * Push to BentoCloud with `bentoml push`:\n",
            "    $ bentoml push iris_classifier:2kpw6fa5vkcfqasc [or bentoml build --push]\u001b[0m\n"
          ]
        }
      ]
    },
    {
      "cell_type": "markdown",
      "source": [
        "# 參考"
      ],
      "metadata": {
        "id": "B_GeIVzMv_lf"
      }
    },
    {
      "cell_type": "markdown",
      "source": [
        "* 註1 : [Sklearn中Pipeline的用法介绍](https://blog.csdn.net/WHYbeHERE/article/details/125074001)\n",
        "\n",
        "* 參 2 : [BentoML Explained: An Optimal Model Serving Framework](https://www.axelmendoza.com/posts/bentoml-core-concepts-and-features/)\n",
        "\n",
        "* 參 3 : [BentoML模型部署--稀土掘金](https://juejin.cn/post/7231432555320016955)\n",
        "\n",
        "* 參 4 : [快速入门统一模型部署（Model Serving）框架 BentoML](https://zhuanlan.zhihu.com/p/495814838)～與參三基本相同，但有較多註釋。\n",
        "\n"
      ],
      "metadata": {
        "id": "2Re3wPrCwCM5"
      }
    },
    {
      "cell_type": "code",
      "source": [],
      "metadata": {
        "id": "iXX25acJwBgd"
      },
      "execution_count": null,
      "outputs": []
    }
  ],
  "metadata": {
    "kernelspec": {
      "display_name": "Python 3.8.9 64-bit",
      "language": "python",
      "name": "python3"
    },
    "language_info": {
      "name": "python",
      "version": "3.8.9"
    },
    "orig_nbformat": 4,
    "vscode": {
      "interpreter": {
        "hash": "19474b377433e26681bec06910cb7c945afa2d39e50483569fb199d272b8a48a"
      }
    },
    "colab": {
      "provenance": [],
      "include_colab_link": true
    }
  },
  "nbformat": 4,
  "nbformat_minor": 0
}