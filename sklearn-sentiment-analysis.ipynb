{
  "cells": [
    {
      "cell_type": "markdown",
      "metadata": {
        "id": "view-in-github",
        "colab_type": "text"
      },
      "source": [
        "<a href=\"https://colab.research.google.com/github/henrykohl/bentoml-demo/blob/main/sklearn-sentiment-analysis.ipynb\" target=\"_parent\"><img src=\"https://colab.research.google.com/assets/colab-badge.svg\" alt=\"Open In Colab\"/></a>"
      ]
    },
    {
      "cell_type": "markdown",
      "metadata": {
        "id": "ZeK4KJj5Vi3g"
      },
      "source": [
        "# BentoML Example: Sentiment Analysis with Scikit-learn"
      ]
    },
    {
      "cell_type": "markdown",
      "metadata": {
        "id": "CoELLznOjeMQ"
      },
      "source": [
        "* 根據 -- 參2\n",
        "\n",
        "* [Dataset](https://docs.google.com/file/d/0B04GJPshIjmPRnZManQwWEdTZjg/edit?resourcekey=0-betyQkEmWZgp8z0DFxWsHw) Already save a copy file in my google drive (under the `FileDisk` folder)\n",
        "\n",
        "* Requried packages with theirversions:\n",
        "\n",
        "> python=3.7\n",
        ">\n",
        "> bentoml=0.9.0\n",
        ">\n",
        "> protobuf=3.20.*\n",
        ">\n",
        "> sqlalchemy=1.3.*"
      ]
    },
    {
      "cell_type": "markdown",
      "metadata": {
        "id": "ffAKOgADVi3p"
      },
      "source": [
        "## 安裝Conda"
      ]
    },
    {
      "cell_type": "code",
      "execution_count": 1,
      "metadata": {
        "colab": {
          "base_uri": "https://localhost:8080/"
        },
        "id": "ErTxJ7YCjeMQ",
        "outputId": "c1fba2a6-83fb-416c-f108-b37cc3d18ffc"
      },
      "outputs": [
        {
          "output_type": "stream",
          "name": "stdout",
          "text": [
            "✨🍰✨ Everything looks OK!\n"
          ]
        }
      ],
      "source": [
        "!pip install -q condacolab\n",
        "import condacolab\n",
        "condacolab.install()"
      ]
    },
    {
      "cell_type": "markdown",
      "metadata": {
        "id": "TKxusHxsVi3w"
      },
      "source": [
        "## 取得 trainingandtestdata.zip"
      ]
    },
    {
      "cell_type": "code",
      "execution_count": null,
      "metadata": {
        "colab": {
          "base_uri": "https://localhost:8080/"
        },
        "id": "CxsZkA3BjeMR",
        "outputId": "7baf15ea-7a3a-45eb-d83d-3120df9e6ea4"
      },
      "outputs": [
        {
          "output_type": "stream",
          "name": "stdout",
          "text": [
            "Mounted at /content/drive/\n"
          ]
        }
      ],
      "source": [
        "import os\n",
        "\n",
        "from google.colab import drive\n",
        "\n",
        "drive.mount('/content/drive/')\n",
        "os.chdir('/content/drive/MyDrive/FileDisk')\n",
        "# os.listdir()\n",
        "# !mv trainingandtestdata.zip /content\n",
        "!cp trainingandtestdata.zip /content/trainingandtestdata.zip\n",
        "os.chdir('/content') ## 切換到 colab 使用者 default 目錄"
      ]
    },
    {
      "cell_type": "code",
      "execution_count": null,
      "metadata": {
        "id": "CPCuFVCejeMR"
      },
      "outputs": [],
      "source": [
        "# 似乎沒用到\n",
        "%reload_ext autoreload\n",
        "%autoreload 2\n",
        "%matplotlib inline"
      ]
    },
    {
      "cell_type": "markdown",
      "metadata": {
        "id": "t_XeTIn2Vi31"
      },
      "source": [
        "## 解壓 trainingandtestdata.zip"
      ]
    },
    {
      "cell_type": "code",
      "execution_count": null,
      "metadata": {
        "colab": {
          "base_uri": "https://localhost:8080/"
        },
        "id": "yFw_iD7wjeMS",
        "outputId": "4e445301-5dfc-4450-b6db-ada78c8d26ae"
      },
      "outputs": [
        {
          "output_type": "stream",
          "name": "stdout",
          "text": [
            "Archive:  trainingandtestdata.zip\n",
            "  inflating: testdata.manual.2009.06.14.csv  \n",
            "  inflating: training.1600000.processed.noemoticon.csv  \n"
          ]
        }
      ],
      "source": [
        "%%bash\n",
        "unzip -n trainingandtestdata.zip"
      ]
    },
    {
      "cell_type": "markdown",
      "metadata": {
        "id": "5ark99pJVi34"
      },
      "source": [
        "## 用 Conda 建立 virtual environment"
      ]
    },
    {
      "cell_type": "code",
      "execution_count": null,
      "metadata": {
        "colab": {
          "base_uri": "https://localhost:8080/"
        },
        "collapsed": true,
        "id": "X35Gr2aBjeMS",
        "outputId": "d70f0aa1-c0d9-4a21-f76d-916a5028edac"
      },
      "outputs": [
        {
          "output_type": "stream",
          "name": "stdout",
          "text": [
            "Channels:\n",
            " - conda-forge\n",
            "Platform: linux-64\n",
            "Collecting package metadata (repodata.json): ...working... done\n",
            "Solving environment: ...working... done\n",
            "\n",
            "## Package Plan ##\n",
            "\n",
            "  environment location: /content/env\n",
            "\n",
            "  added / updated specs:\n",
            "    - python=3.7\n",
            "\n",
            "\n",
            "The following packages will be downloaded:\n",
            "\n",
            "    package                    |            build\n",
            "    ---------------------------|-----------------\n",
            "    ca-certificates-2025.1.31  |       hbd8a1cb_1         155 KB  conda-forge\n",
            "    ld_impl_linux-64-2.43      |       h712a8e2_4         656 KB  conda-forge\n",
            "    libffi-3.4.6               |       h2dba641_1          56 KB  conda-forge\n",
            "    libgcc-14.2.0              |       h767d61c_2         828 KB  conda-forge\n",
            "    libgcc-ng-14.2.0           |       h69a702a_2          52 KB  conda-forge\n",
            "    libgomp-14.2.0             |       h767d61c_2         449 KB  conda-forge\n",
            "    liblzma-5.8.1              |       hb9d3cd8_0         110 KB  conda-forge\n",
            "    liblzma-devel-5.8.1        |       hb9d3cd8_0         431 KB  conda-forge\n",
            "    libsqlite-3.49.1           |       hee588c1_2         897 KB  conda-forge\n",
            "    libstdcxx-14.2.0           |       h8f9b012_2         3.7 MB  conda-forge\n",
            "    libstdcxx-ng-14.2.0        |       h4852527_2          53 KB  conda-forge\n",
            "    ncurses-6.5                |       h2d0b736_3         871 KB  conda-forge\n",
            "    openssl-3.5.0              |       h7b32b05_0         3.0 MB  conda-forge\n",
            "    pip-24.0                   |     pyhd8ed1ab_0         1.3 MB  conda-forge\n",
            "    python-3.7.12              |hf930737_100_cpython        57.3 MB  conda-forge\n",
            "    readline-8.2               |       h8c095d6_2         276 KB  conda-forge\n",
            "    setuptools-69.0.3          |     pyhd8ed1ab_0         460 KB  conda-forge\n",
            "    sqlite-3.49.1              |       h9eae976_2         839 KB  conda-forge\n",
            "    wheel-0.42.0               |     pyhd8ed1ab_0          56 KB  conda-forge\n",
            "    xz-5.8.1                   |       hbcc6ac9_0          23 KB  conda-forge\n",
            "    xz-gpl-tools-5.8.1         |       hbcc6ac9_0          33 KB  conda-forge\n",
            "    xz-tools-5.8.1             |       hb9d3cd8_0          94 KB  conda-forge\n",
            "    ------------------------------------------------------------\n",
            "                                           Total:        71.5 MB\n",
            "\n",
            "The following NEW packages will be INSTALLED:\n",
            "\n",
            "  _libgcc_mutex      conda-forge/linux-64::_libgcc_mutex-0.1-conda_forge \n",
            "  _openmp_mutex      conda-forge/linux-64::_openmp_mutex-4.5-2_gnu \n",
            "  ca-certificates    conda-forge/noarch::ca-certificates-2025.1.31-hbd8a1cb_1 \n",
            "  ld_impl_linux-64   conda-forge/linux-64::ld_impl_linux-64-2.43-h712a8e2_4 \n",
            "  libffi             conda-forge/linux-64::libffi-3.4.6-h2dba641_1 \n",
            "  libgcc             conda-forge/linux-64::libgcc-14.2.0-h767d61c_2 \n",
            "  libgcc-ng          conda-forge/linux-64::libgcc-ng-14.2.0-h69a702a_2 \n",
            "  libgomp            conda-forge/linux-64::libgomp-14.2.0-h767d61c_2 \n",
            "  liblzma            conda-forge/linux-64::liblzma-5.8.1-hb9d3cd8_0 \n",
            "  liblzma-devel      conda-forge/linux-64::liblzma-devel-5.8.1-hb9d3cd8_0 \n",
            "  libnsl             conda-forge/linux-64::libnsl-2.0.1-hd590300_0 \n",
            "  libsqlite          conda-forge/linux-64::libsqlite-3.49.1-hee588c1_2 \n",
            "  libstdcxx          conda-forge/linux-64::libstdcxx-14.2.0-h8f9b012_2 \n",
            "  libstdcxx-ng       conda-forge/linux-64::libstdcxx-ng-14.2.0-h4852527_2 \n",
            "  libzlib            conda-forge/linux-64::libzlib-1.3.1-hb9d3cd8_2 \n",
            "  ncurses            conda-forge/linux-64::ncurses-6.5-h2d0b736_3 \n",
            "  openssl            conda-forge/linux-64::openssl-3.5.0-h7b32b05_0 \n",
            "  pip                conda-forge/noarch::pip-24.0-pyhd8ed1ab_0 \n",
            "  python             conda-forge/linux-64::python-3.7.12-hf930737_100_cpython \n",
            "  readline           conda-forge/linux-64::readline-8.2-h8c095d6_2 \n",
            "  setuptools         conda-forge/noarch::setuptools-69.0.3-pyhd8ed1ab_0 \n",
            "  sqlite             conda-forge/linux-64::sqlite-3.49.1-h9eae976_2 \n",
            "  tk                 conda-forge/linux-64::tk-8.6.13-noxft_h4845f30_101 \n",
            "  wheel              conda-forge/noarch::wheel-0.42.0-pyhd8ed1ab_0 \n",
            "  xz                 conda-forge/linux-64::xz-5.8.1-hbcc6ac9_0 \n",
            "  xz-gpl-tools       conda-forge/linux-64::xz-gpl-tools-5.8.1-hbcc6ac9_0 \n",
            "  xz-tools           conda-forge/linux-64::xz-tools-5.8.1-hb9d3cd8_0 \n",
            "\n",
            "\n",
            "Preparing transaction: ...working... done\n",
            "Verifying transaction: ...working... done\n",
            "Executing transaction: ...working... done\n"
          ]
        }
      ],
      "source": [
        "!conda create -p env python=3.7 -y -q"
      ]
    },
    {
      "cell_type": "markdown",
      "metadata": {
        "id": "SJklcz9gVi37"
      },
      "source": [
        "## 在 env 下，安裝 `bentoml(0.9.0)`"
      ]
    },
    {
      "cell_type": "code",
      "execution_count": null,
      "metadata": {
        "collapsed": true,
        "id": "fJl6LHGSjeMS",
        "colab": {
          "base_uri": "https://localhost:8080/"
        },
        "outputId": "6c7fa842-dedd-40e8-ec33-c0d81b969dd8"
      },
      "outputs": [
        {
          "output_type": "stream",
          "name": "stdout",
          "text": [
            "\u001b[?25l     \u001b[90m━━━━━━━━━━━━━━━━━━━━━━━━━━━━━━━━━━━━━━━━\u001b[0m \u001b[32m0.0/131.2 kB\u001b[0m \u001b[31m?\u001b[0m eta \u001b[36m-:--:--\u001b[0m\r\u001b[2K     \u001b[90m━━━━━━━━━━━━━━━━━━━━━━━━━━━━━━━━━━━━━━\u001b[0m \u001b[32m131.2/131.2 kB\u001b[0m \u001b[31m10.7 MB/s\u001b[0m eta \u001b[36m0:00:00\u001b[0m\n",
            "\u001b[?25h  Preparing metadata (setup.py) ... \u001b[?25l\u001b[?25hdone\n",
            "\u001b[2K     \u001b[90m━━━━━━━━━━━━━━━━━━━━━━━━━━━━━━━━━━━━━━━━\u001b[0m \u001b[32m50.1/50.1 kB\u001b[0m \u001b[31m3.7 MB/s\u001b[0m eta \u001b[36m0:00:00\u001b[0m\n",
            "\u001b[2K   \u001b[90m━━━━━━━━━━━━━━━━━━━━━━━━━━━━━━━━━━━━━━━━\u001b[0m \u001b[32m3.0/3.0 MB\u001b[0m \u001b[31m81.1 MB/s\u001b[0m eta \u001b[36m0:00:00\u001b[0m\n",
            "\u001b[2K   \u001b[90m━━━━━━━━━━━━━━━━━━━━━━━━━━━━━━━━━━━━━━━━\u001b[0m \u001b[32m98.2/98.2 kB\u001b[0m \u001b[31m7.7 MB/s\u001b[0m eta \u001b[36m0:00:00\u001b[0m\n",
            "\u001b[2K   \u001b[90m━━━━━━━━━━━━━━━━━━━━━━━━━━━━━━━━━━━━━━━━\u001b[0m \u001b[32m2.7/2.7 MB\u001b[0m \u001b[31m73.1 MB/s\u001b[0m eta \u001b[36m0:00:00\u001b[0m\n",
            "\u001b[2K   \u001b[90m━━━━━━━━━━━━━━━━━━━━━━━━━━━━━━━━━━━━━━━━\u001b[0m \u001b[32m311.6/311.6 kB\u001b[0m \u001b[31m22.7 MB/s\u001b[0m eta \u001b[36m0:00:00\u001b[0m\n",
            "\u001b[2K   \u001b[90m━━━━━━━━━━━━━━━━━━━━━━━━━━━━━━━━━━━━━━━━\u001b[0m \u001b[32m229.9/229.9 kB\u001b[0m \u001b[31m18.6 MB/s\u001b[0m eta \u001b[36m0:00:00\u001b[0m\n",
            "\u001b[2K   \u001b[90m━━━━━━━━━━━━━━━━━━━━━━━━━━━━━━━━━━━━━━━━\u001b[0m \u001b[32m117.7/117.7 kB\u001b[0m \u001b[31m10.2 MB/s\u001b[0m eta \u001b[36m0:00:00\u001b[0m\n",
            "\u001b[2K   \u001b[90m━━━━━━━━━━━━━━━━━━━━━━━━━━━━━━━━━━━━━━━━\u001b[0m \u001b[32m3.0/3.0 MB\u001b[0m \u001b[31m79.6 MB/s\u001b[0m eta \u001b[36m0:00:00\u001b[0m\n",
            "\u001b[2K   \u001b[90m━━━━━━━━━━━━━━━━━━━━━━━━━━━━━━━━━━━━━━━━\u001b[0m \u001b[32m988.0/988.0 kB\u001b[0m \u001b[31m48.9 MB/s\u001b[0m eta \u001b[36m0:00:00\u001b[0m\n",
            "\u001b[2K   \u001b[90m━━━━━━━━━━━━━━━━━━━━━━━━━━━━━━━━━━━━━━━━\u001b[0m \u001b[32m99.8/99.8 kB\u001b[0m \u001b[31m7.3 MB/s\u001b[0m eta \u001b[36m0:00:00\u001b[0m\n",
            "\u001b[2K   \u001b[90m━━━━━━━━━━━━━━━━━━━━━━━━━━━━━━━━━━━━━━━━\u001b[0m \u001b[32m226.8/226.8 kB\u001b[0m \u001b[31m17.9 MB/s\u001b[0m eta \u001b[36m0:00:00\u001b[0m\n",
            "\u001b[2K   \u001b[90m━━━━━━━━━━━━━━━━━━━━━━━━━━━━━━━━━━━━━━━━\u001b[0m \u001b[32m139.3/139.3 kB\u001b[0m \u001b[31m11.1 MB/s\u001b[0m eta \u001b[36m0:00:00\u001b[0m\n",
            "\u001b[2K   \u001b[90m━━━━━━━━━━━━━━━━━━━━━━━━━━━━━━━━━━━━━━━━\u001b[0m \u001b[32m166.4/166.4 kB\u001b[0m \u001b[31m12.5 MB/s\u001b[0m eta \u001b[36m0:00:00\u001b[0m\n",
            "\u001b[2K   \u001b[90m━━━━━━━━━━━━━━━━━━━━━━━━━━━━━━━━━━━━━━━━\u001b[0m \u001b[32m199.4/199.4 kB\u001b[0m \u001b[31m15.8 MB/s\u001b[0m eta \u001b[36m0:00:00\u001b[0m\n",
            "\u001b[2K   \u001b[90m━━━━━━━━━━━━━━━━━━━━━━━━━━━━━━━━━━━━━━━━\u001b[0m \u001b[32m148.1/148.1 kB\u001b[0m \u001b[31m12.1 MB/s\u001b[0m eta \u001b[36m0:00:00\u001b[0m\n",
            "\u001b[2K   \u001b[90m━━━━━━━━━━━━━━━━━━━━━━━━━━━━━━━━━━━━━━━━\u001b[0m \u001b[32m53.5/53.5 kB\u001b[0m \u001b[31m4.0 MB/s\u001b[0m eta \u001b[36m0:00:00\u001b[0m\n",
            "\u001b[2K   \u001b[90m━━━━━━━━━━━━━━━━━━━━━━━━━━━━━━━━━━━━━━━━\u001b[0m \u001b[32m62.6/62.6 kB\u001b[0m \u001b[31m4.6 MB/s\u001b[0m eta \u001b[36m0:00:00\u001b[0m\n",
            "\u001b[2K   \u001b[90m━━━━━━━━━━━━━━━━━━━━━━━━━━━━━━━━━━━━━━━━\u001b[0m \u001b[32m101.8/101.8 kB\u001b[0m \u001b[31m8.3 MB/s\u001b[0m eta \u001b[36m0:00:00\u001b[0m\n",
            "\u001b[2K   \u001b[90m━━━━━━━━━━━━━━━━━━━━━━━━━━━━━━━━━━━━━━━━\u001b[0m \u001b[32m85.0/85.0 kB\u001b[0m \u001b[31m6.6 MB/s\u001b[0m eta \u001b[36m0:00:00\u001b[0m\n",
            "\u001b[2K   \u001b[90m━━━━━━━━━━━━━━━━━━━━━━━━━━━━━━━━━━━━━━━━\u001b[0m \u001b[32m86.8/86.8 kB\u001b[0m \u001b[31m6.5 MB/s\u001b[0m eta \u001b[36m0:00:00\u001b[0m\n",
            "\u001b[2K   \u001b[90m━━━━━━━━━━━━━━━━━━━━━━━━━━━━━━━━━━━━━━━━\u001b[0m \u001b[32m15.7/15.7 MB\u001b[0m \u001b[31m90.5 MB/s\u001b[0m eta \u001b[36m0:00:00\u001b[0m\n",
            "\u001b[2K   \u001b[90m━━━━━━━━━━━━━━━━━━━━━━━━━━━━━━━━━━━━━━━━\u001b[0m \u001b[32m60.6/60.6 kB\u001b[0m \u001b[31m4.7 MB/s\u001b[0m eta \u001b[36m0:00:00\u001b[0m\n",
            "\u001b[2K   \u001b[90m━━━━━━━━━━━━━━━━━━━━━━━━━━━━━━━━━━━━━━━━\u001b[0m \u001b[32m278.0/278.0 kB\u001b[0m \u001b[31m19.8 MB/s\u001b[0m eta \u001b[36m0:00:00\u001b[0m\n",
            "\u001b[2K   \u001b[90m━━━━━━━━━━━━━━━━━━━━━━━━━━━━━━━━━━━━━━━━\u001b[0m \u001b[32m48.4/48.4 kB\u001b[0m \u001b[31m3.6 MB/s\u001b[0m eta \u001b[36m0:00:00\u001b[0m\n",
            "\u001b[2K   \u001b[90m━━━━━━━━━━━━━━━━━━━━━━━━━━━━━━━━━━━━━━━━\u001b[0m \u001b[32m63.0/63.0 kB\u001b[0m \u001b[31m4.6 MB/s\u001b[0m eta \u001b[36m0:00:00\u001b[0m\n",
            "\u001b[2K   \u001b[90m━━━━━━━━━━━━━━━━━━━━━━━━━━━━━━━━━━━━━━━━\u001b[0m \u001b[32m11.8/11.8 MB\u001b[0m \u001b[31m9.4 MB/s\u001b[0m eta \u001b[36m0:00:00\u001b[0m\n",
            "\u001b[2K   \u001b[90m━━━━━━━━━━━━━━━━━━━━━━━━━━━━━━━━━━━━━━━━\u001b[0m \u001b[32m138.6/138.6 kB\u001b[0m \u001b[31m10.1 MB/s\u001b[0m eta \u001b[36m0:00:00\u001b[0m\n",
            "\u001b[2K   \u001b[90m━━━━━━━━━━━━━━━━━━━━━━━━━━━━━━━━━━━━━━━━\u001b[0m \u001b[32m148.0/148.0 kB\u001b[0m \u001b[31m12.0 MB/s\u001b[0m eta \u001b[36m0:00:00\u001b[0m\n",
            "\u001b[2K   \u001b[90m━━━━━━━━━━━━━━━━━━━━━━━━━━━━━━━━━━━━━━━━\u001b[0m \u001b[32m563.0/563.0 kB\u001b[0m \u001b[31m33.1 MB/s\u001b[0m eta \u001b[36m0:00:00\u001b[0m\n",
            "\u001b[2K   \u001b[90m━━━━━━━━━━━━━━━━━━━━━━━━━━━━━━━━━━━━━━━━\u001b[0m \u001b[32m70.4/70.4 kB\u001b[0m \u001b[31m5.6 MB/s\u001b[0m eta \u001b[36m0:00:00\u001b[0m\n",
            "\u001b[2K   \u001b[90m━━━━━━━━━━━━━━━━━━━━━━━━━━━━━━━━━━━━━━━━\u001b[0m \u001b[32m134.9/134.9 kB\u001b[0m \u001b[31m10.2 MB/s\u001b[0m eta \u001b[36m0:00:00\u001b[0m\n",
            "\u001b[2K   \u001b[90m━━━━━━━━━━━━━━━━━━━━━━━━━━━━━━━━━━━━━━━━\u001b[0m \u001b[32m551.1/551.1 kB\u001b[0m \u001b[31m33.6 MB/s\u001b[0m eta \u001b[36m0:00:00\u001b[0m\n",
            "\u001b[2K   \u001b[90m━━━━━━━━━━━━━━━━━━━━━━━━━━━━━━━━━━━━━━━━\u001b[0m \u001b[32m82.0/82.0 kB\u001b[0m \u001b[31m6.1 MB/s\u001b[0m eta \u001b[36m0:00:00\u001b[0m\n",
            "\u001b[2K   \u001b[90m━━━━━━━━━━━━━━━━━━━━━━━━━━━━━━━━━━━━━━━━\u001b[0m \u001b[32m144.2/144.2 kB\u001b[0m \u001b[31m10.9 MB/s\u001b[0m eta \u001b[36m0:00:00\u001b[0m\n",
            "\u001b[2K   \u001b[90m━━━━━━━━━━━━━━━━━━━━━━━━━━━━━━━━━━━━━━━━\u001b[0m \u001b[32m56.9/56.9 kB\u001b[0m \u001b[31m3.8 MB/s\u001b[0m eta \u001b[36m0:00:00\u001b[0m\n",
            "\u001b[2K   \u001b[90m━━━━━━━━━━━━━━━━━━━━━━━━━━━━━━━━━━━━━━━━\u001b[0m \u001b[32m233.6/233.6 kB\u001b[0m \u001b[31m16.0 MB/s\u001b[0m eta \u001b[36m0:00:00\u001b[0m\n",
            "\u001b[2K   \u001b[90m━━━━━━━━━━━━━━━━━━━━━━━━━━━━━━━━━━━━━━━━\u001b[0m \u001b[32m289.8/289.8 kB\u001b[0m \u001b[31m20.4 MB/s\u001b[0m eta \u001b[36m0:00:00\u001b[0m\n",
            "\u001b[2K   \u001b[90m━━━━━━━━━━━━━━━━━━━━━━━━━━━━━━━━━━━━━━━━\u001b[0m \u001b[32m78.7/78.7 kB\u001b[0m \u001b[31m6.2 MB/s\u001b[0m eta \u001b[36m0:00:00\u001b[0m\n",
            "\u001b[?25h  Building wheel for sqlalchemy-utils (setup.py) ... \u001b[?25l\u001b[?25hdone\n"
          ]
        }
      ],
      "source": [
        "!source activate ./env; pip install -q 'bentoml==0.9.0'"
      ]
    },
    {
      "cell_type": "markdown",
      "metadata": {
        "id": "ra3RC6e7Vi38"
      },
      "source": [
        "## 在 env 下，安裝 `scipy` 與 `matplotlib`"
      ]
    },
    {
      "cell_type": "code",
      "execution_count": null,
      "metadata": {
        "collapsed": true,
        "id": "tJPwxuxojeMT",
        "colab": {
          "base_uri": "https://localhost:8080/"
        },
        "outputId": "8ec15058-0798-472a-e39e-3997f2df1ac7"
      },
      "outputs": [
        {
          "output_type": "stream",
          "name": "stdout",
          "text": [
            "\u001b[2K     \u001b[90m━━━━━━━━━━━━━━━━━━━━━━━━━━━━━━━━━━━━━━━\u001b[0m \u001b[32m138.5/138.5 kB\u001b[0m \u001b[31m7.7 MB/s\u001b[0m eta \u001b[36m0:00:00\u001b[0m\n",
            "\u001b[2K   \u001b[90m━━━━━━━━━━━━━━━━━━━━━━━━━━━━━━━━━━━━━━━━\u001b[0m \u001b[32m38.1/38.1 MB\u001b[0m \u001b[31m32.5 MB/s\u001b[0m eta \u001b[36m0:00:00\u001b[0m\n",
            "\u001b[2K   \u001b[90m━━━━━━━━━━━━━━━━━━━━━━━━━━━━━━━━━━━━━━━━\u001b[0m \u001b[32m11.2/11.2 MB\u001b[0m \u001b[31m72.4 MB/s\u001b[0m eta \u001b[36m0:00:00\u001b[0m\n",
            "\u001b[2K   \u001b[90m━━━━━━━━━━━━━━━━━━━━━━━━━━━━━━━━━━━━━━━━\u001b[0m \u001b[32m965.4/965.4 kB\u001b[0m \u001b[31m40.0 MB/s\u001b[0m eta \u001b[36m0:00:00\u001b[0m\n",
            "\u001b[2K   \u001b[90m━━━━━━━━━━━━━━━━━━━━━━━━━━━━━━━━━━━━━━━━\u001b[0m \u001b[32m1.1/1.1 MB\u001b[0m \u001b[31m43.2 MB/s\u001b[0m eta \u001b[36m0:00:00\u001b[0m\n",
            "\u001b[2K   \u001b[90m━━━━━━━━━━━━━━━━━━━━━━━━━━━━━━━━━━━━━━━━\u001b[0m \u001b[32m3.4/3.4 MB\u001b[0m \u001b[31m64.8 MB/s\u001b[0m eta \u001b[36m0:00:00\u001b[0m\n",
            "\u001b[2K   \u001b[90m━━━━━━━━━━━━━━━━━━━━━━━━━━━━━━━━━━━━━━━━\u001b[0m \u001b[32m104.1/104.1 kB\u001b[0m \u001b[31m7.3 MB/s\u001b[0m eta \u001b[36m0:00:00\u001b[0m\n",
            "\u001b[?25h"
          ]
        }
      ],
      "source": [
        "!source activate ./env; pip install -U scipy matplotlib --quiet"
      ]
    },
    {
      "cell_type": "markdown",
      "metadata": {
        "id": "v1o9mmonVi3-"
      },
      "source": [
        "## 在 env 下，安裝 `scikit-learn` 與 `pandas` 與 `numpy`"
      ]
    },
    {
      "cell_type": "code",
      "execution_count": null,
      "metadata": {
        "id": "OHSWOTvRjeMT",
        "colab": {
          "base_uri": "https://localhost:8080/"
        },
        "outputId": "32dfc8b5-e474-4bc3-d59e-1f1871efbe5a"
      },
      "outputs": [
        {
          "output_type": "stream",
          "name": "stdout",
          "text": [
            "\u001b[2K   \u001b[90m━━━━━━━━━━━━━━━━━━━━━━━━━━━━━━━━━━━━━━━━\u001b[0m \u001b[32m24.8/24.8 MB\u001b[0m \u001b[31m51.3 MB/s\u001b[0m eta \u001b[36m0:00:00\u001b[0m\n",
            "\u001b[2K   \u001b[90m━━━━━━━━━━━━━━━━━━━━━━━━━━━━━━━━━━━━━━━━\u001b[0m \u001b[32m11.3/11.3 MB\u001b[0m \u001b[31m68.6 MB/s\u001b[0m eta \u001b[36m0:00:00\u001b[0m\n",
            "\u001b[2K   \u001b[90m━━━━━━━━━━━━━━━━━━━━━━━━━━━━━━━━━━━━━━━━\u001b[0m \u001b[32m302.2/302.2 kB\u001b[0m \u001b[31m14.2 MB/s\u001b[0m eta \u001b[36m0:00:00\u001b[0m\n",
            "\u001b[2K   \u001b[90m━━━━━━━━━━━━━━━━━━━━━━━━━━━━━━━━━━━━━━━━\u001b[0m \u001b[32m509.2/509.2 kB\u001b[0m \u001b[31m25.6 MB/s\u001b[0m eta \u001b[36m0:00:00\u001b[0m\n",
            "\u001b[?25h"
          ]
        }
      ],
      "source": [
        "!source activate ./env; pip install -q 'scikit-learn>=0.23.2' 'pandas>=1.1.1' 'numpy>=1.8.2'"
      ]
    },
    {
      "cell_type": "markdown",
      "metadata": {
        "id": "hguxw37YVi4A"
      },
      "source": [
        "## 在 env 下，安裝 `protoful(3.20.X)`"
      ]
    },
    {
      "cell_type": "code",
      "execution_count": null,
      "metadata": {
        "id": "M5LKFbEXjeMT",
        "colab": {
          "base_uri": "https://localhost:8080/"
        },
        "outputId": "fa8c20ee-094c-480d-833f-1acbf098b2b2"
      },
      "outputs": [
        {
          "output_type": "stream",
          "name": "stdout",
          "text": [
            "\u001b[?25l   \u001b[90m━━━━━━━━━━━━━━━━━━━━━━━━━━━━━━━━━━━━━━━━\u001b[0m \u001b[32m0.0/1.0 MB\u001b[0m \u001b[31m?\u001b[0m eta \u001b[36m-:--:--\u001b[0m\r\u001b[2K   \u001b[91m━━━━━━━━━━━━━━━━━━━━━━━━━━━━━━━━━━━━━━━\u001b[0m\u001b[91m╸\u001b[0m \u001b[32m1.0/1.0 MB\u001b[0m \u001b[31m63.7 MB/s\u001b[0m eta \u001b[36m0:00:01\u001b[0m\r\u001b[2K   \u001b[90m━━━━━━━━━━━━━━━━━━━━━━━━━━━━━━━━━━━━━━━━\u001b[0m \u001b[32m1.0/1.0 MB\u001b[0m \u001b[31m26.4 MB/s\u001b[0m eta \u001b[36m0:00:00\u001b[0m\n",
            "\u001b[?25h"
          ]
        }
      ],
      "source": [
        "!source activate ./env; pip install protobuf==3.20.* -q"
      ]
    },
    {
      "cell_type": "markdown",
      "metadata": {
        "id": "wBAg27enVi4B"
      },
      "source": [
        "## 在 env 下，安裝 `sqlalchemy(1.3.*)`"
      ]
    },
    {
      "cell_type": "code",
      "execution_count": null,
      "metadata": {
        "colab": {
          "base_uri": "https://localhost:8080/"
        },
        "id": "3FoSbxn2jeMT",
        "outputId": "a2f53f87-1421-418c-96d7-caeba5b123b6"
      },
      "outputs": [
        {
          "output_type": "stream",
          "name": "stdout",
          "text": [
            "\u001b[?25l   \u001b[90m━━━━━━━━━━━━━━━━━━━━━━━━━━━━━━━━━━━━━━━━\u001b[0m \u001b[32m0.0/1.3 MB\u001b[0m \u001b[31m?\u001b[0m eta \u001b[36m-:--:--\u001b[0m\r\u001b[2K   \u001b[91m━━━━━━━━━━━━━━━━━━━━━━━━━━━━━━━━━━━━━━━\u001b[0m\u001b[91m╸\u001b[0m \u001b[32m1.3/1.3 MB\u001b[0m \u001b[31m42.9 MB/s\u001b[0m eta \u001b[36m0:00:01\u001b[0m\r\u001b[2K   \u001b[90m━━━━━━━━━━━━━━━━━━━━━━━━━━━━━━━━━━━━━━━━\u001b[0m \u001b[32m1.3/1.3 MB\u001b[0m \u001b[31m24.7 MB/s\u001b[0m eta \u001b[36m0:00:00\u001b[0m\n",
            "\u001b[?25h"
          ]
        }
      ],
      "source": [
        "!source activate ./env; pip install -q sqlalchemy==1.3.*"
      ]
    },
    {
      "cell_type": "markdown",
      "metadata": {
        "id": "zUnNr_gxVi4D"
      },
      "source": [
        "## 訓練模型 sentiment_lr\n",
        "\n",
        "用 `pickle` 將模型 sentiment_lr 存起來成為 `sentiment_lf.pkl`\n",
        "\n",
        "* 重要參考(註1)"
      ]
    },
    {
      "cell_type": "code",
      "execution_count": null,
      "metadata": {
        "colab": {
          "base_uri": "https://localhost:8080/"
        },
        "id": "CnX7AAx-jeMU",
        "outputId": "7b5cbe68-f6cf-408a-f743-40bc926a9cca"
      },
      "outputs": [
        {
          "output_type": "stream",
          "name": "stdout",
          "text": [
            "              precision    recall  f1-score   support\n",
            "\n",
            "           0       0.86      0.81      0.83       177\n",
            "           4       0.82      0.87      0.85       182\n",
            "\n",
            "    accuracy                           0.84       359\n",
            "   macro avg       0.84      0.84      0.84       359\n",
            "weighted avg       0.84      0.84      0.84       359\n",
            "\n",
            "TYPE: <class 'sklearn.pipeline.Pipeline'>\n",
            "Input data= @stellargirl I loooooooovvvvvveee my Kindle2. Not that the DX is cool, but the 2 is fantastic in its own right. , result= [4]\n"
          ]
        }
      ],
      "source": [
        "%%bash\n",
        "source activate ./env\n",
        "\n",
        "python\n",
        "\n",
        "import numpy as np\n",
        "import pandas as pd\n",
        "from sklearn.feature_extraction.text import CountVectorizer\n",
        "from sklearn.linear_model import LogisticRegression\n",
        "from sklearn.metrics import classification_report, roc_auc_score, roc_curve\n",
        "from sklearn.pipeline import Pipeline\n",
        "\n",
        "import bentoml\n",
        "\n",
        "log_model = LogisticRegression(solver='lbfgs', max_iter=1000)\n",
        "\n",
        "columns = ['polarity', 'tweetid', 'date', 'query_name', 'user', 'text']\n",
        "dftrain = pd.read_csv('training.1600000.processed.noemoticon.csv',\n",
        "                      header = None,\n",
        "                      encoding ='ISO-8859-1')\n",
        "dftest = pd.read_csv('testdata.manual.2009.06.14.csv',\n",
        "                     header = None,\n",
        "                     encoding ='ISO-8859-1')\n",
        "dftrain.columns = columns\n",
        "dftest.columns = columns\n",
        "\n",
        "sentiment_lr = Pipeline([\n",
        "                         ('count_vect', CountVectorizer(min_df = 100,\n",
        "                                                        ngram_range = (1,2),\n",
        "                                                        stop_words = 'english')),\n",
        "                         ('lr', log_model)])\n",
        "sentiment_lr.fit(dftrain.text, dftrain.polarity)\n",
        "\n",
        "Xtest, ytest = dftest.text[dftest.polarity!=2], dftest.polarity[dftest.polarity!=2]\n",
        "print(classification_report(ytest,sentiment_lr.predict(Xtest)))\n",
        "\n",
        "# sentiment_lr.predict([Xtest[0]])\n",
        "result=sentiment_lr.predict([Xtest[0]])\n",
        "print(\"TYPE:\", type(sentiment_lr))\n",
        "print(\"Input data=\",Xtest[0],\", result=\",result)\n",
        "\n",
        "\"\"\"以下是自行新增的部分(註**)\"\"\"\n",
        "import pickle\n",
        "\n",
        "# save the Pipeline as a pickle file\n",
        "pipeline_pkl_file = \"sentiment_lf.pkl\"\n",
        "\n",
        "with open(pipeline_pkl_file, 'wb') as file:\n",
        "    pickle.dump(sentiment_lr, file)"
      ]
    },
    {
      "cell_type": "markdown",
      "source": [
        "<font color=\"red\">(註**) 的作用是將 `sentiment_lr` 存到檔案中，而當下一個 cell 再次執行 `source activate ./env` 時，模型 `sentiment_lr` 已經不存在，還是可以利用讀取檔案 \"sentiment_lf.pkl\" ，來恢復模型 `sentiment_lr`</font>"
      ],
      "metadata": {
        "id": "c1a0n0IWZkUj"
      }
    },
    {
      "cell_type": "markdown",
      "metadata": {
        "id": "Tb5e_508Vi4H"
      },
      "source": [
        "## 建立 BentoService API"
      ]
    },
    {
      "cell_type": "code",
      "execution_count": null,
      "metadata": {
        "colab": {
          "base_uri": "https://localhost:8080/"
        },
        "id": "8xMAPbKHjeMU",
        "outputId": "dc2e6cb1-cc05-4e51-a357-0909912d4ba1"
      },
      "outputs": [
        {
          "output_type": "stream",
          "name": "stdout",
          "text": [
            "Overwriting sentiment_analysis_service.py\n"
          ]
        }
      ],
      "source": [
        "%%writefile sentiment_analysis_service.py\n",
        "import pandas as pd\n",
        "import bentoml\n",
        "from bentoml.frameworks.sklearn import SklearnModelArtifact\n",
        "from bentoml.service.artifacts.common import PickleArtifact\n",
        "from bentoml.handlers import DataframeHandler\n",
        "from bentoml.adapters import DataframeInput\n",
        "\n",
        "@bentoml.artifacts([PickleArtifact('model')])\n",
        "@bentoml.env(pip_packages=[\"scikit-learn\", \"pandas\"])\n",
        "class SKSentimentAnalysis(bentoml.BentoService):\n",
        "\n",
        "    @bentoml.api(input=DataframeInput(), batch=True)\n",
        "    def predict(self, df):\n",
        "        \"\"\"\n",
        "        predict expects pandas.Series as input\n",
        "        \"\"\"\n",
        "        series = df.iloc[0,:]\n",
        "        return self.artifacts.model.predict(series)"
      ]
    },
    {
      "cell_type": "markdown",
      "metadata": {
        "id": "1413X2IiVi4J"
      },
      "source": [
        "## 保存 BentoService 到檔案中\n",
        "\n",
        "BentoService 把 sentiment_lf 模型打包"
      ]
    },
    {
      "cell_type": "code",
      "execution_count": null,
      "metadata": {
        "colab": {
          "base_uri": "https://localhost:8080/"
        },
        "id": "PA-tiQKfjeMV",
        "outputId": "560c1455-fa74-4c6b-fe67-cfc326bc7851"
      },
      "outputs": [
        {
          "output_type": "stream",
          "name": "stdout",
          "text": [
            "[2025-04-22 06:35:56,067] WARNING - bentoml.handlers.* will be deprecated after BentoML 1.0, use bentoml.adapters.* instead\n",
            "[2025-04-22 06:36:01,390] WARNING - pip package requirement pandas already exist\n",
            "[2025-04-22 06:36:29,304] INFO - BentoService bundle 'SKSentimentAnalysis:20250422063602_F5F7CA' saved to: /root/bentoml/repository/SKSentimentAnalysis/20250422063602_F5F7CA\n"
          ]
        }
      ],
      "source": [
        "%%bash\n",
        "source activate ./env\n",
        "\n",
        "python\n",
        "\n",
        "from sentiment_analysis_service import SKSentimentAnalysis\n",
        "import pickle\n",
        "\n",
        "pipeline_pkl_file = \"sentiment_lf.pkl\"\n",
        "\n",
        "with open(pipeline_pkl_file, 'rb') as file:\n",
        "    sentiment_lf = pickle.load(file)\n",
        "\n",
        "bento_service = SKSentimentAnalysis()\n",
        "bento_service.pack('model', sentiment_lf)\n",
        "\n",
        "saved_path = bento_service.save() ## Finally successful\n",
        "\n",
        "# train 過程中產生的 \"saved_path\"，被存到'var_obj.pkl'中\n",
        "var_file = \"var_obj.pkl\"\n",
        "\n",
        "with open(var_file, 'wb') as file:\n",
        "    pickle.dump(saved_path, file)"
      ]
    },
    {
      "cell_type": "code",
      "execution_count": null,
      "metadata": {
        "colab": {
          "base_uri": "https://localhost:8080/"
        },
        "id": "F6236qPVjeMW",
        "outputId": "ca6ccf83-0e25-4b3a-e4c3-d047d092d2e3"
      },
      "outputs": [
        {
          "output_type": "stream",
          "name": "stdout",
          "text": [
            "\u001b[39mBENTO_SERVICE                              AGE            APIS                                   ARTIFACTS              LABELS\n",
            "SKSentimentAnalysis:20250422063602_F5F7CA  14.76 seconds  predict<DataframeInput:DefaultOutput>  model<PickleArtifact>\u001b[0m\n"
          ]
        }
      ],
      "source": [
        "!source activate ./env; bentoml list"
      ]
    },
    {
      "cell_type": "markdown",
      "metadata": {
        "id": "Fatl9M_DVi4L"
      },
      "source": [
        "## 啟動 REST API model server 用上一節保存的 BentoService"
      ]
    },
    {
      "cell_type": "code",
      "execution_count": null,
      "metadata": {
        "colab": {
          "base_uri": "https://localhost:8080/"
        },
        "id": "mLwVqNxujeMW",
        "outputId": "d258a88f-b028-4e64-aa15-a1c71bdd2747"
      },
      "outputs": [
        {
          "name": "stdout",
          "output_type": "stream",
          "text": [
            "[2025-03-03 08:17:13,426] INFO - Getting latest version SKSentimentAnalysis:20250303072553_3E9744\n",
            "[2025-03-03 08:17:13,427] INFO - Starting BentoML API server in development mode..\n",
            "[2025-03-03 08:17:14,404] WARNING - bentoml.handlers.* will be deprecated after BentoML 1.0, use bentoml.adapters.* instead\n",
            "[2025-03-03 08:17:19,282] WARNING - pip package requirement pandas already exist\n",
            " * Serving Flask app 'SKSentimentAnalysis'\n",
            " * Debug mode: off\n",
            "\u001b[31m\u001b[1mWARNING: This is a development server. Do not use it in a production deployment. Use a production WSGI server instead.\u001b[0m\n",
            " * Running on http://127.0.0.1:5000\n",
            "\u001b[33mPress CTRL+C to quit\u001b[0m\n",
            "\n",
            "Aborted!\n"
          ]
        }
      ],
      "source": [
        "!source activate ./env; bentoml serve SKSentimentAnalysis:latest"
      ]
    },
    {
      "cell_type": "markdown",
      "metadata": {
        "id": "16QG3rwgVi4M"
      },
      "source": [
        "### 另法，但需要註冊 ngrok"
      ]
    },
    {
      "cell_type": "code",
      "execution_count": null,
      "metadata": {
        "id": "_Gs-LVgtjeMW"
      },
      "outputs": [],
      "source": [
        "!source activate ./env; bentoml serve SKSentimentAnalysis:latest --run-with-ngrok"
      ]
    },
    {
      "cell_type": "markdown",
      "metadata": {
        "id": "PyCmzxF5jeMW"
      },
      "source": [
        "## Load saved BentoService"
      ]
    },
    {
      "cell_type": "code",
      "execution_count": null,
      "metadata": {
        "colab": {
          "base_uri": "https://localhost:8080/"
        },
        "id": "NetYTwY-jeMX",
        "outputId": "bf89571f-5c90-407b-9602-c26471984390"
      },
      "outputs": [
        {
          "name": "stdout",
          "output_type": "stream",
          "text": [
            "[2025-03-03 10:56:01,951] WARNING - bentoml.handlers.* will be deprecated after BentoML 1.0, use bentoml.adapters.* instead\n",
            "[2025-03-03 10:56:06,151] WARNING - pip package requirement pandas already exist\n",
            "result= [4]\n"
          ]
        }
      ],
      "source": [
        "%%bash\n",
        "\n",
        "source activate ./env\n",
        "\n",
        "python\n",
        "\n",
        "import bentoml\n",
        "import pandas as pd\n",
        "\n",
        "# saved_path = \"/root/bentoml/repository/SKSentimentAnalysis/20250303095521_E343F0\" ## 測試用\n",
        "\n",
        "# train 過程中產生的 \"saved_path\"，被存到'var_obj.pkl'中，在此再從'var_obj.pkl'存取 \"saved_path\"\n",
        "import pickle\n",
        "var_file = \"var_obj.pkl\"\n",
        "\n",
        "with open(var_file, 'rb') as file:\n",
        "    saved_path = pickle.load(file)\n",
        "\n",
        "# Load exported bentoML model archive from path\n",
        "loaded_bento_service = bentoml.load(saved_path)\n",
        "\n",
        "# Call predict on the restored sklearn model\n",
        "result=loaded_bento_service.predict(pd.DataFrame(data=[\"good\", \"great\"]))\n",
        "print(\"result=\",result)"
      ]
    },
    {
      "cell_type": "markdown",
      "metadata": {
        "id": "BOHTB7rPjeMX"
      },
      "source": [
        "## Launch inference job from CLI"
      ]
    },
    {
      "cell_type": "code",
      "execution_count": null,
      "metadata": {
        "colab": {
          "base_uri": "https://localhost:8080/"
        },
        "id": "o27seJSBjeMX",
        "outputId": "4a437792-a17f-4d51-ee39-fcc11acb8c44"
      },
      "outputs": [
        {
          "name": "stdout",
          "output_type": "stream",
          "text": [
            "[2025-03-03 08:45:36,070] INFO - Getting latest version SKSentimentAnalysis:20250303072553_3E9744\n",
            "[2025-03-03 08:45:36,723] WARNING - bentoml.handlers.* will be deprecated after BentoML 1.0, use bentoml.adapters.* instead\n",
            "[2025-03-03 08:45:41,846] WARNING - pip package requirement pandas already exist\n",
            "[2025-03-03 08:45:42,363] INFO - {'service_name': 'SKSentimentAnalysis', 'service_version': '20250303072553_3E9744', 'api': 'predict', 'task': {'data': '[\"some new text, sweet noodles\", \"happy time\", \"sad day\"]', 'task_id': 'd2b2302b-1372-4ca2-9b82-d492d3c80413', 'batch': 3, 'cli_args': ('--input', '[\"some new text, sweet noodles\", \"happy time\", \"sad day\"]')}, 'result': {'data': '[4, 4, 4]', 'http_status': 200, 'http_headers': (('Content-Type', 'application/json'),)}, 'request_id': 'd2b2302b-1372-4ca2-9b82-d492d3c80413'}\n",
            "[4, 4, 4]\n"
          ]
        }
      ],
      "source": [
        "!source activate ./env; bentoml run SKSentimentAnalysis:latest predict \\\n",
        "--input '[\"some new text, sweet noodles\", \"happy time\", \"sad day\"]'"
      ]
    },
    {
      "cell_type": "markdown",
      "source": [
        "# BentoML Example 02: Iris Prediction\n",
        "\n"
      ],
      "metadata": {
        "id": "Ljm7uOwTkAFe"
      }
    },
    {
      "cell_type": "markdown",
      "source": [
        "* 根據 -- 參3\n",
        "\n",
        "* Requried packages with theirversions:\n",
        "\n",
        "> python=3.10.11\n",
        ">\n",
        "> bentoml=1.0.19\n",
        ">\n",
        "> scikit-learn==1.2.2\n",
        ">\n",
        "> numpy==1.26.4\n",
        "\n"
      ],
      "metadata": {
        "id": "dViJbhb4mYEI"
      }
    },
    {
      "cell_type": "code",
      "source": [
        "!pip install -q condacolab\n",
        "import condacolab\n",
        "condacolab.install()"
      ],
      "metadata": {
        "colab": {
          "base_uri": "https://localhost:8080/"
        },
        "id": "Zau3qe8Vofc9",
        "outputId": "4e3fc750-8a02-4bd0-a80e-da835baba4cb"
      },
      "execution_count": 17,
      "outputs": [
        {
          "output_type": "stream",
          "name": "stdout",
          "text": [
            "✨🍰✨ Everything looks OK!\n"
          ]
        }
      ]
    },
    {
      "cell_type": "code",
      "source": [
        "!conda create -p env python=3.10.11 -y -q"
      ],
      "metadata": {
        "collapsed": true,
        "colab": {
          "base_uri": "https://localhost:8080/"
        },
        "id": "8KEFsU8Foq_1",
        "outputId": "186e6421-0b22-43f1-f0b5-76ea2c11aee3"
      },
      "execution_count": null,
      "outputs": [
        {
          "output_type": "stream",
          "name": "stdout",
          "text": [
            "Channels:\n",
            " - conda-forge\n",
            "Platform: linux-64\n",
            "Collecting package metadata (repodata.json): ...working... done\n",
            "Solving environment: ...working... done\n",
            "\n",
            "## Package Plan ##\n",
            "\n",
            "  environment location: /content/env\n",
            "\n",
            "  added / updated specs:\n",
            "    - python=3.10.11\n",
            "\n",
            "\n",
            "The following packages will be downloaded:\n",
            "\n",
            "    package                    |            build\n",
            "    ---------------------------|-----------------\n",
            "    ca-certificates-2025.1.31  |       hbcca054_0         154 KB  conda-forge\n",
            "    ld_impl_linux-64-2.43      |       h712a8e2_4         656 KB  conda-forge\n",
            "    libffi-3.4.6               |       h2dba641_1          56 KB  conda-forge\n",
            "    libgcc-14.2.0              |       h767d61c_2         828 KB  conda-forge\n",
            "    libgcc-ng-14.2.0           |       h69a702a_2          52 KB  conda-forge\n",
            "    libgomp-14.2.0             |       h767d61c_2         449 KB  conda-forge\n",
            "    liblzma-5.8.1              |       hb9d3cd8_0         110 KB  conda-forge\n",
            "    liblzma-devel-5.8.1        |       hb9d3cd8_0         431 KB  conda-forge\n",
            "    libsqlite-3.49.1           |       hee588c1_2         897 KB  conda-forge\n",
            "    ncurses-6.5                |       h2d0b736_3         871 KB  conda-forge\n",
            "    openssl-3.5.0              |       h7b32b05_0         3.0 MB  conda-forge\n",
            "    pip-25.0.1                 |     pyh8b19718_0         1.2 MB  conda-forge\n",
            "    python-3.10.11             |he550d4f_0_cpython        24.7 MB  conda-forge\n",
            "    readline-8.2               |       h8c095d6_2         276 KB  conda-forge\n",
            "    setuptools-78.1.0          |     pyhff2d567_0         768 KB  conda-forge\n",
            "    tzdata-2025b               |       h78e105d_0         120 KB  conda-forge\n",
            "    xz-5.8.1                   |       hbcc6ac9_0          23 KB  conda-forge\n",
            "    xz-gpl-tools-5.8.1         |       hbcc6ac9_0          33 KB  conda-forge\n",
            "    xz-tools-5.8.1             |       hb9d3cd8_0          94 KB  conda-forge\n",
            "    ------------------------------------------------------------\n",
            "                                           Total:        34.5 MB\n",
            "\n",
            "The following NEW packages will be INSTALLED:\n",
            "\n",
            "  _libgcc_mutex      conda-forge/linux-64::_libgcc_mutex-0.1-conda_forge \n",
            "  _openmp_mutex      conda-forge/linux-64::_openmp_mutex-4.5-2_gnu \n",
            "  bzip2              conda-forge/linux-64::bzip2-1.0.8-h4bc722e_7 \n",
            "  ca-certificates    conda-forge/linux-64::ca-certificates-2025.1.31-hbcca054_0 \n",
            "  ld_impl_linux-64   conda-forge/linux-64::ld_impl_linux-64-2.43-h712a8e2_4 \n",
            "  libffi             conda-forge/linux-64::libffi-3.4.6-h2dba641_1 \n",
            "  libgcc             conda-forge/linux-64::libgcc-14.2.0-h767d61c_2 \n",
            "  libgcc-ng          conda-forge/linux-64::libgcc-ng-14.2.0-h69a702a_2 \n",
            "  libgomp            conda-forge/linux-64::libgomp-14.2.0-h767d61c_2 \n",
            "  liblzma            conda-forge/linux-64::liblzma-5.8.1-hb9d3cd8_0 \n",
            "  liblzma-devel      conda-forge/linux-64::liblzma-devel-5.8.1-hb9d3cd8_0 \n",
            "  libnsl             conda-forge/linux-64::libnsl-2.0.1-hd590300_0 \n",
            "  libsqlite          conda-forge/linux-64::libsqlite-3.49.1-hee588c1_2 \n",
            "  libuuid            conda-forge/linux-64::libuuid-2.38.1-h0b41bf4_0 \n",
            "  libzlib            conda-forge/linux-64::libzlib-1.3.1-hb9d3cd8_2 \n",
            "  ncurses            conda-forge/linux-64::ncurses-6.5-h2d0b736_3 \n",
            "  openssl            conda-forge/linux-64::openssl-3.5.0-h7b32b05_0 \n",
            "  pip                conda-forge/noarch::pip-25.0.1-pyh8b19718_0 \n",
            "  python             conda-forge/linux-64::python-3.10.11-he550d4f_0_cpython \n",
            "  readline           conda-forge/linux-64::readline-8.2-h8c095d6_2 \n",
            "  setuptools         conda-forge/noarch::setuptools-78.1.0-pyhff2d567_0 \n",
            "  tk                 conda-forge/linux-64::tk-8.6.13-noxft_h4845f30_101 \n",
            "  tzdata             conda-forge/noarch::tzdata-2025b-h78e105d_0 \n",
            "  wheel              conda-forge/noarch::wheel-0.45.1-pyhd8ed1ab_1 \n",
            "  xz                 conda-forge/linux-64::xz-5.8.1-hbcc6ac9_0 \n",
            "  xz-gpl-tools       conda-forge/linux-64::xz-gpl-tools-5.8.1-hbcc6ac9_0 \n",
            "  xz-tools           conda-forge/linux-64::xz-tools-5.8.1-hb9d3cd8_0 \n",
            "\n",
            "\n",
            "Preparing transaction: ...working... done\n",
            "Verifying transaction: ...working... done\n",
            "Executing transaction: ...working... done\n"
          ]
        }
      ]
    },
    {
      "cell_type": "code",
      "source": [
        "!source activate ./env; pip install -q 'bentoml==1.0.19'"
      ],
      "metadata": {
        "collapsed": true,
        "colab": {
          "base_uri": "https://localhost:8080/"
        },
        "id": "fuWP5QaRmttv",
        "outputId": "1dab0d30-d5d0-44cc-d2f4-3ae3cf74aff3"
      },
      "execution_count": null,
      "outputs": [
        {
          "output_type": "stream",
          "name": "stdout",
          "text": [
            "\u001b[2K   \u001b[90m━━━━━━━━━━━━━━━━━━━━━━━━━━━━━━━━━━━━━━━━\u001b[0m \u001b[32m981.2/981.2 kB\u001b[0m \u001b[31m24.0 MB/s\u001b[0m eta \u001b[36m0:00:00\u001b[0m\n",
            "\u001b[2K   \u001b[90m━━━━━━━━━━━━━━━━━━━━━━━━━━━━━━━━━━━━━━━━\u001b[0m \u001b[32m751.2/751.2 kB\u001b[0m \u001b[31m30.2 MB/s\u001b[0m eta \u001b[36m0:00:00\u001b[0m\n",
            "\u001b[2K   \u001b[90m━━━━━━━━━━━━━━━━━━━━━━━━━━━━━━━━━━━━━━━━\u001b[0m \u001b[32m1.6/1.6 MB\u001b[0m \u001b[31m54.3 MB/s\u001b[0m eta \u001b[36m0:00:00\u001b[0m\n",
            "\u001b[2K   \u001b[90m━━━━━━━━━━━━━━━━━━━━━━━━━━━━━━━━━━━━━━━━\u001b[0m \u001b[32m16.4/16.4 MB\u001b[0m \u001b[31m113.3 MB/s\u001b[0m eta \u001b[36m0:00:00\u001b[0m\n",
            "\u001b[2K   \u001b[90m━━━━━━━━━━━━━━━━━━━━━━━━━━━━━━━━━━━━━━━━\u001b[0m \u001b[32m1.2/1.2 MB\u001b[0m \u001b[31m34.9 MB/s\u001b[0m eta \u001b[36m0:00:00\u001b[0m\n",
            "\u001b[2K   \u001b[90m━━━━━━━━━━━━━━━━━━━━━━━━━━━━━━━━━━━━━━━━\u001b[0m \u001b[32m862.5/862.5 kB\u001b[0m \u001b[31m24.7 MB/s\u001b[0m eta \u001b[36m0:00:00\u001b[0m\n",
            "\u001b[2K   \u001b[90m━━━━━━━━━━━━━━━━━━━━━━━━━━━━━━━━━━━━━━━━\u001b[0m \u001b[32m1.1/1.1 MB\u001b[0m \u001b[31m28.0 MB/s\u001b[0m eta \u001b[36m0:00:00\u001b[0m\n",
            "\u001b[?25h"
          ]
        }
      ]
    },
    {
      "cell_type": "code",
      "source": [
        "!source activate ./env; pip install -q scikit-learn==1.2.2"
      ],
      "metadata": {
        "colab": {
          "base_uri": "https://localhost:8080/"
        },
        "id": "uFQRnfobfTXt",
        "outputId": "6a9a55a2-4bf2-4aad-cca4-b24aabc59aff"
      },
      "execution_count": null,
      "outputs": [
        {
          "output_type": "stream",
          "name": "stdout",
          "text": [
            "\u001b[2K   \u001b[90m━━━━━━━━━━━━━━━━━━━━━━━━━━━━━━━━━━━━━━━━\u001b[0m \u001b[32m9.6/9.6 MB\u001b[0m \u001b[31m20.1 MB/s\u001b[0m eta \u001b[36m0:00:00\u001b[0m\n",
            "\u001b[2K   \u001b[90m━━━━━━━━━━━━━━━━━━━━━━━━━━━━━━━━━━━━━━━━\u001b[0m \u001b[32m37.6/37.6 MB\u001b[0m \u001b[31m35.1 MB/s\u001b[0m eta \u001b[36m0:00:00\u001b[0m\n",
            "\u001b[?25h"
          ]
        }
      ]
    },
    {
      "cell_type": "code",
      "source": [
        "!source activate ./env; pip install -U pandas --quiet"
      ],
      "metadata": {
        "colab": {
          "base_uri": "https://localhost:8080/"
        },
        "id": "4zU5tES9pB_t",
        "outputId": "a766c075-4b51-4968-a184-3c906f7810e2"
      },
      "execution_count": null,
      "outputs": [
        {
          "output_type": "stream",
          "name": "stdout",
          "text": [
            "\u001b[2K   \u001b[90m━━━━━━━━━━━━━━━━━━━━━━━━━━━━━━━━━━━━━━━━\u001b[0m \u001b[32m13.1/13.1 MB\u001b[0m \u001b[31m37.5 MB/s\u001b[0m eta \u001b[36m0:00:00\u001b[0m\n",
            "\u001b[?25h"
          ]
        }
      ]
    },
    {
      "cell_type": "code",
      "source": [
        "!source activate ./env; pip install -q numpy==1.26.4"
      ],
      "metadata": {
        "colab": {
          "base_uri": "https://localhost:8080/"
        },
        "id": "6npgxZ0Afmxl",
        "outputId": "ba0692ae-ee2c-4241-d131-a02892a29f22"
      },
      "execution_count": null,
      "outputs": [
        {
          "output_type": "stream",
          "name": "stdout",
          "text": [
            "\u001b[?25l   \u001b[90m━━━━━━━━━━━━━━━━━━━━━━━━━━━━━━━━━━━━━━━━\u001b[0m \u001b[32m0.0/18.2 MB\u001b[0m \u001b[31m?\u001b[0m eta \u001b[36m-:--:--\u001b[0m\r\u001b[2K   \u001b[91m━━━━━━━━━━━━━━━━━━━━━━━━━━━━━━━━━━━━━━━\u001b[0m\u001b[91m╸\u001b[0m \u001b[32m18.1/18.2 MB\u001b[0m \u001b[31m142.5 MB/s\u001b[0m eta \u001b[36m0:00:01\u001b[0m\r\u001b[2K   \u001b[90m━━━━━━━━━━━━━━━━━━━━━━━━━━━━━━━━━━━━━━━━\u001b[0m \u001b[32m18.2/18.2 MB\u001b[0m \u001b[31m87.9 MB/s\u001b[0m eta \u001b[36m0:00:00\u001b[0m\n",
            "\u001b[?25h"
          ]
        }
      ]
    },
    {
      "cell_type": "markdown",
      "source": [
        "---"
      ],
      "metadata": {
        "id": "ZUQa3kaUhWnW"
      }
    },
    {
      "cell_type": "code",
      "source": [
        "%%bash\n",
        "source activate ./env\n",
        "\n",
        "python\n",
        "\n",
        "from sklearn import svm, datasets\n",
        "\n",
        "# Load training data\n",
        "iris = datasets.load_iris()\n",
        "X, y = iris.data, iris.target\n",
        "\n",
        "# Model Training\n",
        "clf = svm.SVC()\n",
        "clf.fit(X, y)\n",
        "\n",
        "\n",
        "import pickle\n",
        "\n",
        "# save the iris classification model as a pickle file\n",
        "model_pkl_file = \"clf.pkl\"\n",
        "\n",
        "with open(model_pkl_file, 'wb') as file:\n",
        "    pickle.dump(clf, file)"
      ],
      "metadata": {
        "id": "Maqo54CcfCdF"
      },
      "execution_count": null,
      "outputs": []
    },
    {
      "cell_type": "code",
      "source": [
        "%%bash\n",
        "source activate ./env\n",
        "\n",
        "python\n",
        "\n",
        "import pickle\n",
        "\n",
        "model_pkl_file = \"clf.pkl\"\n",
        "\n",
        "with open(model_pkl_file, 'rb') as file:\n",
        "    clf = pickle.load(file)\n",
        "\n",
        "\n",
        "import bentoml\n",
        "\n",
        "saved_model = bentoml.sklearn.save_model(\"iris_clf\", clf);"
      ],
      "metadata": {
        "id": "9xn9aPxUllPE"
      },
      "execution_count": null,
      "outputs": []
    },
    {
      "cell_type": "code",
      "source": [
        "!source activate ./env; bentoml models list"
      ],
      "metadata": {
        "colab": {
          "base_uri": "https://localhost:8080/"
        },
        "id": "kB1mvWYN5Arz",
        "outputId": "194334b7-55c4-4e0c-d555-387bf7bf29e1"
      },
      "execution_count": null,
      "outputs": [
        {
          "output_type": "stream",
          "name": "stdout",
          "text": [
            "\u001b[1m \u001b[0m\u001b[1mTag                      \u001b[0m\u001b[1m \u001b[0m\u001b[1m \u001b[0m\u001b[1mModule         \u001b[0m\u001b[1m \u001b[0m\u001b[1m \u001b[0m\u001b[1mSize    \u001b[0m\u001b[1m \u001b[0m\u001b[1m \u001b[0m\u001b[1mCreation Time      \u001b[0m\u001b[1m \u001b[0m\n",
            " iris_clf:724q4lq3uovxuasc  bentoml.sklearn  6.03 KiB  2025-04-17 15:52:41 \n"
          ]
        }
      ]
    },
    {
      "cell_type": "code",
      "source": [
        "%%bash\n",
        "source activate ./env\n",
        "\n",
        "python\n",
        "\n",
        "import bentoml\n",
        "\n",
        "loaded_model = bentoml.sklearn.load_model(\"iris_clf:latest\")\n",
        "\n",
        "result=loaded_model.predict([[5.9, 3.0, 5.1, 1.8]])\n",
        "print(\"result:\",result)"
      ],
      "metadata": {
        "colab": {
          "base_uri": "https://localhost:8080/"
        },
        "id": "K0yJMZuYvDwd",
        "outputId": "5d6114ec-f7bd-4748-a6dd-dacbacb9322e"
      },
      "execution_count": null,
      "outputs": [
        {
          "output_type": "stream",
          "name": "stdout",
          "text": [
            "result: [2]\n"
          ]
        }
      ]
    },
    {
      "cell_type": "code",
      "source": [
        "%%bash\n",
        "source activate ./env\n",
        "\n",
        "python\n",
        "\n",
        "import bentoml\n",
        "\n",
        "# 创建Runner实例：\n",
        "iris_clf_runner = bentoml.sklearn.get(\"iris_clf:latest\").to_runner()\n",
        "\n",
        "# “Runner.init_local”仅用于调试和测试。确保在部署到生产环境之前将其移除。\n",
        "iris_clf_runner.init_local()\n",
        "\n",
        "# 这将产生与加载模型相同的结果：\n",
        "result = iris_clf_runner.predict.run([[5.9, 3.0, 5.1, 1.8]])\n",
        "print(\"result:\", result)"
      ],
      "metadata": {
        "colab": {
          "base_uri": "https://localhost:8080/"
        },
        "id": "AvkPQZ_iw1_7",
        "outputId": "2f861694-a64c-43eb-e88e-d23de34ecf3e"
      },
      "execution_count": null,
      "outputs": [
        {
          "output_type": "stream",
          "name": "stdout",
          "text": [
            "result: [2]\n"
          ]
        },
        {
          "output_type": "stream",
          "name": "stderr",
          "text": [
            "'Runner.init_local' is for debugging and testing only. Make sure to remove it before deploying to production.\n"
          ]
        }
      ]
    },
    {
      "cell_type": "code",
      "source": [
        "%%writefile service.py\n",
        "import numpy as np\n",
        "import bentoml\n",
        "from bentoml.io import NumpyNdarray\n",
        "\n",
        "# Runner实例化\n",
        "iris_clf_runner = bentoml.sklearn.get(\"iris_clf:latest\").to_runner()\n",
        "\n",
        "# 定义服务名称并加载Runner实例\n",
        "svc = bentoml.Service(\"iris_classifier\", runners=[iris_clf_runner])\n",
        "\n",
        "# 与FastAPI一致，通过装饰器绑定路由与视图\n",
        "@svc.api(input=NumpyNdarray(), output=NumpyNdarray())\n",
        "def classify(input_series: np.ndarray) -> np.ndarray:\n",
        "    return iris_clf_runner.predict.run(input_series)"
      ],
      "metadata": {
        "colab": {
          "base_uri": "https://localhost:8080/"
        },
        "id": "FWO2R5BVxY12",
        "outputId": "dee8225a-b8d1-4fb1-8dfb-10e0287cf862"
      },
      "execution_count": null,
      "outputs": [
        {
          "output_type": "stream",
          "name": "stdout",
          "text": [
            "Writing service.py\n"
          ]
        }
      ]
    },
    {
      "cell_type": "code",
      "source": [
        "%%writefile bentofile.yaml\n",
        "service: \"service.py:svc\"\n",
        "labels:\n",
        "    owner: bentoml-team\n",
        "    project: gallery\n",
        "include:\n",
        "- \"*.py\"\n",
        "python:\n",
        "    packages:\n",
        "        - scikit-learn\n",
        "        - pandas"
      ],
      "metadata": {
        "colab": {
          "base_uri": "https://localhost:8080/"
        },
        "id": "lzxSanwwsZPT",
        "outputId": "968c5660-ddc0-4dde-d823-54226e9d3615"
      },
      "execution_count": null,
      "outputs": [
        {
          "output_type": "stream",
          "name": "stdout",
          "text": [
            "Writing bentofile.yaml\n"
          ]
        }
      ]
    },
    {
      "cell_type": "markdown",
      "source": [
        "* TIP: **include** 不用 `\"*.py\"` ，明確寫出哪些 py 檔，在 `bentoml build` 時，會比較快/比較不會出問題"
      ],
      "metadata": {
        "id": "2VLTnmTrwRpx"
      }
    },
    {
      "cell_type": "code",
      "source": [
        "!source activate ./env; bentoml models get iris_clf:latest"
      ],
      "metadata": {
        "colab": {
          "base_uri": "https://localhost:8080/"
        },
        "id": "iMF-FoYtsS62",
        "outputId": "c90119ab-febd-4202-9742-794ecc33ed6c"
      },
      "execution_count": null,
      "outputs": [
        {
          "output_type": "stream",
          "name": "stdout",
          "text": [
            "\u001b[91;49mname\u001b[0m\u001b[97;49m:\u001b[0m\u001b[97;49m \u001b[0m\u001b[49miris_clf\u001b[0m\n",
            "\u001b[91;49mversion\u001b[0m\u001b[97;49m:\u001b[0m\u001b[97;49m \u001b[0m\u001b[49m724q4lq3uovxuasc\u001b[0m\n",
            "\u001b[91;49mmodule\u001b[0m\u001b[97;49m:\u001b[0m\u001b[97;49m \u001b[0m\u001b[49mbentoml.sklearn\u001b[0m\n",
            "\u001b[91;49mlabels\u001b[0m\u001b[97;49m:\u001b[0m\u001b[97;49m \u001b[0m\u001b[49m{}\u001b[0m\n",
            "\u001b[91;49moptions\u001b[0m\u001b[97;49m:\u001b[0m\u001b[97;49m \u001b[0m\u001b[49m{}\u001b[0m\n",
            "\u001b[91;49mmetadata\u001b[0m\u001b[97;49m:\u001b[0m\u001b[97;49m \u001b[0m\u001b[49m{}\u001b[0m\n",
            "\u001b[91;49mcontext\u001b[0m\u001b[97;49m:\u001b[0m\n",
            "\u001b[97;49m  \u001b[0m\u001b[91;49mframework_name\u001b[0m\u001b[97;49m:\u001b[0m\u001b[97;49m \u001b[0m\u001b[49msklearn\u001b[0m\n",
            "\u001b[97;49m  \u001b[0m\u001b[91;49mframework_versions\u001b[0m\u001b[97;49m:\u001b[0m\n",
            "\u001b[97;49m    \u001b[0m\u001b[91;49mscikit-learn\u001b[0m\u001b[97;49m:\u001b[0m\u001b[97;49m \u001b[0m\u001b[49m1.2.2\u001b[0m\n",
            "\u001b[97;49m  \u001b[0m\u001b[91;49mbentoml_version\u001b[0m\u001b[97;49m:\u001b[0m\u001b[97;49m \u001b[0m\u001b[49m1.0.19\u001b[0m\n",
            "\u001b[97;49m  \u001b[0m\u001b[91;49mpython_version\u001b[0m\u001b[97;49m:\u001b[0m\u001b[97;49m \u001b[0m\u001b[49m3.10.11\u001b[0m\n",
            "\u001b[91;49msignatures\u001b[0m\u001b[97;49m:\u001b[0m\n",
            "\u001b[97;49m  \u001b[0m\u001b[91;49mpredict\u001b[0m\u001b[97;49m:\u001b[0m\n",
            "\u001b[97;49m    \u001b[0m\u001b[91;49mbatchable\u001b[0m\u001b[97;49m:\u001b[0m\u001b[97;49m \u001b[0m\u001b[49mfalse\u001b[0m\n",
            "\u001b[91;49mapi_version\u001b[0m\u001b[97;49m:\u001b[0m\u001b[97;49m \u001b[0m\u001b[49mv1\u001b[0m\n",
            "\u001b[91;49mcreation_time\u001b[0m\u001b[97;49m:\u001b[0m\u001b[97;49m \u001b[0m\u001b[93;49m'\u001b[0m\u001b[93;49m2025-04-17T15:52:41.565225+00:00\u001b[0m\u001b[93;49m'\u001b[0m\n",
            "\n"
          ]
        }
      ]
    },
    {
      "cell_type": "code",
      "source": [
        "!source activate ./env; bentoml serve service.py:svc --reload"
      ],
      "metadata": {
        "colab": {
          "base_uri": "https://localhost:8080/"
        },
        "id": "DyhJgkQwxyFD",
        "outputId": "6d548b44-69ff-4ccf-c4e2-12d5d9cfbf0d"
      },
      "execution_count": null,
      "outputs": [
        {
          "output_type": "stream",
          "name": "stdout",
          "text": [
            "2025-04-17T16:49:59+0000 [INFO] [cli] Prometheus metrics for HTTP BentoServer from \"service.py:svc\" can be accessed at http://localhost:3000/metrics.\n",
            "2025-04-17T16:49:59+0000 [INFO] [cli] Starting development HTTP BentoServer from \"service.py:svc\" listening on http://0.0.0.0:3000 (Press CTRL+C to quit)\n",
            "2025-04-17 16:50:00 circus[16123] [INFO] Loading the plugin...\n",
            "2025-04-17 16:50:00 circus[16123] [INFO] Endpoint: 'tcp://127.0.0.1:43143'\n",
            "2025-04-17 16:50:00 circus[16123] [INFO] Pub/sub: 'tcp://127.0.0.1:34141'\n",
            "2025-04-17T16:50:00+0000 [INFO] [observer] Watching directories: ['/content', '/root/bentoml/models']\n"
          ]
        }
      ]
    },
    {
      "cell_type": "code",
      "source": [],
      "metadata": {
        "id": "hgPMGIa_7pD5"
      },
      "execution_count": null,
      "outputs": []
    },
    {
      "cell_type": "code",
      "source": [
        "!source activate ./env; bentoml build"
      ],
      "metadata": {
        "colab": {
          "base_uri": "https://localhost:8080/"
        },
        "id": "IagCfUlytOpt",
        "outputId": "fbc74975-eed6-4764-8294-faec391c3a56"
      },
      "execution_count": null,
      "outputs": [
        {
          "output_type": "stream",
          "name": "stdout",
          "text": [
            "Building BentoML service \"iris_classifier:x6xqxkq3v6vlqasc\" from build context \"/content\".\n",
            "Packing model \"iris_clf:724q4lq3uovxuasc\"\n",
            "\n",
            "Aborted!\n"
          ]
        }
      ]
    },
    {
      "cell_type": "code",
      "source": [
        "!source activate ./env; bentoml containerize iris_classifier:latest"
      ],
      "metadata": {
        "id": "FIs7rZecxFnx"
      },
      "execution_count": null,
      "outputs": []
    },
    {
      "cell_type": "markdown",
      "source": [
        "---"
      ],
      "metadata": {
        "id": "4NFjnVL10oq2"
      }
    },
    {
      "cell_type": "markdown",
      "source": [
        "# BentoML Example 02-1: Iris Prediction"
      ],
      "metadata": {
        "id": "h0WanDOnmp3r"
      }
    },
    {
      "cell_type": "markdown",
      "source": [
        "* 根據 -- 參4\n",
        "\n",
        "python 3.8 或 3.9 都可以，但 bentoml 要 1.3.0 (1.0.15/1.0.19/1.0.25/1.2.0都會出錯)，1.3.10會出現警告\n",
        "\n",
        "* python 3.8 + bentoml==1.3.0: default 配 numpy 1.24.4\n",
        "\n",
        "* python 3.9 + bentoml==1.3.0: default 配 numpy 2.0.2"
      ],
      "metadata": {
        "id": "oXIlHAaSoqXw"
      }
    },
    {
      "cell_type": "code",
      "source": [
        "!conda create -p venv python=3.9 -y -q\n",
        "# !conda create -p venv python=3.8 -y -q"
      ],
      "metadata": {
        "collapsed": true,
        "id": "PgeE8cla-fbW",
        "outputId": "382bd8da-15cc-4a15-dc87-a38d53a1ee64",
        "colab": {
          "base_uri": "https://localhost:8080/"
        }
      },
      "execution_count": 25,
      "outputs": [
        {
          "output_type": "stream",
          "name": "stdout",
          "text": [
            "Channels:\n",
            " - conda-forge\n",
            "Platform: linux-64\n",
            "Collecting package metadata (repodata.json): ...working... done\n",
            "Solving environment: ...working... done\n",
            "\n",
            "## Package Plan ##\n",
            "\n",
            "  environment location: /content/venv\n",
            "\n",
            "  added / updated specs:\n",
            "    - python=3.8\n",
            "\n",
            "\n",
            "The following packages will be downloaded:\n",
            "\n",
            "    package                    |            build\n",
            "    ---------------------------|-----------------\n",
            "    liblzma-devel-5.8.1        |       hb9d3cd8_0         431 KB  conda-forge\n",
            "    pip-24.3.1                 |     pyh8b19718_0         1.2 MB  conda-forge\n",
            "    python-3.8.20              |h4a871b0_2_cpython        21.1 MB  conda-forge\n",
            "    setuptools-75.3.0          |     pyhd8ed1ab_0         761 KB  conda-forge\n",
            "    wheel-0.45.1               |     pyhd8ed1ab_0          62 KB  conda-forge\n",
            "    xz-5.8.1                   |       hbcc6ac9_0          23 KB  conda-forge\n",
            "    xz-gpl-tools-5.8.1         |       hbcc6ac9_0          33 KB  conda-forge\n",
            "    xz-tools-5.8.1             |       hb9d3cd8_0          94 KB  conda-forge\n",
            "    ------------------------------------------------------------\n",
            "                                           Total:        23.7 MB\n",
            "\n",
            "The following NEW packages will be INSTALLED:\n",
            "\n",
            "  _libgcc_mutex      conda-forge/linux-64::_libgcc_mutex-0.1-conda_forge \n",
            "  _openmp_mutex      conda-forge/linux-64::_openmp_mutex-4.5-2_gnu \n",
            "  bzip2              conda-forge/linux-64::bzip2-1.0.8-h4bc722e_7 \n",
            "  ca-certificates    conda-forge/noarch::ca-certificates-2025.1.31-hbd8a1cb_1 \n",
            "  ld_impl_linux-64   conda-forge/linux-64::ld_impl_linux-64-2.43-h712a8e2_4 \n",
            "  libffi             conda-forge/linux-64::libffi-3.4.6-h2dba641_1 \n",
            "  libgcc             conda-forge/linux-64::libgcc-14.2.0-h767d61c_2 \n",
            "  libgcc-ng          conda-forge/linux-64::libgcc-ng-14.2.0-h69a702a_2 \n",
            "  libgomp            conda-forge/linux-64::libgomp-14.2.0-h767d61c_2 \n",
            "  liblzma            conda-forge/linux-64::liblzma-5.8.1-hb9d3cd8_0 \n",
            "  liblzma-devel      conda-forge/linux-64::liblzma-devel-5.8.1-hb9d3cd8_0 \n",
            "  libnsl             conda-forge/linux-64::libnsl-2.0.1-hd590300_0 \n",
            "  libsqlite          conda-forge/linux-64::libsqlite-3.49.1-hee588c1_2 \n",
            "  libuuid            conda-forge/linux-64::libuuid-2.38.1-h0b41bf4_0 \n",
            "  libxcrypt          conda-forge/linux-64::libxcrypt-4.4.36-hd590300_1 \n",
            "  libzlib            conda-forge/linux-64::libzlib-1.3.1-hb9d3cd8_2 \n",
            "  ncurses            conda-forge/linux-64::ncurses-6.5-h2d0b736_3 \n",
            "  openssl            conda-forge/linux-64::openssl-3.5.0-h7b32b05_0 \n",
            "  pip                conda-forge/noarch::pip-24.3.1-pyh8b19718_0 \n",
            "  python             conda-forge/linux-64::python-3.8.20-h4a871b0_2_cpython \n",
            "  readline           conda-forge/linux-64::readline-8.2-h8c095d6_2 \n",
            "  setuptools         conda-forge/noarch::setuptools-75.3.0-pyhd8ed1ab_0 \n",
            "  tk                 conda-forge/linux-64::tk-8.6.13-noxft_h4845f30_101 \n",
            "  wheel              conda-forge/noarch::wheel-0.45.1-pyhd8ed1ab_0 \n",
            "  xz                 conda-forge/linux-64::xz-5.8.1-hbcc6ac9_0 \n",
            "  xz-gpl-tools       conda-forge/linux-64::xz-gpl-tools-5.8.1-hbcc6ac9_0 \n",
            "  xz-tools           conda-forge/linux-64::xz-tools-5.8.1-hb9d3cd8_0 \n",
            "\n",
            "\n",
            "Preparing transaction: ...working... done\n",
            "Verifying transaction: ...working... done\n",
            "Executing transaction: ...working... done\n"
          ]
        }
      ]
    },
    {
      "cell_type": "code",
      "source": [
        "# !source activate ./venv; pip install -q bentoml==1.0.25 # bentoml list有KeyError(python 3.8/3.9 )\n",
        "# !source activate ./venv; pip install -q bentoml==1.3.10 # 有一些警告\n",
        "!source activate ./venv; pip install -q bentoml==1.3.0 # 好像沒有警告\n",
        "# ----------------------------------------------------------------------\n",
        "# !source activate ./venv; pip install -q bentoml==1.2.0 # 不行\n",
        "# !source activate ./venv; pip install -q bentoml==1.0.15 # 不行"
      ],
      "metadata": {
        "id": "dUOKO8_AA7U1",
        "outputId": "a5c8ce8c-1eb3-4c8c-c7e8-19ab77e6787d",
        "colab": {
          "base_uri": "https://localhost:8080/"
        },
        "collapsed": true
      },
      "execution_count": 27,
      "outputs": [
        {
          "output_type": "stream",
          "name": "stdout",
          "text": [
            "\u001b[?25l   \u001b[90m━━━━━━━━━━━━━━━━━━━━━━━━━━━━━━━━━━━━━━━━\u001b[0m \u001b[32m0.0/2.0 MB\u001b[0m \u001b[31m?\u001b[0m eta \u001b[36m-:--:--\u001b[0m\r\u001b[2K   \u001b[90m━━━━━━━━━━━━━━━━━━━━━━━━━━━━━━━━━━━━━━━━\u001b[0m \u001b[32m2.0/2.0 MB\u001b[0m \u001b[31m55.0 MB/s\u001b[0m eta \u001b[36m0:00:00\u001b[0m\n",
            "\u001b[2K   \u001b[90m━━━━━━━━━━━━━━━━━━━━━━━━━━━━━━━━━━━━━━━━\u001b[0m \u001b[32m746.5/746.5 kB\u001b[0m \u001b[31m22.1 MB/s\u001b[0m eta \u001b[36m0:00:00\u001b[0m\n",
            "\u001b[2K   \u001b[90m━━━━━━━━━━━━━━━━━━━━━━━━━━━━━━━━━━━━━━━━\u001b[0m \u001b[32m1.3/1.3 MB\u001b[0m \u001b[31m47.2 MB/s\u001b[0m eta \u001b[36m0:00:00\u001b[0m\n",
            "\u001b[2K   \u001b[90m━━━━━━━━━━━━━━━━━━━━━━━━━━━━━━━━━━━━━━━━\u001b[0m \u001b[32m17.3/17.3 MB\u001b[0m \u001b[31m140.8 MB/s\u001b[0m eta \u001b[36m0:00:00\u001b[0m\n",
            "\u001b[2K   \u001b[90m━━━━━━━━━━━━━━━━━━━━━━━━━━━━━━━━━━━━━━━━\u001b[0m \u001b[32m863.4/863.4 kB\u001b[0m \u001b[31m30.3 MB/s\u001b[0m eta \u001b[36m0:00:00\u001b[0m\n",
            "\u001b[?25h"
          ]
        }
      ]
    },
    {
      "cell_type": "code",
      "source": [
        "# !source activate ./venv; pip install -q scikit-learn==1.2.2 #(python 3.8)\n",
        "!source activate ./venv; pip install -q scikit-learn==1.6.1 pandas==2.2.3 #(python 3.9)\n",
        "# !source activate ./venv; pip install -q scikit-learn==0.23.2 #(python 3.8)"
      ],
      "metadata": {
        "id": "vRdtnXNFA7N9",
        "collapsed": true
      },
      "execution_count": 11,
      "outputs": []
    },
    {
      "cell_type": "code",
      "source": [
        "!source activate ./venv; pip install -q pandas==1.1.1 #(python 3.8)"
      ],
      "metadata": {
        "colab": {
          "base_uri": "https://localhost:8080/"
        },
        "id": "m1esHipTkZQY",
        "outputId": "fd45654f-1ba7-4fd5-98d9-98652e298c13"
      },
      "execution_count": 8,
      "outputs": [
        {
          "output_type": "stream",
          "name": "stdout",
          "text": [
            "\u001b[2K   \u001b[90m━━━━━━━━━━━━━━━━━━━━━━━━━━━━━━━━━━━━━━━━\u001b[0m \u001b[32m10.4/10.4 MB\u001b[0m \u001b[31m68.4 MB/s\u001b[0m eta \u001b[36m0:00:00\u001b[0m\n",
            "\u001b[?25h"
          ]
        }
      ]
    },
    {
      "cell_type": "code",
      "source": [
        "# python 3.8 或 3.9 時，此步驟是不需要的\n",
        "# !source activate ./venv; pip install -q numpy==1.26.4\n",
        "!source activate ./venv; pip install -q numpy==1.20.0"
      ],
      "metadata": {
        "id": "KiSK9bD-t2Hl",
        "outputId": "86e3746d-0f23-49b3-e510-d9daa0b71d27",
        "colab": {
          "base_uri": "https://localhost:8080/"
        },
        "collapsed": true
      },
      "execution_count": 7,
      "outputs": [
        {
          "output_type": "stream",
          "name": "stdout",
          "text": [
            "\u001b[2K   \u001b[90m━━━━━━━━━━━━━━━━━━━━━━━━━━━━━━━━━━━━━━━━\u001b[0m \u001b[32m15.4/15.4 MB\u001b[0m \u001b[31m84.2 MB/s\u001b[0m eta \u001b[36m0:00:00\u001b[0m\n",
            "\u001b[?25h"
          ]
        }
      ]
    },
    {
      "cell_type": "code",
      "source": [
        "!source activate ./venv; pip install -q pydantic==2.5.1 # (Lecture 缺) 必需的"
      ],
      "metadata": {
        "colab": {
          "base_uri": "https://localhost:8080/"
        },
        "id": "VgSJC3UQmHM1",
        "outputId": "8a38f9fb-fd3f-42a3-e442-2ead04eb576e"
      },
      "execution_count": 13,
      "outputs": [
        {
          "output_type": "stream",
          "name": "stdout",
          "text": [
            "\u001b[?25l   \u001b[90m━━━━━━━━━━━━━━━━━━━━━━━━━━━━━━━━━━━━━━━━\u001b[0m \u001b[32m0.0/2.1 MB\u001b[0m \u001b[31m?\u001b[0m eta \u001b[36m-:--:--\u001b[0m\r\u001b[2K   \u001b[90m━━━━━━━━━━━━━━━━━━━━━━━━━━━━━━━━━━━━━━━━\u001b[0m \u001b[32m2.1/2.1 MB\u001b[0m \u001b[31m43.3 MB/s\u001b[0m eta \u001b[36m0:00:00\u001b[0m\n",
            "\u001b[?25h"
          ]
        }
      ]
    },
    {
      "cell_type": "code",
      "source": [
        "%%writefile train.py\n",
        "from sklearn import svm\n",
        "from sklearn import datasets\n",
        "import bentoml\n",
        "\n",
        "# Load training data\n",
        "iris = datasets.load_iris()\n",
        "X, y = iris.data, iris.target\n",
        "\n",
        "# Model Training\n",
        "clf = svm.SVC(gamma='scale')\n",
        "clf.fit(X, y)\n",
        "\n",
        "# 调用`bentoml.<FRAMEWORK>.save(<MODEL_NAME>, model)` 为了在本地模型存储中保存为 BentoML 的标准格式\n",
        "# bentoml.sklearn.save(\"iris_clf\", clf) # deprecated\n",
        "bentoml.sklearn.save_model(\"iris_clf\", clf)"
      ],
      "metadata": {
        "id": "YuBwrytAhcAU",
        "outputId": "47ea15d1-0501-444c-887e-b21d78b0c4c3",
        "colab": {
          "base_uri": "https://localhost:8080/"
        }
      },
      "execution_count": 6,
      "outputs": [
        {
          "output_type": "stream",
          "name": "stdout",
          "text": [
            "Writing train.py\n"
          ]
        }
      ]
    },
    {
      "cell_type": "code",
      "source": [
        "!source activate ./venv; python train.py"
      ],
      "metadata": {
        "id": "7QUxDIUUkmaL"
      },
      "execution_count": 14,
      "outputs": []
    },
    {
      "cell_type": "code",
      "source": [
        "!source activate ./venv; bentoml models list"
      ],
      "metadata": {
        "id": "WnemNPkKmp0_",
        "outputId": "f25329ec-b44e-4c35-ee4a-8bf53401310c",
        "colab": {
          "base_uri": "https://localhost:8080/"
        }
      },
      "execution_count": 15,
      "outputs": [
        {
          "output_type": "stream",
          "name": "stdout",
          "text": [
            "\u001b[1m \u001b[0m\u001b[1mTag                      \u001b[0m\u001b[1m \u001b[0m\u001b[1m \u001b[0m\u001b[1mModule         \u001b[0m\u001b[1m \u001b[0m\u001b[1m \u001b[0m\u001b[1mSize    \u001b[0m\u001b[1m \u001b[0m\u001b[1m \u001b[0m\u001b[1mCreation Time      \u001b[0m\u001b[1m \u001b[0m\n",
            " iris_clf:yyhuhjba2wff4asc  bentoml.sklearn  5.99 KiB  2025-04-24 06:31:37 \n"
          ]
        }
      ]
    },
    {
      "cell_type": "code",
      "source": [
        "%%writefile verify.py\n",
        "\n",
        "import bentoml\n",
        "\n",
        "runner = bentoml.sklearn.get(\"iris_clf:latest\").to_runner()\n",
        "\n",
        "runner.init_local()\n",
        "\n",
        "print(runner.predict.run([[5.9, 3., 5.1, 1.8]]))  # => array(2)"
      ],
      "metadata": {
        "id": "hvVK9tXCoS6G",
        "outputId": "9671c482-3537-4cee-9903-11af543fafc7",
        "colab": {
          "base_uri": "https://localhost:8080/"
        }
      },
      "execution_count": 16,
      "outputs": [
        {
          "output_type": "stream",
          "name": "stdout",
          "text": [
            "Writing verify.py\n"
          ]
        }
      ]
    },
    {
      "cell_type": "code",
      "source": [
        "!source activate ./venv; python verify.py"
      ],
      "metadata": {
        "id": "5rJu2SvDoYjb",
        "outputId": "2bde3c0e-ac73-4c8e-ad11-1547013a150d",
        "colab": {
          "base_uri": "https://localhost:8080/"
        }
      },
      "execution_count": 17,
      "outputs": [
        {
          "output_type": "stream",
          "name": "stdout",
          "text": [
            "'Runner.init_local' is for debugging and testing only. Make sure to remove it before deploying to production.\n",
            "[2]\n"
          ]
        }
      ]
    },
    {
      "cell_type": "code",
      "source": [
        "%%writefile service.py\n",
        "import numpy as np\n",
        "import bentoml\n",
        "from bentoml.io import NumpyNdarray\n",
        "\n",
        "# 加载我们刚刚保存的最新 ScikitLearn 模型的运行器\n",
        "iris_clf_runner = bentoml.sklearn.get(\"iris_clf:latest\").to_runner()\n",
        "\n",
        "# 使用 ScikitLearn 运行器创建 iris_classifier 服务\n",
        "# 如果需要，可以在runners数组中指定多个运行器\n",
        "# 当包装为bento时，运行器（runners）也会被包括在里面\n",
        "svc = bentoml.Service(\"iris_classifier\", runners=[iris_clf_runner])\n",
        "\n",
        "\n",
        "# 使用“svc”注解创建具有预处理和后处理逻辑的 API 函数\n",
        "@svc.api(input=NumpyNdarray(), output=NumpyNdarray())\n",
        "def classify(input_series: np.ndarray) -> np.ndarray:\n",
        "    # 定义预处理逻辑\n",
        "    result = iris_clf_runner.predict.run(input_series)\n",
        "    # 定义后处理逻辑\n",
        "    return result"
      ],
      "metadata": {
        "id": "J_yf6F9VqKCc",
        "outputId": "8984ef66-46b6-480a-e795-1154c58de6c9",
        "colab": {
          "base_uri": "https://localhost:8080/"
        }
      },
      "execution_count": 18,
      "outputs": [
        {
          "output_type": "stream",
          "name": "stdout",
          "text": [
            "Writing service.py\n"
          ]
        }
      ]
    },
    {
      "cell_type": "code",
      "source": [
        "!source activate ./venv; bentoml serve service.py:svc --reload"
      ],
      "metadata": {
        "id": "rqBc2G6WyYvy",
        "outputId": "6b09b1c6-e315-45db-9a2a-1943840b73ff",
        "colab": {
          "base_uri": "https://localhost:8080/"
        }
      },
      "execution_count": 19,
      "outputs": [
        {
          "output_type": "stream",
          "name": "stdout",
          "text": [
            "2025-04-24T06:32:01+0000 [INFO] [cli] Environ for worker 0: set CPU thread count to 2\n",
            "2025-04-24T06:32:01+0000 [INFO] [cli] Prometheus metrics for HTTP BentoServer from \"service.py:svc\" can be accessed at http://localhost:3000/metrics.\n",
            "2025-04-24T06:32:01+0000 [INFO] [cli] Starting production HTTP BentoServer from \"service.py:svc\" listening on http://0.0.0.0:3000 (Press CTRL+C to quit)\n"
          ]
        }
      ]
    },
    {
      "cell_type": "code",
      "source": [
        "!source activate ./venv; curl \\\n",
        "  -X POST \\\n",
        "  -H \"content-type: application/json\" \\\n",
        "  --data \"[5,4,3,2]\" \\\n",
        "  http://127.0.0.1:3000/classify"
      ],
      "metadata": {
        "id": "69aXPGv6zLOb",
        "outputId": "63cd2e44-e976-4f59-b663-2afda658bd77",
        "colab": {
          "base_uri": "https://localhost:8080/"
        }
      },
      "execution_count": 34,
      "outputs": [
        {
          "output_type": "stream",
          "name": "stdout",
          "text": [
            "curl: /usr/local/lib/libcurl.so.4: no version information available (required by curl)\n",
            "curl: (7) Failed to connect to 127.0.0.1 port 3000 after 0 ms: Could not connect to server\n"
          ]
        }
      ]
    },
    {
      "cell_type": "code",
      "source": [
        "%%writefile bentofile.yaml\n",
        "service: \"service.py:svc\"  # 定位服务的约定：<YOUR_SERVICE_PY>:<YOUR_SERVICE_ANNOTATION>\n",
        "labels:\n",
        "    owner: bentoml-team\n",
        "    stage: demo\n",
        "include:\n",
        "  - \"service.py\"\n",
        "python:\n",
        "    packages:\n",
        "    - scikit-learn\n",
        "    - pandas\n",
        "# models:              # 可有可無(如果 store 中只有一個 model)\n",
        "# - iris_clf:latest"
      ],
      "metadata": {
        "id": "62vZKqEt1OfC",
        "outputId": "13c51253-b469-4138-e114-c7a567a4b4ad",
        "colab": {
          "base_uri": "https://localhost:8080/"
        }
      },
      "execution_count": 20,
      "outputs": [
        {
          "output_type": "stream",
          "name": "stdout",
          "text": [
            "Writing bentofile.yaml\n"
          ]
        }
      ]
    },
    {
      "cell_type": "code",
      "source": [
        "!source activate ./venv; bentoml build"
      ],
      "metadata": {
        "colab": {
          "base_uri": "https://localhost:8080/"
        },
        "id": "wicffqLff1ZA",
        "outputId": "5ae434e8-23b8-4aef-db97-7a2d7cd13834"
      },
      "execution_count": 21,
      "outputs": [
        {
          "output_type": "stream",
          "name": "stdout",
          "text": [
            "INFO: Adding current BentoML version to requirements.txt: 1.3.0\n",
            "INFO: Locking PyPI package versions.\n",
            "\n",
            "██████╗ ███████╗███╗   ██╗████████╗ ██████╗ ███╗   ███╗██╗\n",
            "██╔══██╗██╔════╝████╗  ██║╚══██╔══╝██╔═══██╗████╗ ████║██║\n",
            "██████╔╝█████╗  ██╔██╗ ██║   ██║   ██║   ██║██╔████╔██║██║\n",
            "██╔══██╗██╔══╝  ██║╚██╗██║   ██║   ██║   ██║██║╚██╔╝██║██║\n",
            "██████╔╝███████╗██║ ╚████║   ██║   ╚██████╔╝██║ ╚═╝ ██║███████╗\n",
            "╚═════╝ ╚══════╝╚═╝  ╚═══╝   ╚═╝    ╚═════╝ ╚═╝     ╚═╝╚══════╝\n",
            "\n",
            "\u001b[32mSuccessfully built \u001b[0m\u001b[1;32mBento\u001b[0m\u001b[1;32m(\u001b[0m\u001b[32mtag\u001b[0m\u001b[32m=\u001b[0m\u001b[32m\"iris_classifier\u001b[0m\u001b[32m:4itifdba2wwdeasc\"\u001b[0m\u001b[1;32m)\u001b[0m\u001b[32m.\u001b[0m\n",
            "\n",
            "\u001b[34mNext steps: \u001b[0m\n",
            "\n",
            "\u001b[34m* Deploy to BentoCloud:\u001b[0m\n",
            "\u001b[34m    $ bentoml deploy iris_classifier:4itifdba2wwdeasc -n $\u001b[0m\u001b[1;34m{\u001b[0m\u001b[34mDEPLOYMENT_NAME\u001b[0m\u001b[1;34m}\u001b[0m\n",
            "\n",
            "\u001b[34m* Update an existing deployment on BentoCloud:\u001b[0m\n",
            "\u001b[34m    $ bentoml deployment update --bento iris_classifier:4itifdba2wwdeasc \u001b[0m\n",
            "\u001b[34m$\u001b[0m\u001b[1;34m{\u001b[0m\u001b[34mDEPLOYMENT_NAME\u001b[0m\u001b[1;34m}\u001b[0m\n",
            "\n",
            "\u001b[34m* Containerize your Bento with `bentoml containerize`:\u001b[0m\n",
            "\u001b[34m    $ bentoml containerize iris_classifier:4itifdba2wwdeasc \u001b[0m\n",
            "\n",
            "\u001b[34m* Push to BentoCloud with `bentoml push`:\u001b[0m\n",
            "\u001b[34m    $ bentoml push iris_classifier:4itifdba2wwdeasc \u001b[0m\n"
          ]
        }
      ]
    },
    {
      "cell_type": "code",
      "source": [
        "!source activate ./venv; bentoml list"
      ],
      "metadata": {
        "colab": {
          "base_uri": "https://localhost:8080/"
        },
        "id": "dy5R5spNgCL7",
        "outputId": "ff0546e7-db67-4607-ba5a-100a1775573d"
      },
      "execution_count": 22,
      "outputs": [
        {
          "output_type": "stream",
          "name": "stdout",
          "text": [
            "\u001b[1m \u001b[0m\u001b[1mTag                             \u001b[0m\u001b[1m \u001b[0m\u001b[1m \u001b[0m\u001b[1mSize     \u001b[0m\u001b[1m \u001b[0m\u001b[1m \u001b[0m\u001b[1mModel Size\u001b[0m\u001b[1m \u001b[0m\u001b[1m \u001b[0m\u001b[1mCreation Time      \u001b[0m\u001b[1m \u001b[0m\n",
            " iris_classifier:4itifdba2wwdeasc  17.03 KiB  5.99 KiB    2025-04-24 06:32:26 \n"
          ]
        }
      ]
    },
    {
      "cell_type": "markdown",
      "source": [
        "* 若執行 `bentoml list` 時， 出現 KeyError的錯誤，暫時解沒有特殊方式解決。只能安裝互相匹配的 python 版本與 必要的 packages 版本"
      ],
      "metadata": {
        "id": "FmXauAMbshN3"
      }
    },
    {
      "cell_type": "markdown",
      "source": [
        "# BentoML SageMaker deployment"
      ],
      "metadata": {
        "id": "849dhE7RqkVH"
      }
    },
    {
      "cell_type": "markdown",
      "source": [
        "* 根據 -- 參5"
      ],
      "metadata": {
        "id": "IU1s2zxFqT14"
      }
    },
    {
      "cell_type": "code",
      "source": [
        "!conda create -p venv python==3.12.9 -y -q"
      ],
      "metadata": {
        "collapsed": true,
        "colab": {
          "base_uri": "https://localhost:8080/"
        },
        "id": "607b8zflqtMd",
        "outputId": "a66b9eb9-e31c-4dc6-bd6e-dc24453ff19d"
      },
      "execution_count": 3,
      "outputs": [
        {
          "output_type": "stream",
          "name": "stdout",
          "text": [
            "Channels:\n",
            " - conda-forge\n",
            "Platform: linux-64\n",
            "Collecting package metadata (repodata.json): ...working... done\n",
            "Solving environment: ...working... done\n",
            "\n",
            "## Package Plan ##\n",
            "\n",
            "  environment location: /content/venv\n",
            "\n",
            "  added / updated specs:\n",
            "    - python==3.12.9\n",
            "\n",
            "\n",
            "The following packages will be downloaded:\n",
            "\n",
            "    package                    |            build\n",
            "    ---------------------------|-----------------\n",
            "    ca-certificates-2025.1.31  |       hbd8a1cb_1         155 KB  conda-forge\n",
            "    ld_impl_linux-64-2.43      |       h712a8e2_4         656 KB  conda-forge\n",
            "    libexpat-2.7.0             |       h5888daf_0          73 KB  conda-forge\n",
            "    libffi-3.4.6               |       h2dba641_1          56 KB  conda-forge\n",
            "    libgcc-14.2.0              |       h767d61c_2         828 KB  conda-forge\n",
            "    libgcc-ng-14.2.0           |       h69a702a_2          52 KB  conda-forge\n",
            "    libgomp-14.2.0             |       h767d61c_2         449 KB  conda-forge\n",
            "    liblzma-5.8.1              |       hb9d3cd8_0         110 KB  conda-forge\n",
            "    libsqlite-3.49.1           |       hee588c1_2         897 KB  conda-forge\n",
            "    ncurses-6.5                |       h2d0b736_3         871 KB  conda-forge\n",
            "    openssl-3.5.0              |       h7b32b05_0         3.0 MB  conda-forge\n",
            "    pip-25.0.1                 |     pyh8b19718_0         1.2 MB  conda-forge\n",
            "    python-3.12.9              |h9e4cc4f_1_cpython        30.2 MB  conda-forge\n",
            "    readline-8.2               |       h8c095d6_2         276 KB  conda-forge\n",
            "    setuptools-79.0.0          |     pyhff2d567_0         769 KB  conda-forge\n",
            "    tzdata-2025b               |       h78e105d_0         120 KB  conda-forge\n",
            "    ------------------------------------------------------------\n",
            "                                           Total:        39.6 MB\n",
            "\n",
            "The following NEW packages will be INSTALLED:\n",
            "\n",
            "  _libgcc_mutex      conda-forge/linux-64::_libgcc_mutex-0.1-conda_forge \n",
            "  _openmp_mutex      conda-forge/linux-64::_openmp_mutex-4.5-2_gnu \n",
            "  bzip2              conda-forge/linux-64::bzip2-1.0.8-h4bc722e_7 \n",
            "  ca-certificates    conda-forge/noarch::ca-certificates-2025.1.31-hbd8a1cb_1 \n",
            "  ld_impl_linux-64   conda-forge/linux-64::ld_impl_linux-64-2.43-h712a8e2_4 \n",
            "  libexpat           conda-forge/linux-64::libexpat-2.7.0-h5888daf_0 \n",
            "  libffi             conda-forge/linux-64::libffi-3.4.6-h2dba641_1 \n",
            "  libgcc             conda-forge/linux-64::libgcc-14.2.0-h767d61c_2 \n",
            "  libgcc-ng          conda-forge/linux-64::libgcc-ng-14.2.0-h69a702a_2 \n",
            "  libgomp            conda-forge/linux-64::libgomp-14.2.0-h767d61c_2 \n",
            "  liblzma            conda-forge/linux-64::liblzma-5.8.1-hb9d3cd8_0 \n",
            "  libnsl             conda-forge/linux-64::libnsl-2.0.1-hd590300_0 \n",
            "  libsqlite          conda-forge/linux-64::libsqlite-3.49.1-hee588c1_2 \n",
            "  libuuid            conda-forge/linux-64::libuuid-2.38.1-h0b41bf4_0 \n",
            "  libxcrypt          conda-forge/linux-64::libxcrypt-4.4.36-hd590300_1 \n",
            "  libzlib            conda-forge/linux-64::libzlib-1.3.1-hb9d3cd8_2 \n",
            "  ncurses            conda-forge/linux-64::ncurses-6.5-h2d0b736_3 \n",
            "  openssl            conda-forge/linux-64::openssl-3.5.0-h7b32b05_0 \n",
            "  pip                conda-forge/noarch::pip-25.0.1-pyh8b19718_0 \n",
            "  python             conda-forge/linux-64::python-3.12.9-h9e4cc4f_1_cpython \n",
            "  readline           conda-forge/linux-64::readline-8.2-h8c095d6_2 \n",
            "  setuptools         conda-forge/noarch::setuptools-79.0.0-pyhff2d567_0 \n",
            "  tk                 conda-forge/linux-64::tk-8.6.13-noxft_h4845f30_101 \n",
            "  tzdata             conda-forge/noarch::tzdata-2025b-h78e105d_0 \n",
            "  wheel              conda-forge/noarch::wheel-0.45.1-pyhd8ed1ab_1 \n",
            "\n",
            "\n",
            "Preparing transaction: ...working... done\n",
            "Verifying transaction: ...working... done\n",
            "Executing transaction: ...working... done\n"
          ]
        }
      ]
    },
    {
      "cell_type": "code",
      "source": [
        "%%writefile requirements.txt\n",
        "bentoctl==0.4.0\n",
        "bentoml==1.4.10\n",
        "boto3==1.29.0\n",
        "numpy==1.26.2\n",
        "pydantic==2.5.1\n",
        "pydantic_core==2.14.3\n",
        "scikit-learn==1.3.2"
      ],
      "metadata": {
        "id": "EwYlnxF1olD1",
        "outputId": "504747c5-3102-4e54-dc29-df9230599857",
        "colab": {
          "base_uri": "https://localhost:8080/"
        }
      },
      "execution_count": 4,
      "outputs": [
        {
          "output_type": "stream",
          "name": "stdout",
          "text": [
            "Writing requirements.txt\n"
          ]
        }
      ]
    },
    {
      "cell_type": "code",
      "source": [
        "!source activate ./venv; pip install -r requirements.txt"
      ],
      "metadata": {
        "collapsed": true,
        "colab": {
          "base_uri": "https://localhost:8080/"
        },
        "id": "Th-eSzcqrt4_",
        "outputId": "455d94ec-22d3-47d2-cd16-d03a691e80b2"
      },
      "execution_count": 5,
      "outputs": [
        {
          "output_type": "stream",
          "name": "stdout",
          "text": [
            "Collecting bentoctl==0.4.0 (from -r requirements.txt (line 1))\n",
            "  Downloading bentoctl-0.4.0-py3-none-any.whl.metadata (5.9 kB)\n",
            "Collecting bentoml==1.4.10 (from -r requirements.txt (line 2))\n",
            "  Downloading bentoml-1.4.10-py3-none-any.whl.metadata (16 kB)\n",
            "Collecting boto3==1.29.0 (from -r requirements.txt (line 3))\n",
            "  Downloading boto3-1.29.0-py3-none-any.whl.metadata (6.7 kB)\n",
            "Collecting numpy==1.26.2 (from -r requirements.txt (line 4))\n",
            "  Downloading numpy-1.26.2-cp312-cp312-manylinux_2_17_x86_64.manylinux2014_x86_64.whl.metadata (61 kB)\n",
            "Collecting pydantic==2.5.1 (from -r requirements.txt (line 5))\n",
            "  Downloading pydantic-2.5.1-py3-none-any.whl.metadata (64 kB)\n",
            "Collecting pydantic_core==2.14.3 (from -r requirements.txt (line 6))\n",
            "  Downloading pydantic_core-2.14.3-cp312-cp312-manylinux_2_17_x86_64.manylinux2014_x86_64.whl.metadata (6.5 kB)\n",
            "Collecting scikit-learn==1.3.2 (from -r requirements.txt (line 7))\n",
            "  Downloading scikit_learn-1.3.2-cp312-cp312-manylinux_2_17_x86_64.manylinux2014_x86_64.whl.metadata (11 kB)\n",
            "Collecting click>=8 (from bentoctl==0.4.0->-r requirements.txt (line 1))\n",
            "  Downloading click-8.1.8-py3-none-any.whl.metadata (2.3 kB)\n",
            "Collecting cerberus<2,>=1 (from bentoctl==0.4.0->-r requirements.txt (line 1))\n",
            "  Downloading Cerberus-1.3.7-py3-none-any.whl.metadata (5.5 kB)\n",
            "Collecting rich==12.* (from bentoctl==0.4.0->-r requirements.txt (line 1))\n",
            "  Downloading rich-12.6.0-py3-none-any.whl.metadata (18 kB)\n",
            "Collecting PYYAML>=6 (from bentoctl==0.4.0->-r requirements.txt (line 1))\n",
            "  Downloading PyYAML-6.0.2-cp312-cp312-manylinux_2_17_x86_64.manylinux2014_x86_64.whl.metadata (2.1 kB)\n",
            "Collecting simple-term-menu==0.4.4 (from bentoctl==0.4.0->-r requirements.txt (line 1))\n",
            "  Downloading simple_term_menu-0.4.4-py3-none-any.whl.metadata (7.2 kB)\n",
            "Collecting docker>=5 (from bentoctl==0.4.0->-r requirements.txt (line 1))\n",
            "  Downloading docker-7.1.0-py3-none-any.whl.metadata (3.8 kB)\n",
            "Collecting semantic-version<3.0.0,>=2.9.0 (from bentoctl==0.4.0->-r requirements.txt (line 1))\n",
            "  Downloading semantic_version-2.10.0-py2.py3-none-any.whl.metadata (9.7 kB)\n",
            "Collecting a2wsgi>=1.10.7 (from bentoml==1.4.10->-r requirements.txt (line 2))\n",
            "  Downloading a2wsgi-1.10.8-py3-none-any.whl.metadata (3.9 kB)\n",
            "Collecting aiohttp (from bentoml==1.4.10->-r requirements.txt (line 2))\n",
            "  Downloading aiohttp-3.11.18-cp312-cp312-manylinux_2_17_x86_64.manylinux2014_x86_64.whl.metadata (7.7 kB)\n",
            "Collecting aiosqlite>=0.20.0 (from bentoml==1.4.10->-r requirements.txt (line 2))\n",
            "  Downloading aiosqlite-0.21.0-py3-none-any.whl.metadata (4.3 kB)\n",
            "Collecting attrs>=22.2.0 (from bentoml==1.4.10->-r requirements.txt (line 2))\n",
            "  Downloading attrs-25.3.0-py3-none-any.whl.metadata (10 kB)\n",
            "Collecting cattrs<23.2.0,>=22.1.0 (from bentoml==1.4.10->-r requirements.txt (line 2))\n",
            "  Downloading cattrs-23.1.2-py3-none-any.whl.metadata (9.3 kB)\n",
            "Collecting click-option-group (from bentoml==1.4.10->-r requirements.txt (line 2))\n",
            "  Downloading click_option_group-0.5.7-py3-none-any.whl.metadata (5.8 kB)\n",
            "Collecting cloudpickle>=2.0.0 (from bentoml==1.4.10->-r requirements.txt (line 2))\n",
            "  Downloading cloudpickle-3.1.1-py3-none-any.whl.metadata (7.1 kB)\n",
            "Collecting fs (from bentoml==1.4.10->-r requirements.txt (line 2))\n",
            "  Downloading fs-2.4.16-py2.py3-none-any.whl.metadata (6.3 kB)\n",
            "Collecting httpx (from bentoml==1.4.10->-r requirements.txt (line 2))\n",
            "  Downloading httpx-0.28.1-py3-none-any.whl.metadata (7.1 kB)\n",
            "Collecting httpx-ws>=0.6.0 (from bentoml==1.4.10->-r requirements.txt (line 2))\n",
            "  Downloading httpx_ws-0.7.2-py3-none-any.whl.metadata (9.3 kB)\n",
            "Collecting jinja2>=3.0.1 (from bentoml==1.4.10->-r requirements.txt (line 2))\n",
            "  Downloading jinja2-3.1.6-py3-none-any.whl.metadata (2.9 kB)\n",
            "Collecting kantoku>=0.18.3 (from bentoml==1.4.10->-r requirements.txt (line 2))\n",
            "  Downloading kantoku-0.18.3-py3-none-any.whl.metadata (2.1 kB)\n",
            "Collecting nvidia-ml-py (from bentoml==1.4.10->-r requirements.txt (line 2))\n",
            "  Downloading nvidia_ml_py-12.570.86-py3-none-any.whl.metadata (8.7 kB)\n",
            "Collecting opentelemetry-api~=1.20 (from bentoml==1.4.10->-r requirements.txt (line 2))\n",
            "  Downloading opentelemetry_api-1.32.1-py3-none-any.whl.metadata (1.6 kB)\n",
            "Collecting opentelemetry-instrumentation-aiohttp-client~=0.41b0 (from bentoml==1.4.10->-r requirements.txt (line 2))\n",
            "  Downloading opentelemetry_instrumentation_aiohttp_client-0.53b1-py3-none-any.whl.metadata (2.2 kB)\n",
            "Collecting opentelemetry-instrumentation-asgi~=0.41b0 (from bentoml==1.4.10->-r requirements.txt (line 2))\n",
            "  Downloading opentelemetry_instrumentation_asgi-0.53b1-py3-none-any.whl.metadata (2.1 kB)\n",
            "Collecting opentelemetry-instrumentation~=0.41b0 (from bentoml==1.4.10->-r requirements.txt (line 2))\n",
            "  Downloading opentelemetry_instrumentation-0.53b1-py3-none-any.whl.metadata (6.8 kB)\n",
            "Collecting opentelemetry-sdk~=1.20 (from bentoml==1.4.10->-r requirements.txt (line 2))\n",
            "  Downloading opentelemetry_sdk-1.32.1-py3-none-any.whl.metadata (1.6 kB)\n",
            "Collecting opentelemetry-semantic-conventions~=0.41b0 (from bentoml==1.4.10->-r requirements.txt (line 2))\n",
            "  Downloading opentelemetry_semantic_conventions-0.53b1-py3-none-any.whl.metadata (2.5 kB)\n",
            "Collecting opentelemetry-util-http~=0.41b0 (from bentoml==1.4.10->-r requirements.txt (line 2))\n",
            "  Downloading opentelemetry_util_http-0.53b1-py3-none-any.whl.metadata (2.6 kB)\n",
            "Collecting packaging>=22.0 (from bentoml==1.4.10->-r requirements.txt (line 2))\n",
            "  Downloading packaging-25.0-py3-none-any.whl.metadata (3.3 kB)\n",
            "Collecting pathspec (from bentoml==1.4.10->-r requirements.txt (line 2))\n",
            "  Downloading pathspec-0.12.1-py3-none-any.whl.metadata (21 kB)\n",
            "Collecting pip-requirements-parser>=31.2.0 (from bentoml==1.4.10->-r requirements.txt (line 2))\n",
            "  Downloading pip_requirements_parser-32.0.1-py3-none-any.whl.metadata (9.3 kB)\n",
            "Collecting prometheus-client>=0.10.0 (from bentoml==1.4.10->-r requirements.txt (line 2))\n",
            "  Downloading prometheus_client-0.21.1-py3-none-any.whl.metadata (1.8 kB)\n",
            "Collecting psutil (from bentoml==1.4.10->-r requirements.txt (line 2))\n",
            "  Downloading psutil-7.0.0-cp36-abi3-manylinux_2_12_x86_64.manylinux2010_x86_64.manylinux_2_17_x86_64.manylinux2014_x86_64.whl.metadata (22 kB)\n",
            "Collecting python-dateutil (from bentoml==1.4.10->-r requirements.txt (line 2))\n",
            "  Downloading python_dateutil-2.9.0.post0-py2.py3-none-any.whl.metadata (8.4 kB)\n",
            "Collecting python-dotenv>=1.0.1 (from bentoml==1.4.10->-r requirements.txt (line 2))\n",
            "  Downloading python_dotenv-1.1.0-py3-none-any.whl.metadata (24 kB)\n",
            "Collecting python-json-logger (from bentoml==1.4.10->-r requirements.txt (line 2))\n",
            "  Downloading python_json_logger-3.3.0-py3-none-any.whl.metadata (4.0 kB)\n",
            "Collecting python-multipart (from bentoml==1.4.10->-r requirements.txt (line 2))\n",
            "  Downloading python_multipart-0.0.20-py3-none-any.whl.metadata (1.8 kB)\n",
            "Collecting questionary>=2.0.1 (from bentoml==1.4.10->-r requirements.txt (line 2))\n",
            "  Downloading questionary-2.1.0-py3-none-any.whl.metadata (5.4 kB)\n",
            "Collecting schema (from bentoml==1.4.10->-r requirements.txt (line 2))\n",
            "  Downloading schema-0.7.7-py2.py3-none-any.whl.metadata (34 kB)\n",
            "Collecting simple-di>=0.1.4 (from bentoml==1.4.10->-r requirements.txt (line 2))\n",
            "  Downloading simple_di-0.1.5-py3-none-any.whl.metadata (3.0 kB)\n",
            "Collecting starlette>=0.24.0 (from bentoml==1.4.10->-r requirements.txt (line 2))\n",
            "  Downloading starlette-0.46.2-py3-none-any.whl.metadata (6.2 kB)\n",
            "Collecting tomli-w (from bentoml==1.4.10->-r requirements.txt (line 2))\n",
            "  Downloading tomli_w-1.2.0-py3-none-any.whl.metadata (5.7 kB)\n",
            "Collecting uvicorn>=0.22.0 (from bentoml==1.4.10->-r requirements.txt (line 2))\n",
            "  Downloading uvicorn-0.34.2-py3-none-any.whl.metadata (6.5 kB)\n",
            "Collecting watchfiles>=0.15.0 (from bentoml==1.4.10->-r requirements.txt (line 2))\n",
            "  Downloading watchfiles-1.0.5-cp312-cp312-manylinux_2_17_x86_64.manylinux2014_x86_64.whl.metadata (4.9 kB)\n",
            "Collecting botocore<1.33.0,>=1.32.0 (from boto3==1.29.0->-r requirements.txt (line 3))\n",
            "  Downloading botocore-1.32.7-py3-none-any.whl.metadata (6.1 kB)\n",
            "Collecting jmespath<2.0.0,>=0.7.1 (from boto3==1.29.0->-r requirements.txt (line 3))\n",
            "  Downloading jmespath-1.0.1-py3-none-any.whl.metadata (7.6 kB)\n",
            "Collecting s3transfer<0.8.0,>=0.7.0 (from boto3==1.29.0->-r requirements.txt (line 3))\n",
            "  Downloading s3transfer-0.7.0-py3-none-any.whl.metadata (1.8 kB)\n",
            "Collecting annotated-types>=0.4.0 (from pydantic==2.5.1->-r requirements.txt (line 5))\n",
            "  Downloading annotated_types-0.7.0-py3-none-any.whl.metadata (15 kB)\n",
            "Collecting typing-extensions>=4.6.1 (from pydantic==2.5.1->-r requirements.txt (line 5))\n",
            "  Downloading typing_extensions-4.13.2-py3-none-any.whl.metadata (3.0 kB)\n",
            "Collecting scipy>=1.5.0 (from scikit-learn==1.3.2->-r requirements.txt (line 7))\n",
            "  Downloading scipy-1.15.2-cp312-cp312-manylinux_2_17_x86_64.manylinux2014_x86_64.whl.metadata (61 kB)\n",
            "Collecting joblib>=1.1.1 (from scikit-learn==1.3.2->-r requirements.txt (line 7))\n",
            "  Downloading joblib-1.4.2-py3-none-any.whl.metadata (5.4 kB)\n",
            "Collecting threadpoolctl>=2.0.0 (from scikit-learn==1.3.2->-r requirements.txt (line 7))\n",
            "  Downloading threadpoolctl-3.6.0-py3-none-any.whl.metadata (13 kB)\n",
            "Collecting commonmark<0.10.0,>=0.9.0 (from rich==12.*->bentoctl==0.4.0->-r requirements.txt (line 1))\n",
            "  Downloading commonmark-0.9.1-py2.py3-none-any.whl.metadata (5.7 kB)\n",
            "Collecting pygments<3.0.0,>=2.6.0 (from rich==12.*->bentoctl==0.4.0->-r requirements.txt (line 1))\n",
            "  Downloading pygments-2.19.1-py3-none-any.whl.metadata (2.5 kB)\n",
            "Collecting urllib3<2.1,>=1.25.4 (from botocore<1.33.0,>=1.32.0->boto3==1.29.0->-r requirements.txt (line 3))\n",
            "  Downloading urllib3-2.0.7-py3-none-any.whl.metadata (6.6 kB)\n",
            "Collecting requests>=2.26.0 (from docker>=5->bentoctl==0.4.0->-r requirements.txt (line 1))\n",
            "  Downloading requests-2.32.3-py3-none-any.whl.metadata (4.6 kB)\n",
            "Collecting anyio>=4 (from httpx-ws>=0.6.0->bentoml==1.4.10->-r requirements.txt (line 2))\n",
            "  Downloading anyio-4.9.0-py3-none-any.whl.metadata (4.7 kB)\n",
            "Collecting httpcore>=1.0.4 (from httpx-ws>=0.6.0->bentoml==1.4.10->-r requirements.txt (line 2))\n",
            "  Downloading httpcore-1.0.8-py3-none-any.whl.metadata (21 kB)\n",
            "Collecting wsproto (from httpx-ws>=0.6.0->bentoml==1.4.10->-r requirements.txt (line 2))\n",
            "  Downloading wsproto-1.2.0-py3-none-any.whl.metadata (5.6 kB)\n",
            "Collecting certifi (from httpx->bentoml==1.4.10->-r requirements.txt (line 2))\n",
            "  Downloading certifi-2025.1.31-py3-none-any.whl.metadata (2.5 kB)\n",
            "Collecting idna (from httpx->bentoml==1.4.10->-r requirements.txt (line 2))\n",
            "  Downloading idna-3.10-py3-none-any.whl.metadata (10 kB)\n",
            "Collecting h11<0.15,>=0.13 (from httpcore>=1.0.4->httpx-ws>=0.6.0->bentoml==1.4.10->-r requirements.txt (line 2))\n",
            "  Downloading h11-0.14.0-py3-none-any.whl.metadata (8.2 kB)\n",
            "Collecting MarkupSafe>=2.0 (from jinja2>=3.0.1->bentoml==1.4.10->-r requirements.txt (line 2))\n",
            "  Downloading MarkupSafe-3.0.2-cp312-cp312-manylinux_2_17_x86_64.manylinux2014_x86_64.whl.metadata (4.0 kB)\n",
            "Collecting pyzmq>=17.0 (from kantoku>=0.18.3->bentoml==1.4.10->-r requirements.txt (line 2))\n",
            "  Downloading pyzmq-26.4.0-cp312-cp312-manylinux_2_28_x86_64.whl.metadata (6.0 kB)\n",
            "Collecting tornado>=5.0.2 (from kantoku>=0.18.3->bentoml==1.4.10->-r requirements.txt (line 2))\n",
            "  Downloading tornado-6.4.2-cp38-abi3-manylinux_2_5_x86_64.manylinux1_x86_64.manylinux_2_17_x86_64.manylinux2014_x86_64.whl.metadata (2.5 kB)\n",
            "Collecting deprecated>=1.2.6 (from opentelemetry-api~=1.20->bentoml==1.4.10->-r requirements.txt (line 2))\n",
            "  Downloading Deprecated-1.2.18-py2.py3-none-any.whl.metadata (5.7 kB)\n",
            "Collecting importlib-metadata<8.7.0,>=6.0 (from opentelemetry-api~=1.20->bentoml==1.4.10->-r requirements.txt (line 2))\n",
            "  Downloading importlib_metadata-8.6.1-py3-none-any.whl.metadata (4.7 kB)\n",
            "Collecting wrapt<2.0.0,>=1.0.0 (from opentelemetry-instrumentation~=0.41b0->bentoml==1.4.10->-r requirements.txt (line 2))\n",
            "  Downloading wrapt-1.17.2-cp312-cp312-manylinux_2_5_x86_64.manylinux1_x86_64.manylinux_2_17_x86_64.manylinux2014_x86_64.whl.metadata (6.4 kB)\n",
            "Collecting asgiref~=3.0 (from opentelemetry-instrumentation-asgi~=0.41b0->bentoml==1.4.10->-r requirements.txt (line 2))\n",
            "  Downloading asgiref-3.8.1-py3-none-any.whl.metadata (9.3 kB)\n",
            "Collecting pyparsing (from pip-requirements-parser>=31.2.0->bentoml==1.4.10->-r requirements.txt (line 2))\n",
            "  Downloading pyparsing-3.2.3-py3-none-any.whl.metadata (5.0 kB)\n",
            "Collecting six>=1.5 (from python-dateutil->bentoml==1.4.10->-r requirements.txt (line 2))\n",
            "  Downloading six-1.17.0-py2.py3-none-any.whl.metadata (1.7 kB)\n",
            "Collecting prompt_toolkit<4.0,>=2.0 (from questionary>=2.0.1->bentoml==1.4.10->-r requirements.txt (line 2))\n",
            "  Downloading prompt_toolkit-3.0.51-py3-none-any.whl.metadata (6.4 kB)\n",
            "Collecting aiohappyeyeballs>=2.3.0 (from aiohttp->bentoml==1.4.10->-r requirements.txt (line 2))\n",
            "  Downloading aiohappyeyeballs-2.6.1-py3-none-any.whl.metadata (5.9 kB)\n",
            "Collecting aiosignal>=1.1.2 (from aiohttp->bentoml==1.4.10->-r requirements.txt (line 2))\n",
            "  Downloading aiosignal-1.3.2-py2.py3-none-any.whl.metadata (3.8 kB)\n",
            "Collecting frozenlist>=1.1.1 (from aiohttp->bentoml==1.4.10->-r requirements.txt (line 2))\n",
            "  Downloading frozenlist-1.6.0-cp312-cp312-manylinux_2_5_x86_64.manylinux1_x86_64.manylinux_2_17_x86_64.manylinux2014_x86_64.whl.metadata (16 kB)\n",
            "Collecting multidict<7.0,>=4.5 (from aiohttp->bentoml==1.4.10->-r requirements.txt (line 2))\n",
            "  Downloading multidict-6.4.3-cp312-cp312-manylinux_2_17_x86_64.manylinux2014_x86_64.whl.metadata (5.3 kB)\n",
            "Collecting propcache>=0.2.0 (from aiohttp->bentoml==1.4.10->-r requirements.txt (line 2))\n",
            "  Downloading propcache-0.3.1-cp312-cp312-manylinux_2_17_x86_64.manylinux2014_x86_64.whl.metadata (10 kB)\n",
            "Collecting yarl<2.0,>=1.17.0 (from aiohttp->bentoml==1.4.10->-r requirements.txt (line 2))\n",
            "  Downloading yarl-1.20.0-cp312-cp312-manylinux_2_17_x86_64.manylinux2014_x86_64.whl.metadata (72 kB)\n",
            "Collecting appdirs~=1.4.3 (from fs->bentoml==1.4.10->-r requirements.txt (line 2))\n",
            "  Downloading appdirs-1.4.4-py2.py3-none-any.whl.metadata (9.0 kB)\n",
            "Requirement already satisfied: setuptools in ./venv/lib/python3.12/site-packages (from fs->bentoml==1.4.10->-r requirements.txt (line 2)) (79.0.0)\n",
            "Collecting sniffio>=1.1 (from anyio>=4->httpx-ws>=0.6.0->bentoml==1.4.10->-r requirements.txt (line 2))\n",
            "  Downloading sniffio-1.3.1-py3-none-any.whl.metadata (3.9 kB)\n",
            "Collecting zipp>=3.20 (from importlib-metadata<8.7.0,>=6.0->opentelemetry-api~=1.20->bentoml==1.4.10->-r requirements.txt (line 2))\n",
            "  Downloading zipp-3.21.0-py3-none-any.whl.metadata (3.7 kB)\n",
            "Collecting wcwidth (from prompt_toolkit<4.0,>=2.0->questionary>=2.0.1->bentoml==1.4.10->-r requirements.txt (line 2))\n",
            "  Downloading wcwidth-0.2.13-py2.py3-none-any.whl.metadata (14 kB)\n",
            "Collecting charset-normalizer<4,>=2 (from requests>=2.26.0->docker>=5->bentoctl==0.4.0->-r requirements.txt (line 1))\n",
            "  Downloading charset_normalizer-3.4.1-cp312-cp312-manylinux_2_17_x86_64.manylinux2014_x86_64.whl.metadata (35 kB)\n",
            "Downloading bentoctl-0.4.0-py3-none-any.whl (36 kB)\n",
            "Downloading bentoml-1.4.10-py3-none-any.whl (1.2 MB)\n",
            "\u001b[2K   \u001b[90m━━━━━━━━━━━━━━━━━━━━━━━━━━━━━━━━━━━━━━━━\u001b[0m \u001b[32m1.2/1.2 MB\u001b[0m \u001b[31m24.9 MB/s\u001b[0m eta \u001b[36m0:00:00\u001b[0m\n",
            "\u001b[?25hDownloading boto3-1.29.0-py3-none-any.whl (135 kB)\n",
            "Downloading numpy-1.26.2-cp312-cp312-manylinux_2_17_x86_64.manylinux2014_x86_64.whl (17.9 MB)\n",
            "\u001b[2K   \u001b[90m━━━━━━━━━━━━━━━━━━━━━━━━━━━━━━━━━━━━━━━━\u001b[0m \u001b[32m17.9/17.9 MB\u001b[0m \u001b[31m129.6 MB/s\u001b[0m eta \u001b[36m0:00:00\u001b[0m\n",
            "\u001b[?25hDownloading pydantic-2.5.1-py3-none-any.whl (381 kB)\n",
            "Downloading pydantic_core-2.14.3-cp312-cp312-manylinux_2_17_x86_64.manylinux2014_x86_64.whl (2.1 MB)\n",
            "\u001b[2K   \u001b[90m━━━━━━━━━━━━━━━━━━━━━━━━━━━━━━━━━━━━━━━━\u001b[0m \u001b[32m2.1/2.1 MB\u001b[0m \u001b[31m75.0 MB/s\u001b[0m eta \u001b[36m0:00:00\u001b[0m\n",
            "\u001b[?25hDownloading scikit_learn-1.3.2-cp312-cp312-manylinux_2_17_x86_64.manylinux2014_x86_64.whl (10.8 MB)\n",
            "\u001b[2K   \u001b[90m━━━━━━━━━━━━━━━━━━━━━━━━━━━━━━━━━━━━━━━━\u001b[0m \u001b[32m10.8/10.8 MB\u001b[0m \u001b[31m103.5 MB/s\u001b[0m eta \u001b[36m0:00:00\u001b[0m\n",
            "\u001b[?25hDownloading rich-12.6.0-py3-none-any.whl (237 kB)\n",
            "Downloading simple_term_menu-0.4.4-py3-none-any.whl (7.8 kB)\n",
            "Downloading a2wsgi-1.10.8-py3-none-any.whl (17 kB)\n",
            "Downloading aiosqlite-0.21.0-py3-none-any.whl (15 kB)\n",
            "Downloading annotated_types-0.7.0-py3-none-any.whl (13 kB)\n",
            "Downloading attrs-25.3.0-py3-none-any.whl (63 kB)\n",
            "Downloading botocore-1.32.7-py3-none-any.whl (11.6 MB)\n",
            "\u001b[2K   \u001b[90m━━━━━━━━━━━━━━━━━━━━━━━━━━━━━━━━━━━━━━━━\u001b[0m \u001b[32m11.6/11.6 MB\u001b[0m \u001b[31m109.9 MB/s\u001b[0m eta \u001b[36m0:00:00\u001b[0m\n",
            "\u001b[?25hDownloading cattrs-23.1.2-py3-none-any.whl (50 kB)\n",
            "Downloading Cerberus-1.3.7-py3-none-any.whl (30 kB)\n",
            "Downloading click-8.1.8-py3-none-any.whl (98 kB)\n",
            "Downloading cloudpickle-3.1.1-py3-none-any.whl (20 kB)\n",
            "Downloading docker-7.1.0-py3-none-any.whl (147 kB)\n",
            "Downloading httpx_ws-0.7.2-py3-none-any.whl (14 kB)\n",
            "Downloading httpx-0.28.1-py3-none-any.whl (73 kB)\n",
            "Downloading httpcore-1.0.8-py3-none-any.whl (78 kB)\n",
            "Downloading jinja2-3.1.6-py3-none-any.whl (134 kB)\n",
            "Downloading jmespath-1.0.1-py3-none-any.whl (20 kB)\n",
            "Downloading joblib-1.4.2-py3-none-any.whl (301 kB)\n",
            "Downloading kantoku-0.18.3-py3-none-any.whl (118 kB)\n",
            "Downloading opentelemetry_api-1.32.1-py3-none-any.whl (65 kB)\n",
            "Downloading opentelemetry_instrumentation-0.53b1-py3-none-any.whl (30 kB)\n",
            "Downloading opentelemetry_semantic_conventions-0.53b1-py3-none-any.whl (188 kB)\n",
            "Downloading opentelemetry_instrumentation_aiohttp_client-0.53b1-py3-none-any.whl (11 kB)\n",
            "Downloading opentelemetry_util_http-0.53b1-py3-none-any.whl (7.3 kB)\n",
            "Downloading opentelemetry_instrumentation_asgi-0.53b1-py3-none-any.whl (16 kB)\n",
            "Downloading opentelemetry_sdk-1.32.1-py3-none-any.whl (118 kB)\n",
            "Downloading packaging-25.0-py3-none-any.whl (66 kB)\n",
            "Downloading pip_requirements_parser-32.0.1-py3-none-any.whl (35 kB)\n",
            "Downloading prometheus_client-0.21.1-py3-none-any.whl (54 kB)\n",
            "Downloading python_dateutil-2.9.0.post0-py2.py3-none-any.whl (229 kB)\n",
            "Downloading python_dotenv-1.1.0-py3-none-any.whl (20 kB)\n",
            "Downloading PyYAML-6.0.2-cp312-cp312-manylinux_2_17_x86_64.manylinux2014_x86_64.whl (767 kB)\n",
            "\u001b[2K   \u001b[90m━━━━━━━━━━━━━━━━━━━━━━━━━━━━━━━━━━━━━━━━\u001b[0m \u001b[32m767.5/767.5 kB\u001b[0m \u001b[31m35.5 MB/s\u001b[0m eta \u001b[36m0:00:00\u001b[0m\n",
            "\u001b[?25hDownloading questionary-2.1.0-py3-none-any.whl (36 kB)\n",
            "Downloading s3transfer-0.7.0-py3-none-any.whl (79 kB)\n",
            "Downloading scipy-1.15.2-cp312-cp312-manylinux_2_17_x86_64.manylinux2014_x86_64.whl (37.3 MB)\n",
            "\u001b[2K   \u001b[90m━━━━━━━━━━━━━━━━━━━━━━━━━━━━━━━━━━━━━━━━\u001b[0m \u001b[32m37.3/37.3 MB\u001b[0m \u001b[31m59.8 MB/s\u001b[0m eta \u001b[36m0:00:00\u001b[0m\n",
            "\u001b[?25hDownloading semantic_version-2.10.0-py2.py3-none-any.whl (15 kB)\n",
            "Downloading simple_di-0.1.5-py3-none-any.whl (9.8 kB)\n",
            "Downloading starlette-0.46.2-py3-none-any.whl (72 kB)\n",
            "Downloading threadpoolctl-3.6.0-py3-none-any.whl (18 kB)\n",
            "Downloading typing_extensions-4.13.2-py3-none-any.whl (45 kB)\n",
            "Downloading uvicorn-0.34.2-py3-none-any.whl (62 kB)\n",
            "Downloading watchfiles-1.0.5-cp312-cp312-manylinux_2_17_x86_64.manylinux2014_x86_64.whl (454 kB)\n",
            "Downloading aiohttp-3.11.18-cp312-cp312-manylinux_2_17_x86_64.manylinux2014_x86_64.whl (1.7 MB)\n",
            "\u001b[2K   \u001b[90m━━━━━━━━━━━━━━━━━━━━━━━━━━━━━━━━━━━━━━━━\u001b[0m \u001b[32m1.7/1.7 MB\u001b[0m \u001b[31m63.2 MB/s\u001b[0m eta \u001b[36m0:00:00\u001b[0m\n",
            "\u001b[?25hDownloading click_option_group-0.5.7-py3-none-any.whl (11 kB)\n",
            "Downloading fs-2.4.16-py2.py3-none-any.whl (135 kB)\n",
            "Downloading nvidia_ml_py-12.570.86-py3-none-any.whl (44 kB)\n",
            "Downloading pathspec-0.12.1-py3-none-any.whl (31 kB)\n",
            "Downloading psutil-7.0.0-cp36-abi3-manylinux_2_12_x86_64.manylinux2010_x86_64.manylinux_2_17_x86_64.manylinux2014_x86_64.whl (277 kB)\n",
            "Downloading python_json_logger-3.3.0-py3-none-any.whl (15 kB)\n",
            "Downloading python_multipart-0.0.20-py3-none-any.whl (24 kB)\n",
            "Downloading schema-0.7.7-py2.py3-none-any.whl (18 kB)\n",
            "Downloading tomli_w-1.2.0-py3-none-any.whl (6.7 kB)\n",
            "Downloading aiohappyeyeballs-2.6.1-py3-none-any.whl (15 kB)\n",
            "Downloading aiosignal-1.3.2-py2.py3-none-any.whl (7.6 kB)\n",
            "Downloading anyio-4.9.0-py3-none-any.whl (100 kB)\n",
            "Downloading appdirs-1.4.4-py2.py3-none-any.whl (9.6 kB)\n",
            "Downloading asgiref-3.8.1-py3-none-any.whl (23 kB)\n",
            "Downloading commonmark-0.9.1-py2.py3-none-any.whl (51 kB)\n",
            "Downloading Deprecated-1.2.18-py2.py3-none-any.whl (10.0 kB)\n",
            "Downloading frozenlist-1.6.0-cp312-cp312-manylinux_2_5_x86_64.manylinux1_x86_64.manylinux_2_17_x86_64.manylinux2014_x86_64.whl (316 kB)\n",
            "Downloading h11-0.14.0-py3-none-any.whl (58 kB)\n",
            "Downloading idna-3.10-py3-none-any.whl (70 kB)\n",
            "Downloading importlib_metadata-8.6.1-py3-none-any.whl (26 kB)\n",
            "Downloading MarkupSafe-3.0.2-cp312-cp312-manylinux_2_17_x86_64.manylinux2014_x86_64.whl (23 kB)\n",
            "Downloading multidict-6.4.3-cp312-cp312-manylinux_2_17_x86_64.manylinux2014_x86_64.whl (223 kB)\n",
            "Downloading prompt_toolkit-3.0.51-py3-none-any.whl (387 kB)\n",
            "Downloading propcache-0.3.1-cp312-cp312-manylinux_2_17_x86_64.manylinux2014_x86_64.whl (245 kB)\n",
            "Downloading pygments-2.19.1-py3-none-any.whl (1.2 MB)\n",
            "\u001b[2K   \u001b[90m━━━━━━━━━━━━━━━━━━━━━━━━━━━━━━━━━━━━━━━━\u001b[0m \u001b[32m1.2/1.2 MB\u001b[0m \u001b[31m58.7 MB/s\u001b[0m eta \u001b[36m0:00:00\u001b[0m\n",
            "\u001b[?25hDownloading pyzmq-26.4.0-cp312-cp312-manylinux_2_28_x86_64.whl (855 kB)\n",
            "\u001b[2K   \u001b[90m━━━━━━━━━━━━━━━━━━━━━━━━━━━━━━━━━━━━━━━━\u001b[0m \u001b[32m855.9/855.9 kB\u001b[0m \u001b[31m42.3 MB/s\u001b[0m eta \u001b[36m0:00:00\u001b[0m\n",
            "\u001b[?25hDownloading requests-2.32.3-py3-none-any.whl (64 kB)\n",
            "Downloading certifi-2025.1.31-py3-none-any.whl (166 kB)\n",
            "Downloading six-1.17.0-py2.py3-none-any.whl (11 kB)\n",
            "Downloading tornado-6.4.2-cp38-abi3-manylinux_2_5_x86_64.manylinux1_x86_64.manylinux_2_17_x86_64.manylinux2014_x86_64.whl (437 kB)\n",
            "Downloading urllib3-2.0.7-py3-none-any.whl (124 kB)\n",
            "Downloading wrapt-1.17.2-cp312-cp312-manylinux_2_5_x86_64.manylinux1_x86_64.manylinux_2_17_x86_64.manylinux2014_x86_64.whl (89 kB)\n",
            "Downloading yarl-1.20.0-cp312-cp312-manylinux_2_17_x86_64.manylinux2014_x86_64.whl (349 kB)\n",
            "Downloading pyparsing-3.2.3-py3-none-any.whl (111 kB)\n",
            "Downloading wsproto-1.2.0-py3-none-any.whl (24 kB)\n",
            "Downloading charset_normalizer-3.4.1-cp312-cp312-manylinux_2_17_x86_64.manylinux2014_x86_64.whl (145 kB)\n",
            "Downloading sniffio-1.3.1-py3-none-any.whl (10 kB)\n",
            "Downloading zipp-3.21.0-py3-none-any.whl (9.6 kB)\n",
            "Downloading wcwidth-0.2.13-py2.py3-none-any.whl (34 kB)\n",
            "Installing collected packages: wcwidth, schema, nvidia-ml-py, commonmark, appdirs, zipp, wrapt, urllib3, typing-extensions, tornado, tomli-w, threadpoolctl, sniffio, six, simple-term-menu, simple-di, semantic-version, pyzmq, PYYAML, python-multipart, python-json-logger, python-dotenv, pyparsing, pygments, psutil, propcache, prompt_toolkit, prometheus-client, pathspec, packaging, opentelemetry-util-http, numpy, multidict, MarkupSafe, joblib, jmespath, idna, h11, frozenlist, cloudpickle, click, charset-normalizer, certifi, cerberus, attrs, asgiref, annotated-types, aiohappyeyeballs, a2wsgi, yarl, wsproto, uvicorn, scipy, rich, requests, questionary, python-dateutil, pydantic_core, pip-requirements-parser, kantoku, jinja2, importlib-metadata, httpcore, fs, deprecated, click-option-group, cattrs, anyio, aiosqlite, aiosignal, watchfiles, starlette, scikit-learn, pydantic, opentelemetry-api, httpx, docker, botocore, aiohttp, s3transfer, opentelemetry-semantic-conventions, httpx-ws, opentelemetry-sdk, opentelemetry-instrumentation, boto3, opentelemetry-instrumentation-asgi, opentelemetry-instrumentation-aiohttp-client, bentoml, bentoctl\n",
            "Successfully installed MarkupSafe-3.0.2 PYYAML-6.0.2 a2wsgi-1.10.8 aiohappyeyeballs-2.6.1 aiohttp-3.11.18 aiosignal-1.3.2 aiosqlite-0.21.0 annotated-types-0.7.0 anyio-4.9.0 appdirs-1.4.4 asgiref-3.8.1 attrs-25.3.0 bentoctl-0.4.0 bentoml-1.4.10 boto3-1.29.0 botocore-1.32.7 cattrs-23.1.2 cerberus-1.3.7 certifi-2025.1.31 charset-normalizer-3.4.1 click-8.1.8 click-option-group-0.5.7 cloudpickle-3.1.1 commonmark-0.9.1 deprecated-1.2.18 docker-7.1.0 frozenlist-1.6.0 fs-2.4.16 h11-0.14.0 httpcore-1.0.8 httpx-0.28.1 httpx-ws-0.7.2 idna-3.10 importlib-metadata-8.6.1 jinja2-3.1.6 jmespath-1.0.1 joblib-1.4.2 kantoku-0.18.3 multidict-6.4.3 numpy-1.26.2 nvidia-ml-py-12.570.86 opentelemetry-api-1.32.1 opentelemetry-instrumentation-0.53b1 opentelemetry-instrumentation-aiohttp-client-0.53b1 opentelemetry-instrumentation-asgi-0.53b1 opentelemetry-sdk-1.32.1 opentelemetry-semantic-conventions-0.53b1 opentelemetry-util-http-0.53b1 packaging-25.0 pathspec-0.12.1 pip-requirements-parser-32.0.1 prometheus-client-0.21.1 prompt_toolkit-3.0.51 propcache-0.3.1 psutil-7.0.0 pydantic-2.5.1 pydantic_core-2.14.3 pygments-2.19.1 pyparsing-3.2.3 python-dateutil-2.9.0.post0 python-dotenv-1.1.0 python-json-logger-3.3.0 python-multipart-0.0.20 pyzmq-26.4.0 questionary-2.1.0 requests-2.32.3 rich-12.6.0 s3transfer-0.7.0 schema-0.7.7 scikit-learn-1.3.2 scipy-1.15.2 semantic-version-2.10.0 simple-di-0.1.5 simple-term-menu-0.4.4 six-1.17.0 sniffio-1.3.1 starlette-0.46.2 threadpoolctl-3.6.0 tomli-w-1.2.0 tornado-6.4.2 typing-extensions-4.13.2 urllib3-2.0.7 uvicorn-0.34.2 watchfiles-1.0.5 wcwidth-0.2.13 wrapt-1.17.2 wsproto-1.2.0 yarl-1.20.0 zipp-3.21.0\n"
          ]
        }
      ]
    },
    {
      "cell_type": "code",
      "source": [
        "!source activate ./venv; pip show cattrs # (檢視) Version: 23.1.2"
      ],
      "metadata": {
        "collapsed": true,
        "colab": {
          "base_uri": "https://localhost:8080/"
        },
        "id": "-zzCvuEkSxxy",
        "outputId": "53b0fffd-dba6-4962-d00c-b94d6a9eff93"
      },
      "execution_count": 6,
      "outputs": [
        {
          "output_type": "stream",
          "name": "stdout",
          "text": [
            "Name: cattrs\n",
            "Version: 23.1.2\n",
            "Summary: Composable complex class support for attrs and dataclasses.\n",
            "Home-page: https://github.com/python-attrs/cattrs\n",
            "Author: Tin Tvrtkovic\n",
            "Author-email: tinchester@gmail.com\n",
            "License: MIT\n",
            "Location: /content/venv/lib/python3.12/site-packages\n",
            "Requires: attrs\n",
            "Required-by: bentoml\n"
          ]
        }
      ]
    },
    {
      "cell_type": "code",
      "source": [
        "%%writefile create_model.py\n",
        "import bentoml\n",
        "\n",
        "from sklearn import datasets\n",
        "from sklearn import svm\n",
        "\n",
        "iris = datasets.load_iris()\n",
        "X, y = iris.data, iris.target\n",
        "\n",
        "clf = svm.SVC(gamma=\"scale\")\n",
        "clf.fit(X, y)\n",
        "\n",
        "saved_model = bentoml.sklearn.save_model(\"iris_clf\", clf)\n",
        "print(saved_model)"
      ],
      "metadata": {
        "id": "g-8ztj7aUTdg"
      },
      "execution_count": null,
      "outputs": []
    },
    {
      "cell_type": "code",
      "source": [
        "!source activate ./venv; python create_model.py"
      ],
      "metadata": {
        "colab": {
          "base_uri": "https://localhost:8080/"
        },
        "id": "tLV6hHEtTDgG",
        "outputId": "ffeb6fc0-3d4d-47d2-ccb6-ca7ecbad09b6"
      },
      "execution_count": 7,
      "outputs": [
        {
          "output_type": "stream",
          "name": "stdout",
          "text": [
            "Model(tag=\"iris_clf:mnabqvralgwzmasc\")\n"
          ]
        }
      ]
    },
    {
      "cell_type": "code",
      "source": [
        "!source activate ./venv; bentoml models list"
      ],
      "metadata": {
        "colab": {
          "base_uri": "https://localhost:8080/"
        },
        "id": "o-nUr4q3T7aO",
        "outputId": "9ec4da5c-bf09-4267-cf5f-75df4d31329b"
      },
      "execution_count": 8,
      "outputs": [
        {
          "output_type": "stream",
          "name": "stdout",
          "text": [
            "\u001b[1m \u001b[0m\u001b[1mTag                      \u001b[0m\u001b[1m \u001b[0m\u001b[1m \u001b[0m\u001b[1mModule         \u001b[0m\u001b[1m \u001b[0m\u001b[1m \u001b[0m\u001b[1mSize    \u001b[0m\u001b[1m \u001b[0m\u001b[1m \u001b[0m\u001b[1mCreation Time      \u001b[0m\u001b[1m \u001b[0m\n",
            " iris_clf:mnabqvralgwzmasc  bentoml.sklearn  5.98 KiB  2025-04-23 15:41:13 \n"
          ]
        }
      ]
    },
    {
      "cell_type": "code",
      "source": [
        "%%writefile service.py\n",
        "from typing import Literal\n",
        "\n",
        "import bentoml\n",
        "\n",
        "from pydantic import BaseModel\n",
        "from bentoml.io import JSON\n",
        "\n",
        "\n",
        "iris_clf_runner = bentoml.sklearn.get(\"iris_clf:latest\").to_runner()\n",
        "\n",
        "svc = bentoml.Service(\"iris_classifier\", runners=[iris_clf_runner])\n",
        "\n",
        "class Request(BaseModel):\n",
        "    sepal_width: float\n",
        "    sepal_length: float\n",
        "    petal_width: float\n",
        "    petal_length: float\n",
        "\n",
        "class Response(BaseModel):\n",
        "    label: Literal[\"setosa\", \"versicolor\", \"virginica\"]\n",
        "\n",
        "\n",
        "@svc.api(input=JSON(pydantic_model=Request), output=JSON(pydantic_model=Response))\n",
        "def classify(request: Request) -> Response:\n",
        "    input_ = [\n",
        "        request.sepal_width,\n",
        "        request.sepal_length,\n",
        "        request.petal_width,\n",
        "        request.petal_length,\n",
        "    ]\n",
        "\n",
        "    label_index = iris_clf_runner.predict.run([input_])[0]\n",
        "    label = [\"setosa\", \"versicolor\", \"virginica\"][label_index]\n",
        "\n",
        "    return Response(label=label)"
      ],
      "metadata": {
        "colab": {
          "base_uri": "https://localhost:8080/"
        },
        "id": "K18Es4mAUIV3",
        "outputId": "ea764214-5e9b-458f-feb0-6152edf2b192"
      },
      "execution_count": 9,
      "outputs": [
        {
          "output_type": "stream",
          "name": "stdout",
          "text": [
            "Writing service.py\n"
          ]
        }
      ]
    },
    {
      "cell_type": "code",
      "source": [
        "%%writefile bentofile.yaml\n",
        "service: \"service:svc\"\n",
        "include:\n",
        "- \"service.py\"\n",
        "python:\n",
        "  packages:\n",
        "  - pydantic\n",
        "  - scikit-learn\n",
        "models:\n",
        "- iris_clf:latest"
      ],
      "metadata": {
        "colab": {
          "base_uri": "https://localhost:8080/"
        },
        "id": "mlhI0AftUhwk",
        "outputId": "fa71fc87-8b3d-49f6-ce34-ccab763cc843"
      },
      "execution_count": 10,
      "outputs": [
        {
          "output_type": "stream",
          "name": "stdout",
          "text": [
            "Writing bentofile.yaml\n"
          ]
        }
      ]
    },
    {
      "cell_type": "code",
      "source": [
        "!source activate ./venv; bentoml build"
      ],
      "metadata": {
        "colab": {
          "base_uri": "https://localhost:8080/"
        },
        "id": "mB8pi2a3UuKo",
        "outputId": "20beee1a-a829-404e-e173-d4fc596807a6"
      },
      "execution_count": 11,
      "outputs": [
        {
          "output_type": "stream",
          "name": "stdout",
          "text": [
            "/content/venv/lib/python3.12/site-packages/bentoml/io.py:7: BentoMLDeprecationWarning: `bentoml.io` is deprecated since BentoML v1.4 and will be removed in a future version. Please upgrade to new style IO types instead.\n",
            "  warn_deprecated(\n",
            "/content/venv/lib/python3.12/site-packages/bentoml/_internal/models/model.py:367: BentoMLDeprecationWarning: `get_runnable` is deprecated since BentoML v1.4 and will be removed in a future version. Use `get_service` instead.\n",
            "  self._runnable = self.info.imported_module.get_runnable(self)\n",
            "/content/venv/lib/python3.12/site-packages/bentoml/_internal/models/model.py:354: BentoMLDeprecationWarning: `Runner` is deprecated since BentoML v1.4 and will be removed in a future version. Please upgrade to new style services.\n",
            "  return Runner(\n",
            "/content/service.py:11: BentoMLDeprecationWarning: `bentoml.Service` is deprecated since BentoML v1.4 and will be removed in a future version. Please upgrade to @bentoml.service().\n",
            "  svc = bentoml.Service(\"iris_classifier\", runners=[iris_clf_runner])\n",
            "INFO: Adding current BentoML version to requirements.txt: bentoml==1.4.10\n",
            "INFO: Locking PyPI package versions.\n",
            "\n",
            "██████╗ ███████╗███╗   ██╗████████╗ ██████╗ ███╗   ███╗██╗\n",
            "██╔══██╗██╔════╝████╗  ██║╚══██╔══╝██╔═══██╗████╗ ████║██║\n",
            "██████╔╝█████╗  ██╔██╗ ██║   ██║   ██║   ██║██╔████╔██║██║\n",
            "██╔══██╗██╔══╝  ██║╚██╗██║   ██║   ██║   ██║██║╚██╔╝██║██║\n",
            "██████╔╝███████╗██║ ╚████║   ██║   ╚██████╔╝██║ ╚═╝ ██║███████╗\n",
            "╚═════╝ ╚══════╝╚═╝  ╚═══╝   ╚═╝    ╚═════╝ ╚═╝     ╚═╝╚══════╝\n",
            "\n",
            "\u001b[32mSuccessfully built \u001b[0m\u001b[1;32mBento\u001b[0m\u001b[1;32m(\u001b[0m\u001b[32mtag\u001b[0m\u001b[32m=\u001b[0m\u001b[32m\"iris_classifier\u001b[0m\u001b[32m:6tvcmpralghckasc\"\u001b[0m\u001b[1;32m)\u001b[0m\u001b[32m.\u001b[0m\n",
            "\n",
            "\u001b[34mNext steps: \u001b[0m\n",
            "\n",
            "\u001b[34m* Deploy to BentoCloud:\u001b[0m\n",
            "\u001b[34m    $ bentoml deploy iris_classifier:6tvcmpralghckasc -n $\u001b[0m\u001b[1;34m{\u001b[0m\u001b[34mDEPLOYMENT_NAME\u001b[0m\u001b[1;34m}\u001b[0m\n",
            "\n",
            "\u001b[34m* Update an existing deployment on BentoCloud:\u001b[0m\n",
            "\u001b[34m    $ bentoml deployment update --bento iris_classifier:6tvcmpralghckasc \u001b[0m\n",
            "\u001b[34m$\u001b[0m\u001b[1;34m{\u001b[0m\u001b[34mDEPLOYMENT_NAME\u001b[0m\u001b[1;34m}\u001b[0m\n",
            "\n",
            "\u001b[34m* Containerize your Bento with `bentoml containerize`:\u001b[0m\n",
            "\u001b[34m    $ bentoml containerize iris_classifier:6tvcmpralghckasc \u001b[0m\n",
            "\n",
            "\u001b[34m* Push to BentoCloud with `bentoml push`:\u001b[0m\n",
            "\u001b[34m    $ bentoml push iris_classifier:6tvcmpralghckasc \u001b[0m\n"
          ]
        }
      ]
    },
    {
      "cell_type": "code",
      "source": [
        "!source activate ./venv; bentoml list"
      ],
      "metadata": {
        "colab": {
          "base_uri": "https://localhost:8080/"
        },
        "id": "pz5yApLCU6bb",
        "outputId": "f82042f5-212c-4753-b03f-08895e3995ba"
      },
      "execution_count": 12,
      "outputs": [
        {
          "output_type": "stream",
          "name": "stdout",
          "text": [
            "\u001b[1m \u001b[0m\u001b[1mTag                             \u001b[0m\u001b[1m \u001b[0m\u001b[1m \u001b[0m\u001b[1mSize     \u001b[0m\u001b[1m \u001b[0m\u001b[1m \u001b[0m\u001b[1mModel Size\u001b[0m\u001b[1m \u001b[0m\u001b[1m \u001b[0m\u001b[1mCreation Time      \u001b[0m\u001b[1m \u001b[0m\n",
            " iris_classifier:6tvcmpralghckasc  19.07 KiB  5.98 KiB    2025-04-23 15:45:20 \n"
          ]
        }
      ]
    },
    {
      "cell_type": "markdown",
      "source": [
        "# 參考"
      ],
      "metadata": {
        "id": "B_GeIVzMv_lf"
      }
    },
    {
      "cell_type": "markdown",
      "source": [
        "* 註 1 : [Sklearn中Pipeline的用法介绍](https://blog.csdn.net/WHYbeHERE/article/details/125074001)\n",
        "\n",
        "* 參 1 : [BentoML Explained: An Optimal Model Serving Framework](https://www.axelmendoza.com/posts/bentoml-core-concepts-and-features/)\n",
        "\n",
        "* 參 2 : [BentoML Example: Sentiment Analysis with Scikit-learn (Notebook on Google Colab)](https://colab.research.google.com/github/bentoml/gallery/blob/0.13-LTS/scikit-learn/sentiment-analysis/sklearn-sentiment-analysis.ipynb)\n",
        "\n",
        "* 參 3 : [BentoML模型部署--稀土掘金](https://juejin.cn/post/7231432555320016955)\n",
        "\n",
        "* 參 4 : [快速入门统一模型部署（Model Serving）框架 BentoML](https://zhuanlan.zhihu.com/p/495814838)～與參三基本相同，但有較多註釋。\n",
        "\n",
        "* 參 5: [BentoML SageMaker deployment -- Youtube](https://www.youtube.com/watch?v=Zci_D4az9FU)\n",
        "\n"
      ],
      "metadata": {
        "id": "2Re3wPrCwCM5"
      }
    },
    {
      "cell_type": "code",
      "source": [],
      "metadata": {
        "id": "iXX25acJwBgd"
      },
      "execution_count": null,
      "outputs": []
    }
  ],
  "metadata": {
    "kernelspec": {
      "display_name": "Python 3.8.9 64-bit",
      "language": "python",
      "name": "python3"
    },
    "language_info": {
      "name": "python",
      "version": "3.8.9"
    },
    "orig_nbformat": 4,
    "vscode": {
      "interpreter": {
        "hash": "19474b377433e26681bec06910cb7c945afa2d39e50483569fb199d272b8a48a"
      }
    },
    "colab": {
      "provenance": [],
      "include_colab_link": true
    }
  },
  "nbformat": 4,
  "nbformat_minor": 0
}