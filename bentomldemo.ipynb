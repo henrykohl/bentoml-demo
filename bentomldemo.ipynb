{
 "cells": [
  {
   "cell_type": "markdown",
   "metadata": {},
   "source": [
    "# Virtual Environment Configuration"
   ]
  },
  {
   "cell_type": "code",
   "execution_count": null,
   "metadata": {},
   "outputs": [],
   "source": [
    "!pip install -q condacolab\n",
    "import condacolab\n",
    "condacolab.install()"
   ]
  },
  {
   "cell_type": "code",
   "execution_count": null,
   "metadata": {},
   "outputs": [],
   "source": [
    "!conda create -p env python=3.8 -y"
   ]
  },
  {
   "cell_type": "code",
   "execution_count": null,
   "metadata": {},
   "outputs": [],
   "source": [
    "!source activate ./env; pip install bentoml --quiet\n",
    "# !source activate ./env; pip install bentoml -U --quiet "
   ]
  },
  {
   "cell_type": "code",
   "execution_count": null,
   "metadata": {},
   "outputs": [],
   "source": [
    "!source activate ./env; pip install -U scikit-learn scipy matplotlib --quiet"
   ]
  },
  {
   "cell_type": "markdown",
   "metadata": {},
   "source": [
    "# BentoML implementation on Colab"
   ]
  },
  {
   "cell_type": "code",
   "execution_count": null,
   "metadata": {},
   "outputs": [],
   "source": [
    "%%writefile requirements.txt\n",
    "\n",
    "bentoml==1.0.25\n",
    "scikit-learn\n",
    "cattrs==23.1.1"
   ]
  },
  {
   "cell_type": "code",
   "execution_count": null,
   "metadata": {},
   "outputs": [],
   "source": [
    "!source activate ./env; pip install -r requirements.txt"
   ]
  },
  {
   "cell_type": "code",
   "execution_count": null,
   "metadata": {},
   "outputs": [],
   "source": [
    "%%writefile bento_train.py\n",
    "\n",
    "import bentoml\n",
    "\n",
    "from sklearn.datasets import load_iris\n",
    "from sklearn.neighbors import KNeighborsClassifier\n",
    "\n",
    "model = KNeighborsClassifier()\n",
    "iris = load_iris()\n",
    "X = iris.data[:, :4]\n",
    "Y = iris.target\n",
    "model.fit(X, Y)\n",
    "\n",
    "bento_model = bentoml.sklearn.save_model('kneighbors', model)\n",
    "print(f\"Model saved: {bento_model}\")"
   ]
  },
  {
   "cell_type": "code",
   "execution_count": null,
   "metadata": {},
   "outputs": [],
   "source": [
    "!source activate ./env; python bento_train.py"
   ]
  },
  {
   "cell_type": "code",
   "execution_count": null,
   "metadata": {},
   "outputs": [],
   "source": [
    "%%writefile bento_cmd.txt\n",
    "\n",
    "bentoml==1.0.25\n",
    "scikit-learn\n",
    "cattrs==23.1.1"
   ]
  },
  {
   "cell_type": "code",
   "execution_count": null,
   "metadata": {},
   "outputs": [],
   "source": [
    "%%writefile bento_test.py \n",
    "\n",
    "import bentoml\n",
    "\n",
    "clf = bentoml.sklearn.get('kneighbors:latest').to_runner()\n",
    "clf.init_local()\n",
    "print(clf.predict.run([[2,3,4,5]]))"
   ]
  },
  {
   "cell_type": "code",
   "execution_count": null,
   "metadata": {},
   "outputs": [],
   "source": [
    "!source activate ./env; python bento_test.py"
   ]
  },
  {
   "cell_type": "code",
   "execution_count": null,
   "metadata": {},
   "outputs": [],
   "source": [
    "%%writefile service.py\n",
    "\n",
    "import bentoml\n",
    "import numpy as np\n",
    "from bentoml.io import NumpyNdarry\n",
    "\n",
    "clg = bentoml.sklearn.get('kneighbors:latest').to_runner()\n",
    "\n",
    "service = bentoml.Service(\"kneighbors\", runners=[clf])\n",
    "\n",
    "# Create an API function\n",
    "@service.api(input=NumpyNdarray(), output=NumpyNdarray())\n",
    "def predict(input_series: np.ndarray) -> np.ndaray:\n",
    "\n",
    "  result = clf.predict.run(input_series)\n",
    "\n",
    "  return result"
   ]
  },
  {
   "cell_type": "code",
   "execution_count": null,
   "metadata": {},
   "outputs": [],
   "source": [
    "!source activate ./env; bentoml serve service.py:service --reload"
   ]
  },
  {
   "cell_type": "code",
   "execution_count": null,
   "metadata": {},
   "outputs": [],
   "source": [
    "%%writefile bentofile.yaml\n",
    "\n",
    "service: \"service.py:service\"  # Same as the argument passed to `bentoml serve`\n",
    "labels:\n",
    "    owner: bentoml-team\n",
    "    project: gallery\n",
    "include:\n",
    "- \"*.py\"  # A pattern for matching which files to include in the bento\n",
    "python:\n",
    "    packages:  # Additional pip packages required by the service\n",
    "    - scikit-learn\n",
    "    - pandas"
   ]
  },
  {
   "cell_type": "code",
   "execution_count": null,
   "metadata": {},
   "outputs": [],
   "source": [
    "!source activate ./env; bentoml build"
   ]
  }
 ],
 "metadata": {
  "kernelspec": {
   "display_name": "Python 3.8.9 64-bit",
   "language": "python",
   "name": "python3"
  },
  "language_info": {
   "name": "python",
   "version": "3.8.9"
  },
  "orig_nbformat": 4,
  "vscode": {
   "interpreter": {
    "hash": "19474b377433e26681bec06910cb7c945afa2d39e50483569fb199d272b8a48a"
   }
  }
 },
 "nbformat": 4,
 "nbformat_minor": 2
}
